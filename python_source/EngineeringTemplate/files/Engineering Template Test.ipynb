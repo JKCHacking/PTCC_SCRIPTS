{
 "cells": [
  {
   "cell_type": "code",
   "execution_count": 1,
   "id": "fifteen-elite",
   "metadata": {},
   "outputs": [],
   "source": [
    "import os\n",
    "import sys\n",
    "\n",
    "PTCC_MODULE_LOCAL = \"H:\\\\Desktop\\\\PTCC_SCRIPTS\\\\python_source\\\\EngineeringTemplate\\\\src\"\n",
    "if PTCC_MODULE_LOCAL not in sys.path:\n",
    "    sys.path.append(PTCC_MODULE_LOCAL)\n"
   ]
  },
  {
   "cell_type": "code",
   "execution_count": 2,
   "id": "threaded-setting",
   "metadata": {},
   "outputs": [],
   "source": [
    "EQUATION_ANNOTATION_SPACE = 2\n",
    "FONT_NAME = \"san-serif\"\n",
    "FONT_SIZE = 12\n",
    "\n",
    "IMAGE_FOLDER_NAME = \"PPPP-CSXX 100 DRAWINGS\""
   ]
  },
  {
   "cell_type": "code",
   "execution_count": 3,
   "id": "welcome-divorce",
   "metadata": {},
   "outputs": [
    {
     "data": {
      "text/html": [
       "<style>.eq_cell {vertical-align:top;text-align:left;font-family:san-serif, Arial;font-size: 12pt;}.annot_cell {text-align:left;font-family:san-serif, Arial;}.primary_annot {font-size: 12pt;}.secondary_annot {font-size: 12pt;font-style: italic;}.tbl_eq_row {display: table-row;}.tbl_eq_cell {display: table-cell;}</style>"
      ],
      "text/plain": [
       "<IPython.core.display.HTML object>"
      ]
     },
     "metadata": {},
     "output_type": "display_data"
    },
    {
     "data": {
      "text/html": [
       "<style>.horizontal {display:inline-block; padding-right:6px} .vertical{padding-bottom:6px;}</style>"
      ],
      "text/plain": [
       "<IPython.core.display.HTML object>"
      ]
     },
     "metadata": {},
     "output_type": "display_data"
    },
    {
     "data": {
      "text/html": [
       "<style> .rendered_html td, .rendered_html th {text-align:center;}</style>"
      ],
      "text/plain": [
       "<IPython.core.display.HTML object>"
      ]
     },
     "metadata": {},
     "output_type": "display_data"
    },
    {
     "data": {
      "text/html": [
       "\n",
       "            <script>\n",
       "                function code_toggle_3710134563334157132() {\n",
       "                    $('div.cell.code_cell.rendered.selected').find('div.input').toggle();\n",
       "                }\n",
       "\n",
       "                \n",
       "            </script>\n",
       "\n",
       "            <a href=\"javascript:code_toggle_3710134563334157132()\">Toggle show/hide</a>\n",
       "        "
      ],
      "text/plain": [
       "<IPython.core.display.HTML object>"
      ]
     },
     "execution_count": 3,
     "metadata": {},
     "output_type": "execute_result"
    }
   ],
   "source": [
    "from ptcc_module import EquationWriter, CustomDisplay, TextWriter, ImageWriter, TableWriter, GraphWriter\n",
    "\n",
    "%matplotlib inline\n",
    "\n",
    "eq_writer = EquationWriter(EQUATION_ANNOTATION_SPACE, FONT_NAME, FONT_SIZE)\n",
    "eq_writer.setup_css()\n",
    "EquationNamespace = eq_writer.equation_namespace\n",
    "Equation = eq_writer.define\n",
    "\n",
    "text_writer = TextWriter(FONT_NAME, FONT_SIZE)\n",
    "Text = text_writer.define\n",
    "Hspace = text_writer.create_hspace\n",
    "Vspace = text_writer.create_vspace\n",
    "\n",
    "image_writer = ImageWriter(IMAGE_FOLDER_NAME)\n",
    "image_writer.setup_css()\n",
    "Image_Reference = image_writer.define\n",
    "\n",
    "tbl_writer = TableWriter()\n",
    "tbl_writer.setup_css()\n",
    "Data_Cell = tbl_writer.data_cell\n",
    "Header_Cell = tbl_writer.header_cell\n",
    "Caption = tbl_writer.define_caption\n",
    "Column = tbl_writer.define_column\n",
    "Data = tbl_writer.define_data\n",
    "\n",
    "graph_writer = GraphWriter()\n",
    "Subplots = graph_writer.create_subplots\n",
    "Plot = graph_writer.create_plot\n",
    "SetAxisInfo = graph_writer.set_axis\n",
    "\n",
    "c_disp = CustomDisplay(eq_writer, text_writer, image_writer, tbl_writer)\n",
    "Show = c_disp.show\n",
    "Hide_Cell = c_disp.hide_toggle\n",
    "\n",
    "Hide_Cell()"
   ]
  },
  {
   "cell_type": "code",
   "execution_count": 4,
   "id": "front-flower",
   "metadata": {
    "scrolled": true
   },
   "outputs": [
    {
     "data": {
      "text/markdown": [
       "<div class='tbl_eq_row'><div class='tbl_eq_cell eq_cell'>$x = 10 \\cdot \\text{cm}$</div><div class='tbl_eq_cell'>$\\hspace{2in}$</div><div class='tbl_eq_cell annot_cell'><div class='primary_annot'>HELLO</div><div class='secondary_annot'></div></div></div><div class='tbl_eq_row'><div class='tbl_eq_cell eq_cell'>$w = 5 \\cdot \\text{mm}$</div><div class='tbl_eq_cell'>$\\hspace{2in}$</div><div class='tbl_eq_cell annot_cell'><div class='primary_annot'>WORLD</div><div class='secondary_annot'></div></div></div><div class='tbl_eq_row'><div class='tbl_eq_cell eq_cell'>$y = z + \\frac{x}{w}$</div><div class='tbl_eq_cell'>$\\hspace{2in}$</div><div class='tbl_eq_cell annot_cell'><div class='primary_annot'>PRIMARY ANNOTATION</div><div class='secondary_annot'>SECONDARY ANNOTATION</div></div></div><div class='tbl_eq_row'><div class='tbl_eq_cell eq_cell'>$y = \\frac{2.0 \\cdot \\text{cm}}{\\text{mm}} + z$</div><div class='tbl_eq_cell'>$\\hspace{2in}$</div><div class='tbl_eq_cell annot_cell'><div class='primary_annot'></div><div class='secondary_annot'></div></div></div><table><caption></caption><thead></thead><tbody></tbody></table>"
      ],
      "text/plain": [
       "<IPython.core.display.Markdown object>"
      ]
     },
     "metadata": {},
     "output_type": "display_data"
    }
   ],
   "source": [
    "Equation(\"x = 10\", pref_unit=\"cm\", annots=[\"HELLO\"])\n",
    "Equation(\"w = 5\", pref_unit=\"mm\", annots=[\"WORLD\"])\n",
    "Equation(\"y = x / w + z\", evaluate=True, annots=[\"PRIMARY ANNOTATION\", \"SECONDARY ANNOTATION\"])\n",
    "Show()"
   ]
  },
  {
   "cell_type": "code",
   "execution_count": 5,
   "id": "written-vermont",
   "metadata": {},
   "outputs": [
    {
     "data": {
      "text/markdown": [
       "<div style='font-family:san-serif, Arial; font-size:12pt; font-style:normal;font-weight:normal;text-decoration:normal;text-align:left;'> LEFT</div><div style='font-family:san-serif, Arial; font-size:12pt; font-style:normal;font-weight:normal;text-decoration:normal;text-align:center;'> CENTER</div><div style='font-family:san-serif, Arial; font-size:12pt; font-style:normal;font-weight:normal;text-decoration:normal;text-align:right;'> RIGHT</div><div style='font-family:san-serif, Arial; font-size:12pt; font-style:normal;font-weight:bold;text-decoration:normal;text-align:left;'> BOLD</div><div style='font-family:san-serif, Arial; font-size:12pt; font-style:italic;font-weight:normal;text-decoration:normal;text-align:left;'> ITALIC</div><div style='font-family:san-serif, Arial; font-size:12pt; font-style:normal;font-weight:normal;text-decoration:underline;text-align:left;'> UNDERLINE</div><div style='font-family:san-serif, Arial; font-size:12pt; font-style:italic;font-weight:bold;text-decoration:underline;text-align:left;'> BOLD ITALIC UNDERLINE</div><div style='float:left;overflow:hidden;height:1px;width:2in;'></div><div style='font-family:san-serif, Arial; font-size:12pt; font-style:normal;font-weight:normal;text-decoration:normal;text-align:left;'> Horizontal space of 2in</div><div style='float:left;overflow:hidden;height:2in;width:100%;'></div><div style='font-family:san-serif, Arial; font-size:12pt; font-style:normal;font-weight:normal;text-decoration:normal;text-align:left;'> Vertical space of 2in</div><table><caption></caption><thead></thead><tbody></tbody></table>"
      ],
      "text/plain": [
       "<IPython.core.display.Markdown object>"
      ]
     },
     "metadata": {},
     "output_type": "display_data"
    }
   ],
   "source": [
    "Text(\"LEFT\")\n",
    "Text(\"CENTER\", text_position=\"center\")\n",
    "Text(\"RIGHT\", text_position=\"right\")\n",
    "Text(\"BOLD\", bold=True)\n",
    "Text(\"ITALIC\", italic=True)\n",
    "Text(\"UNDERLINE\", underline=True)\n",
    "Text(\"BOLD ITALIC UNDERLINE\", bold=True, italic=True, underline=True)\n",
    "\n",
    "Hspace(2) \n",
    "Text(\"Horizontal space of 2in\")\n",
    "Vspace(2)\n",
    "Text(\"Vertical space of 2in\")\n",
    "Show()"
   ]
  },
  {
   "cell_type": "code",
   "execution_count": 6,
   "id": "heated-software",
   "metadata": {},
   "outputs": [
    {
     "data": {
      "text/markdown": [
       "<div class='vertical'><figure><img src='PPPP-CSXX 100 DRAWINGS\\1.01 SEAL 01.jpg' width='300px' height='300px' alt='missing jpg'><figcaption>caption 1</figcaption></figure></div><div class='vertical'><figure><img src='PPPP-CSXX 100 DRAWINGS\\2.01 IGU 1.png' width='300px' height='300px' alt='missing jpg'><figcaption>caption 2</figcaption></figure></div><table><caption></caption><thead></thead><tbody></tbody></table>"
      ],
      "text/plain": [
       "<IPython.core.display.Markdown object>"
      ]
     },
     "metadata": {},
     "output_type": "display_data"
    }
   ],
   "source": [
    "Image_Reference(image_names=[\"1.01 SEAL 01.jpg\", \"2.01 IGU 1.png\"], \n",
    "                captions=[\"caption 1\", \"caption 2\"], \n",
    "                width=300, \n",
    "                height=300,\n",
    "                layout=\"vertical\")\n",
    "Show()"
   ]
  },
  {
   "cell_type": "code",
   "execution_count": 7,
   "id": "technical-sandwich",
   "metadata": {},
   "outputs": [
    {
     "data": {
      "text/markdown": [
       "<table><caption>Caption 1</caption><thead><tr><th rowspan=1 colspan=1>COLUMN 1</th><th rowspan=1 colspan=1>COLUMN 2</th></tr></thead><tbody><tr><td rowspan=1 colspan=1>ROW 1 DATA 1</td><td rowspan=1 colspan=1>ROW 1 DATA 2</td></tr><tr><td rowspan=1 colspan=1>ROW 2 DATA 1</td><td rowspan=1 colspan=1>ROW 2 DATA 2</td></tr></tbody></table>"
      ],
      "text/plain": [
       "<IPython.core.display.Markdown object>"
      ]
     },
     "metadata": {},
     "output_type": "display_data"
    }
   ],
   "source": [
    "Caption(\"Caption 1\")\n",
    "column1 = Header_Cell(\"COLUMN 1\")\n",
    "column2 = Header_Cell(\"COLUMN 2\")\n",
    "Data_Cell(\"ROW 1 DATA 1\")\n",
    "Data_Cell(\"ROW 1 DATA 2\")\n",
    "Data_Cell(\"ROW 2 DATA 1\")\n",
    "Data_Cell(\"ROW 2 DATA 2\")\n",
    "\n",
    "Column([Header_Cell(\"COLUMN 1\"), Header_Cell(\"COLUMN 2\")])\n",
    "Data([Data_Cell(\"ROW 1 DATA 1\"), Data_Cell(\"ROW 1 DATA 2\")])\n",
    "Data([Data_Cell(\"ROW 2 DATA 1\"), Data_Cell(\"ROW 2 DATA 2\")])\n",
    "\n",
    "Show()"
   ]
  },
  {
   "cell_type": "code",
   "execution_count": 8,
   "id": "stylish-commitment",
   "metadata": {},
   "outputs": [
    {
     "data": {
      "text/markdown": [
       "<table><caption>Table 2 Glass Type Factors (GTF) for Double Glazed Insulating Glass (IG), Short Duration Load</caption><thead><tr><th rowspan=3 colspan=1>Exterior Lite, <br> Monolithic Glass or <br> Laminated Glass Type</th><th rowspan=1 colspan=6>Interior Lite, Monolithic Glass or Laminated Glass Type</th></tr><tr><th rowspan=1 colspan=2>AN</th><th rowspan=1 colspan=2>HS</th><th rowspan=1 colspan=2>FT</th></tr><tr><th rowspan=1 colspan=1>GTFe</th><th rowspan=1 colspan=1>GTFi</th><th rowspan=1 colspan=1>GTFe</th><th rowspan=1 colspan=1>GTFi</th><th rowspan=1 colspan=1>GTFe</th><th rowspan=1 colspan=1>GTFi</th></tr></thead><tbody><tr><td rowspan=1 colspan=1>Annealed (AN)</td><td rowspan=1 colspan=1>0.9</td><td rowspan=1 colspan=1>0.9</td><td rowspan=1 colspan=1>1.0</td><td rowspan=1 colspan=1>1.9</td><td rowspan=1 colspan=1>1.0</td><td rowspan=1 colspan=1>3.8</td></tr><tr><td rowspan=1 colspan=1>HeatStrengthened (HS)</td><td rowspan=1 colspan=1>1.9</td><td rowspan=1 colspan=1>1.0</td><td rowspan=1 colspan=1>1.8</td><td rowspan=1 colspan=1>1.8</td><td rowspan=1 colspan=1>1.9</td><td rowspan=1 colspan=1>3.8</td></tr><tr><td rowspan=1 colspan=1>Annealed (AN)</td><td rowspan=1 colspan=1>0.9</td><td rowspan=1 colspan=1>0.9</td><td rowspan=1 colspan=1>1.0</td><td rowspan=1 colspan=1>1.9</td><td rowspan=1 colspan=1>1.0</td><td rowspan=1 colspan=1>3.8</td></tr></tbody></table>"
      ],
      "text/plain": [
       "<IPython.core.display.Markdown object>"
      ]
     },
     "metadata": {},
     "output_type": "display_data"
    }
   ],
   "source": [
    "Caption(\"Table 2 Glass Type Factors (GTF) for Double Glazed Insulating Glass (IG), Short Duration Load\")\n",
    "\n",
    "Column([Header_Cell(\"Exterior Lite, <br> Monolithic Glass or <br> Laminated Glass Type\", row_span=3), \n",
    "        Header_Cell(\"Interior Lite, Monolithic Glass or Laminated Glass Type\", col_span=6)])\n",
    "Column([Header_Cell(\"AN\", col_span=2), \n",
    "        Header_Cell(\"HS\", col_span=2),\n",
    "        Header_Cell(\"FT\", col_span=2)])\n",
    "Column([Header_Cell(\"GTFe\"),\n",
    "        Header_Cell(\"GTFi\"),\n",
    "        Header_Cell(\"GTFe\"), \n",
    "        Header_Cell(\"GTFi\"), \n",
    "        Header_Cell(\"GTFe\"), \n",
    "        Header_Cell(\"GTFi\")])\n",
    "Data([Data_Cell(\"Annealed (AN)\"), Data_Cell(0.9), Data_Cell(0.9), Data_Cell(1.0), Data_Cell(1.9), Data_Cell(1.0), Data_Cell(3.8)])\n",
    "Data([Data_Cell(\"HeatStrengthened (HS)\"), Data_Cell(1.9), Data_Cell(1.0), Data_Cell(1.8), Data_Cell(1.8), Data_Cell(1.9), Data_Cell(3.8)])\n",
    "Data([Data_Cell(\"Annealed (AN)\"), Data_Cell(0.9), Data_Cell(0.9), Data_Cell(1.0), Data_Cell(1.9), Data_Cell(1.0), Data_Cell(3.8)])\n",
    "Show()"
   ]
  },
  {
   "cell_type": "code",
   "execution_count": 13,
   "id": "common-madrid",
   "metadata": {},
   "outputs": [
    {
     "name": "stdout",
     "output_type": "stream",
     "text": [
      "{'x': 10*centimeter, 'w': 5*millimeter, 'y': 2.0*centimeter/millimeter + z}\n"
     ]
    },
    {
     "data": {
      "image/png": "[encoded data removed]",
      "text/plain": [
       "<Figure size 432x288 with 1 Axes>"
      ]
     },
     "metadata": {
      "needs_background": "light"
     },
     "output_type": "display_data"
    }
   ],
   "source": [
    "# create heart graph demo\n",
    "# Equation(\"y = sqrt(1 - (Abs(x) - 1) ** 2)\")\n",
    "\n",
    "import numpy as np\n",
    "\n",
    "\n",
    "x1 = np.linspace(-2, 2, 500)\n",
    "y1 = np.sqrt(1 - (abs(x1) - 1) ** 2)\n",
    "y2 = np.arccos(1 - abs(x1)) - np.pi\n",
    "\n",
    "axs = Subplots()\n",
    "Plot(axs, x1, y1, label=\"Heart Upper\", color=\"r\")\n",
    "Plot(axs, x1, y2, label=\"Heart Lower\", color=\"g\")\n",
    "SetAxisInfo(axs, xlabel=\"xlabel\", ylabel=\"ylabel\", title=\"Heart\", legend=True, grid=True)"
   ]
  },
  {
   "cell_type": "code",
   "execution_count": 15,
   "id": "amazing-gauge",
   "metadata": {},
   "outputs": [
    {
     "name": "stdout",
     "output_type": "stream",
     "text": [
      "<class 'sympy.core.add.Add'>\n"
     ]
    }
   ],
   "source": [
    "print(type(EquationNamespace[\"y\"]))"
   ]
  },
  {
   "cell_type": "code",
   "execution_count": null,
   "id": "powerful-shark",
   "metadata": {},
   "outputs": [],
   "source": []
  }
 ],
 "metadata": {
  "kernelspec": {
   "display_name": "Python 3",
   "language": "python",
   "name": "python3"
  },
  "language_info": {
   "codemirror_mode": {
    "name": "ipython",
    "version": 3
   },
   "file_extension": ".py",
   "mimetype": "text/x-python",
   "name": "python",
   "nbconvert_exporter": "python",
   "pygments_lexer": "ipython3",
   "version": "3.7.2"
  }
 },
 "nbformat": 4,
 "nbformat_minor": 5
}
