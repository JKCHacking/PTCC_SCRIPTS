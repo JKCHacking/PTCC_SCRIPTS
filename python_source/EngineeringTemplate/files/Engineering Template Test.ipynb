{
 "cells": [
  {
   "cell_type": "code",
   "execution_count": 10,
   "id": "fifteen-elite",
   "metadata": {},
   "outputs": [],
   "source": [
    "# importing PTCC Module\n",
    "import sys\n",
    "sys.path.append(\"../src/\")"
   ]
  },
  {
   "cell_type": "code",
   "execution_count": 14,
   "id": "infectious-register",
   "metadata": {},
   "outputs": [],
   "source": [
    "from ptcc_module import EquationWriter\n",
    "\n",
    "HSPACE = 0\n",
    "FONT_STYLE = None\n",
    "FONT_SIZE = None\n",
    "\n",
    "eq_writer = EquationWriter(HSPACE, FONT_STYLE, FONT_SIZE)\n",
    "Define = eq_writer.define"
   ]
  },
  {
   "cell_type": "code",
   "execution_count": 15,
   "id": "improving-consequence",
   "metadata": {},
   "outputs": [
    {
     "name": "stdout",
     "output_type": "stream",
     "text": [
      "$var_{1} = 1$\n"
     ]
    }
   ],
   "source": [
    "Define(\"var_1 = 1\")"
   ]
  },
  {
   "cell_type": "code",
   "execution_count": null,
   "id": "hydraulic-nerve",
   "metadata": {},
   "outputs": [],
   "source": []
  }
 ],
 "metadata": {
  "kernelspec": {
   "display_name": "Python 3",
   "language": "python",
   "name": "python3"
  },
  "language_info": {
   "codemirror_mode": {
    "name": "ipython",
    "version": 3
   },
   "file_extension": ".py",
   "mimetype": "text/x-python",
   "name": "python",
   "nbconvert_exporter": "python",
   "pygments_lexer": "ipython3",
   "version": "3.9.1"
  }
 },
 "nbformat": 4,
 "nbformat_minor": 5
}
