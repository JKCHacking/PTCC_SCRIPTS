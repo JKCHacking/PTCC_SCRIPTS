{
 "cells": [
  {
   "cell_type": "code",
   "execution_count": 1,
   "id": "fifteen-elite",
   "metadata": {},
   "outputs": [],
   "source": [
    "import os\n",
    "import sys\n",
    "\n",
    "PTCC_MODULE_LOCAL = \"G:\\\\Work\\\\PTCC_SCRIPTS\\\\python_source\\\\EngineeringTemplate\\\\src\"\n",
    "if PTCC_MODULE_LOCAL not in sys.path:\n",
    "    sys.path.append(PTCC_MODULE_LOCAL)\n"
   ]
  },
  {
   "cell_type": "code",
   "execution_count": 2,
   "id": "threaded-setting",
   "metadata": {},
   "outputs": [],
   "source": [
    "EQUATION_ANNOTATION_SPACE = 2\n",
    "FONT_NAME = \"san-serif\"\n",
    "FONT_SIZE = 12\n",
    "\n",
    "IMAGE_FOLDER_NAME = \"images\""
   ]
  },
  {
   "cell_type": "code",
   "execution_count": 3,
   "id": "welcome-divorce",
   "metadata": {},
   "outputs": [
    {
     "data": {
      "text/html": [
       "<style>.eq_cell {vertical-align:top;text-align:left;font-family:san-serif, Arial;font-size: 12pt;}.annot_cell {text-align:left;font-family:san-serif, Arial;}.primary_annot {font-size: 12pt;}.secondary_annot {font-size: 12pt;font-style: italic;}.tbl_eq_row {display: table-row;}.tbl_eq_cell {display: table-cell;}</style>"
      ],
      "text/plain": [
       "<IPython.core.display.HTML object>"
      ]
     },
     "metadata": {},
     "output_type": "display_data"
    },
    {
     "data": {
      "text/html": [
       "<style>.horizontal {display:inline-block; padding:6px;} .vertical{padding:6px;}.template-image {border-width:1px; border-style:solid;}</style>"
      ],
      "text/plain": [
       "<IPython.core.display.HTML object>"
      ]
     },
     "metadata": {},
     "output_type": "display_data"
    },
    {
     "data": {
      "text/html": [
       "<style> .rendered_html td, .rendered_html th {text-align:center;}</style>"
      ],
      "text/plain": [
       "<IPython.core.display.HTML object>"
      ]
     },
     "metadata": {},
     "output_type": "display_data"
    },
    {
     "data": {
      "text/html": [
       "\n",
       "            <script>\n",
       "                function code_toggle_10460407603071390047() {\n",
       "                    $('div.cell.code_cell.rendered.selected').find('div.input').toggle();\n",
       "                }\n",
       "\n",
       "                \n",
       "            </script>\n",
       "\n",
       "            <a href=\"javascript:code_toggle_10460407603071390047()\">MODULES INITIALIZATION show/hide</a>\n",
       "        "
      ],
      "text/plain": [
       "<IPython.core.display.HTML object>"
      ]
     },
     "execution_count": 3,
     "metadata": {},
     "output_type": "execute_result"
    }
   ],
   "source": [
    "from ptcc_module import EquationWriter, CustomDisplay, TextWriter, ImageWriter, TableWriter, GraphWriter\n",
    "\n",
    "%matplotlib inline\n",
    "\n",
    "c_disp = CustomDisplay()\n",
    "Show = c_disp.show\n",
    "Hide_Cell = c_disp.hide_toggle\n",
    "\n",
    "eq_writer = EquationWriter(EQUATION_ANNOTATION_SPACE, FONT_NAME, FONT_SIZE, c_disp)\n",
    "eq_writer.setup_css()\n",
    "EquationNamespace = eq_writer.equation_namespace\n",
    "Equation = eq_writer.define\n",
    "Compare = eq_writer.assert_components\n",
    "Conclude = eq_writer.conclude\n",
    "\n",
    "text_writer = TextWriter(FONT_NAME, FONT_SIZE, c_disp)\n",
    "Text = text_writer.define\n",
    "Hspace = text_writer.create_hspace\n",
    "Vspace = text_writer.create_vspace\n",
    "\n",
    "image_writer = ImageWriter(IMAGE_FOLDER_NAME, c_disp)\n",
    "image_writer.setup_css()\n",
    "Image_Reference = image_writer.define\n",
    "\n",
    "tbl_writer = TableWriter(c_disp)\n",
    "tbl_writer.setup_css()\n",
    "Table_Start = tbl_writer.start\n",
    "Table_End = tbl_writer.end\n",
    "Data_Cell = tbl_writer.create_data_cell\n",
    "Header_Cell = tbl_writer.create_header_cell\n",
    "Caption = tbl_writer.define_caption\n",
    "Column = tbl_writer.define_column\n",
    "Data = tbl_writer.define_data\n",
    "\n",
    "graph_writer = GraphWriter()\n",
    "Subplots = graph_writer.create_subplots\n",
    "Plot = graph_writer.create_plot\n",
    "SetAxisInfo = graph_writer.set_axis\n",
    "\n",
    "Hide_Cell()"
   ]
  },
  {
   "cell_type": "code",
   "execution_count": 4,
   "id": "front-flower",
   "metadata": {
    "scrolled": true
   },
   "outputs": [
    {
     "data": {
      "text/markdown": [
       "<div class='tbl_eq_row'><div class='tbl_eq_cell eq_cell'>$x = 10 \\cdot \\text{cm}$</div><div class='tbl_eq_cell'>$\\hspace{2in}$</div><div class='tbl_eq_cell annot_cell'><div class='primary_annot'>HELLO</div><div class='secondary_annot'></div></div></div><div class='tbl_eq_row'><div class='tbl_eq_cell eq_cell'>$w = 5 \\cdot \\text{mm}$</div><div class='tbl_eq_cell'>$\\hspace{2in}$</div><div class='tbl_eq_cell annot_cell'><div class='primary_annot'>WORLD</div><div class='secondary_annot'></div></div></div><div class='tbl_eq_row'><div class='tbl_eq_cell eq_cell'>$y = g + \\frac{x}{w}$</div><div class='tbl_eq_cell'>$\\hspace{2in}$</div><div class='tbl_eq_cell annot_cell'><div class='primary_annot'>PRIMARY ANNOTATION</div><div class='secondary_annot'>SECONDARY ANNOTATION</div></div></div><div class='tbl_eq_row'><div class='tbl_eq_cell eq_cell'>$y = 1.0 \\cdot g + 20.0$</div><div class='tbl_eq_cell'>$\\hspace{2in}$</div><div class='tbl_eq_cell annot_cell'><div class='primary_annot'></div><div class='secondary_annot'></div></div></div><div class='tbl_eq_row'><div class='tbl_eq_cell eq_cell'>$A = 56 \\cdot \\text{MPa}$</div><div class='tbl_eq_cell'>$\\hspace{2in}$</div><div class='tbl_eq_cell annot_cell'><div class='primary_annot'></div><div class='secondary_annot'></div></div></div>"
      ],
      "text/plain": [
       "<IPython.core.display.Markdown object>"
      ]
     },
     "metadata": {},
     "output_type": "display_data"
    }
   ],
   "source": [
    "Equation(\"x = 10\", unit=\"cm\", annots=[\"HELLO\"])\n",
    "Equation(\"w = 5\", unit=\"mm\", annots=[\"WORLD\"])\n",
    "Equation(\"y = x / w + g\", simplify=True, annots=[\"PRIMARY ANNOTATION\", \"SECONDARY ANNOTATION\"])\n",
    "Equation(\"A = 56\", unit=\"MPa\")\n",
    "Show()"
   ]
  },
  {
   "cell_type": "code",
   "execution_count": 5,
   "id": "written-vermont",
   "metadata": {},
   "outputs": [
    {
     "data": {
      "text/markdown": [
       "<div style='font-family:san-serif, Arial; font-size:12pt; font-style:normal;font-weight:normal;text-decoration:normal;text-align:left;'> LEFT</div><div style='font-family:san-serif, Arial; font-size:12pt; font-style:normal;font-weight:normal;text-decoration:normal;text-align:center;'> CENTER</div><div style='font-family:san-serif, Arial; font-size:12pt; font-style:normal;font-weight:normal;text-decoration:normal;text-align:right;'> RIGHT</div><div style='font-family:san-serif, Arial; font-size:12pt; font-style:normal;font-weight:bold;text-decoration:normal;text-align:left;'> BOLD</div><div style='font-family:san-serif, Arial; font-size:12pt; font-style:italic;font-weight:normal;text-decoration:normal;text-align:left;'> ITALIC</div><div style='font-family:san-serif, Arial; font-size:12pt; font-style:normal;font-weight:normal;text-decoration:underline;text-align:left;'> UNDERLINE</div><div style='font-family:san-serif, Arial; font-size:12pt; font-style:italic;font-weight:bold;text-decoration:underline;text-align:left;'> BOLD ITALIC UNDERLINE</div><div style='float:left;overflow:hidden;height:1px;width:2in;'></div><div style='font-family:san-serif, Arial; font-size:12pt; font-style:normal;font-weight:normal;text-decoration:normal;text-align:left;'> Horizontal space of 2in</div><div style='float:left;overflow:hidden;height:2in;width:100%;'></div><div style='font-family:san-serif, Arial; font-size:12pt; font-style:normal;font-weight:normal;text-decoration:normal;text-align:left;'> Vertical space of 2in</div>"
      ],
      "text/plain": [
       "<IPython.core.display.Markdown object>"
      ]
     },
     "metadata": {},
     "output_type": "display_data"
    }
   ],
   "source": [
    "Text(\"LEFT\")\n",
    "Text(\"CENTER\", text_position=\"center\")\n",
    "Text(\"RIGHT\", text_position=\"right\")\n",
    "Text(\"BOLD\", bold=True)\n",
    "Text(\"ITALIC\", italic=True)\n",
    "Text(\"UNDERLINE\", underline=True)\n",
    "Text(\"BOLD ITALIC UNDERLINE\", bold=True, italic=True, underline=True)\n",
    "\n",
    "Hspace(2) \n",
    "Text(\"Horizontal space of 2in\")\n",
    "Vspace(2)\n",
    "Text(\"Vertical space of 2in\")\n",
    "Show()"
   ]
  },
  {
   "cell_type": "code",
   "execution_count": 6,
   "id": "heated-software",
   "metadata": {},
   "outputs": [
    {
     "data": {
      "text/markdown": [
       "<div class='vertical'><figure><img class='template-image' src='images\\PPPP-CSXX 100 DRAWINGS\\1.01 SEAL 01.jpg' width='300px' height='300px' alt='missing jpg'><figcaption>caption 1</figcaption></figure></div><div class='vertical'><figure><img class='template-image' src='images\\PPPP-CSXX 100 DRAWINGS\\2.01 IGU 1.png' width='300px' height='300px' alt='missing jpg'><figcaption>caption 2</figcaption></figure></div>"
      ],
      "text/plain": [
       "<IPython.core.display.Markdown object>"
      ]
     },
     "metadata": {},
     "output_type": "display_data"
    }
   ],
   "source": [
    "Image_Reference(image_names=[\"PPPP-CSXX 100 DRAWINGS\\\\1.01 SEAL 01.jpg\", \"PPPP-CSXX 100 DRAWINGS\\\\2.01 IGU 1.png\"], \n",
    "                captions=[\"caption 1\", \"caption 2\"], \n",
    "                width=300, \n",
    "                height=300,\n",
    "                layout=\"vertical\")\n",
    "Show()"
   ]
  },
  {
   "cell_type": "code",
   "execution_count": 7,
   "id": "technical-sandwich",
   "metadata": {},
   "outputs": [
    {
     "data": {
      "text/markdown": [
       "<table><caption>Caption 1</caption><thead><tr><th rowspan=1 colspan=1>COLUMN 1</th><th rowspan=1 colspan=1>COLUMN 2</th></tr></thead><tbody><tr><td rowspan=1 colspan=1>ROW 1 DATA 1</td><td rowspan=1 colspan=1>ROW 1 DATA 2</td></tr><tr><td rowspan=1 colspan=1>ROW 2 DATA 1</td><td rowspan=1 colspan=1>ROW 2 DATA 2</td></tr></tbody></table>"
      ],
      "text/plain": [
       "<IPython.core.display.Markdown object>"
      ]
     },
     "metadata": {},
     "output_type": "display_data"
    }
   ],
   "source": [
    "Table_Start()\n",
    "Caption(\"Caption 1\")\n",
    "column1 = Header_Cell(\"COLUMN 1\")\n",
    "column2 = Header_Cell(\"COLUMN 2\")\n",
    "Data_Cell(\"ROW 1 DATA 1\")\n",
    "Data_Cell(\"ROW 1 DATA 2\")\n",
    "Data_Cell(\"ROW 2 DATA 1\")\n",
    "Data_Cell(\"ROW 2 DATA 2\")\n",
    "\n",
    "Column([Header_Cell(\"COLUMN 1\"), Header_Cell(\"COLUMN 2\")])\n",
    "Data([Data_Cell(\"ROW 1 DATA 1\"), Data_Cell(\"ROW 1 DATA 2\")])\n",
    "Data([Data_Cell(\"ROW 2 DATA 1\"), Data_Cell(\"ROW 2 DATA 2\")])\n",
    "Table_End()\n",
    "Show()"
   ]
  },
  {
   "cell_type": "code",
   "execution_count": 8,
   "id": "stylish-commitment",
   "metadata": {},
   "outputs": [
    {
     "data": {
      "text/markdown": [
       "<table><caption>Table 2 Glass Type Factors (GTF) for Double Glazed Insulating Glass (IG), Short Duration Load</caption><thead><tr><th rowspan=3 colspan=1>Exterior Lite, <br> Monolithic Glass or <br> Laminated Glass Type</th><th rowspan=1 colspan=6>Interior Lite, Monolithic Glass or Laminated Glass Type</th></tr><tr><th rowspan=1 colspan=2>AN</th><th rowspan=1 colspan=2>HS</th><th rowspan=1 colspan=2>FT</th></tr><tr><th rowspan=1 colspan=1>GTFe</th><th rowspan=1 colspan=1>GTFi</th><th rowspan=1 colspan=1>GTFe</th><th rowspan=1 colspan=1>GTFi</th><th rowspan=1 colspan=1>GTFe</th><th rowspan=1 colspan=1>GTFi</th></tr></thead><tbody><tr><td rowspan=1 colspan=1>Annealed (AN)</td><td rowspan=1 colspan=1>0.9</td><td rowspan=1 colspan=1>0.9</td><td rowspan=1 colspan=1>1.0</td><td rowspan=1 colspan=1>1.9</td><td rowspan=1 colspan=1>1.0</td><td rowspan=1 colspan=1>3.8</td></tr><tr><td rowspan=1 colspan=1>HeatStrengthened (HS)</td><td rowspan=1 colspan=1>1.9</td><td rowspan=1 colspan=1>1.0</td><td rowspan=1 colspan=1>1.8</td><td rowspan=1 colspan=1>1.8</td><td rowspan=1 colspan=1>1.9</td><td rowspan=1 colspan=1>3.8</td></tr><tr><td rowspan=1 colspan=1>Annealed (AN)</td><td rowspan=1 colspan=1>0.9</td><td rowspan=1 colspan=1>0.9</td><td rowspan=1 colspan=1>1.0</td><td rowspan=1 colspan=1>1.9</td><td rowspan=1 colspan=1>1.0</td><td rowspan=1 colspan=1>3.8</td></tr></tbody></table>"
      ],
      "text/plain": [
       "<IPython.core.display.Markdown object>"
      ]
     },
     "metadata": {},
     "output_type": "display_data"
    }
   ],
   "source": [
    "Table_Start()\n",
    "Caption(\"Table 2 Glass Type Factors (GTF) for Double Glazed Insulating Glass (IG), Short Duration Load\")\n",
    "\n",
    "Column([Header_Cell(\"Exterior Lite, <br> Monolithic Glass or <br> Laminated Glass Type\", row_span=3), \n",
    "        Header_Cell(\"Interior Lite, Monolithic Glass or Laminated Glass Type\", col_span=6)])\n",
    "Column([Header_Cell(\"AN\", col_span=2), \n",
    "        Header_Cell(\"HS\", col_span=2),\n",
    "        Header_Cell(\"FT\", col_span=2)])\n",
    "Column([Header_Cell(\"GTFe\"),\n",
    "        Header_Cell(\"GTFi\"),\n",
    "        Header_Cell(\"GTFe\"), \n",
    "        Header_Cell(\"GTFi\"), \n",
    "        Header_Cell(\"GTFe\"), \n",
    "        Header_Cell(\"GTFi\")])\n",
    "Data([Data_Cell(\"Annealed (AN)\"), Data_Cell(0.9), Data_Cell(0.9), Data_Cell(1.0), Data_Cell(1.9), Data_Cell(1.0), Data_Cell(3.8)])\n",
    "Data([Data_Cell(\"HeatStrengthened (HS)\"), Data_Cell(1.9), Data_Cell(1.0), Data_Cell(1.8), Data_Cell(1.8), Data_Cell(1.9), Data_Cell(3.8)])\n",
    "Data([Data_Cell(\"Annealed (AN)\"), Data_Cell(0.9), Data_Cell(0.9), Data_Cell(1.0), Data_Cell(1.9), Data_Cell(1.0), Data_Cell(3.8)])\n",
    "Table_End()\n",
    "Show()"
   ]
  },
  {
   "cell_type": "code",
   "execution_count": 9,
   "id": "common-madrid",
   "metadata": {},
   "outputs": [
    {
     "data": {
      "image/png": "[encoded data removed]",
      "text/plain": [
       "<Figure size 432x288 with 1 Axes>"
      ]
     },
     "metadata": {
      "needs_background": "light"
     },
     "output_type": "display_data"
    }
   ],
   "source": [
    "# create heart graph demo\n",
    "# Equation(\"y = sqrt(1 - (Abs(x) - 1) ** 2)\")\n",
    "\n",
    "import numpy as np\n",
    "\n",
    "\n",
    "x1 = np.linspace(-2, 2, 500)\n",
    "y1 = np.sqrt(1 - (abs(x1) - 1) ** 2)\n",
    "y2 = np.arccos(1 - abs(x1)) - np.pi\n",
    "\n",
    "axs = Subplots()\n",
    "Plot(axs, x1, y1, label=\"Heart Upper\", color=\"r\")\n",
    "Plot(axs, x1, y2, label=\"Heart Lower\", color=\"g\")\n",
    "SetAxisInfo(axs, xlabel=\"xlabel\", ylabel=\"ylabel\", title=\"Heart\", legend=True, grid=True)"
   ]
  },
  {
   "cell_type": "code",
   "execution_count": 10,
   "id": "amazing-gauge",
   "metadata": {},
   "outputs": [
    {
     "name": "stdout",
     "output_type": "stream",
     "text": [
      "<class 'sympy.core.add.Add'>\n"
     ]
    }
   ],
   "source": [
    "print(type(EquationNamespace[\"y\"]))"
   ]
  },
  {
   "cell_type": "code",
   "execution_count": 11,
   "id": "powerful-shark",
   "metadata": {},
   "outputs": [
    {
     "name": "stdout",
     "output_type": "stream",
     "text": [
      "40*millimeter\n",
      "5*millimeter < 4*centimeter\n"
     ]
    }
   ],
   "source": [
    "import sympy.physics.units as u\n",
    "from sympy import *\n",
    "x = parse_expr(\"5\") * u.mm\n",
    "y = parse_expr(\"4\") * u.cm\n",
    "\n",
    "print(u.convert_to(y, u.mm))\n",
    "print(x < y)"
   ]
  },
  {
   "cell_type": "code",
   "execution_count": 12,
   "id": "prime-brass",
   "metadata": {},
   "outputs": [
    {
     "ename": "TypeError",
     "evalue": "define() got an unexpected keyword argument 'pref_unit'",
     "output_type": "error",
     "traceback": [
      "\u001b[1;31m---------------------------------------------------------------------------\u001b[0m",
      "\u001b[1;31mTypeError\u001b[0m                                 Traceback (most recent call last)",
      "\u001b[1;32m<ipython-input-12-027eba4d3a35>\u001b[0m in \u001b[0;36m<module>\u001b[1;34m\u001b[0m\n\u001b[1;32m----> 1\u001b[1;33m \u001b[0mEquation\u001b[0m\u001b[1;33m(\u001b[0m\u001b[1;34m\"x = 40\"\u001b[0m\u001b[1;33m,\u001b[0m \u001b[0mpref_unit\u001b[0m\u001b[1;33m=\u001b[0m\u001b[1;34m\"mm\"\u001b[0m\u001b[1;33m)\u001b[0m\u001b[1;33m\u001b[0m\u001b[1;33m\u001b[0m\u001b[0m\n\u001b[0m\u001b[0;32m      2\u001b[0m \u001b[0mEquation\u001b[0m\u001b[1;33m(\u001b[0m\u001b[1;34m\"y = 45\"\u001b[0m\u001b[1;33m,\u001b[0m \u001b[0mpref_unit\u001b[0m\u001b[1;33m=\u001b[0m\u001b[1;34m\"mm\"\u001b[0m\u001b[1;33m)\u001b[0m\u001b[1;33m\u001b[0m\u001b[1;33m\u001b[0m\u001b[0m\n\u001b[0;32m      3\u001b[0m \u001b[0mCompare\u001b[0m\u001b[1;33m(\u001b[0m\u001b[1;34m\"x\"\u001b[0m\u001b[1;33m,\u001b[0m \u001b[1;34m\"y\"\u001b[0m\u001b[1;33m,\u001b[0m \u001b[1;34m\"<\"\u001b[0m\u001b[1;33m,\u001b[0m \u001b[1;34m\"\"\u001b[0m\u001b[1;33m,\u001b[0m \u001b[1;34m\"\"\u001b[0m\u001b[1;33m,\u001b[0m \u001b[1;34m\"\"\u001b[0m\u001b[1;33m,\u001b[0m \u001b[1;34m\"\"\u001b[0m\u001b[1;33m)\u001b[0m\u001b[1;33m\u001b[0m\u001b[1;33m\u001b[0m\u001b[0m\n\u001b[0;32m      4\u001b[0m \u001b[0mShow\u001b[0m\u001b[1;33m(\u001b[0m\u001b[1;33m)\u001b[0m\u001b[1;33m\u001b[0m\u001b[1;33m\u001b[0m\u001b[0m\n",
      "\u001b[1;31mTypeError\u001b[0m: define() got an unexpected keyword argument 'pref_unit'"
     ]
    }
   ],
   "source": [
    "Equation(\"x = 40\", pref_unit=\"mm\")\n",
    "Equation(\"y = 45\", pref_unit=\"mm\")\n",
    "Compare(\"x\", \"y\", \"<\", \"\", \"\", \"\", \"\")\n",
    "Show()"
   ]
  },
  {
   "cell_type": "code",
   "execution_count": null,
   "id": "tribal-university",
   "metadata": {},
   "outputs": [],
   "source": [
    "Equation(\"x = 40\", unit=\"mm\")\n",
    "Equation(\"y = 45\", unit=\"cm\")\n",
    "Compare(\"x\", \"y\", \">\", \"variable x\", \"variable y\", \"component\", \"statement 1\")\n",
    "Show()"
   ]
  },
  {
   "cell_type": "code",
   "execution_count": null,
   "id": "funky-jenny",
   "metadata": {},
   "outputs": [],
   "source": [
    "Conclude(\n",
    "    component=\"Glass\",\n",
    "    affirmative=\"structurally adequate\"\n",
    ")\n",
    "Show()"
   ]
  },
  {
   "cell_type": "code",
   "execution_count": null,
   "id": "qualified-newport",
   "metadata": {},
   "outputs": [],
   "source": [
    "from sympy import *\n",
    "import sympy.physics.units as u\n",
    "\n",
    "x = (parse_expr(\"2\") * u.cm / u.mm) + parse_expr(\"z\")\n",
    "print(x)\n",
    "print(x.args)\n",
    "y = parse_expr(\"3\") * u.mm\n",
    "print(y)\n",
    "print(y.args)\n",
    "w = u.cm/u.mm + parse_expr(\"z\")\n",
    "simplify(w)\n",
    "simplify(x)"
   ]
  },
  {
   "cell_type": "code",
   "execution_count": null,
   "id": "parliamentary-mills",
   "metadata": {},
   "outputs": [],
   "source": [
    "Equation(\"j = 50\")\n",
    "Equation(\"h = Integral(j**2)\", evaluate=True)\n",
    "Show()"
   ]
  },
  {
   "cell_type": "code",
   "execution_count": null,
   "id": "embedded-restaurant",
   "metadata": {},
   "outputs": [],
   "source": [
    "Equation(\"n = Max(j, h)\", evaluate=True)\n",
    "Show()\n",
    "print(EquationNamespace)"
   ]
  },
  {
   "cell_type": "code",
   "execution_count": null,
   "id": "premium-entrance",
   "metadata": {},
   "outputs": [],
   "source": [
    "from sympy import *\n",
    "eq1 = Eq(parse_expr(\"y\"), parse_expr(\"x + 1\"))\n",
    "print(eq1)"
   ]
  },
  {
   "cell_type": "code",
   "execution_count": null,
   "id": "known-topic",
   "metadata": {},
   "outputs": [],
   "source": [
    "Equation(\"y = 5000\", unit=\"MPa\", simplify=True, inline=True)\n",
    "Show()\n",
    "print(EquationNamespace)"
   ]
  },
  {
   "cell_type": "code",
   "execution_count": null,
   "id": "successful-silicon",
   "metadata": {},
   "outputs": [],
   "source": [
    "from sympy import *\n",
    "from IPython.display import display, Markdown\n",
    "expr2 = parse_expr(\"cbrt(h_1e ** 3 + h_2e ** 3 + 12 * Gamma_e * I_se)\")\n",
    "expr1 = parse_expr(\"y\")\n",
    "print(expr2)\n",
    "eq1 = Eq(expr1, expr2)\n",
    "eq1_latex = latex(eq1)\n",
    "Markdown(\"${}$\".format(eq1_latex))"
   ]
  },
  {
   "cell_type": "code",
   "execution_count": null,
   "id": "decimal-proportion",
   "metadata": {},
   "outputs": [],
   "source": [
    "Equation(\"t_eef = cbrt(h_1e ** 3 + h_2e ** 3 + 12 * Gamma_e * I_se)\")\n",
    "print(c_disp.writer_output)\n",
    "Show()"
   ]
  },
  {
   "cell_type": "code",
   "execution_count": 14,
   "id": "virgin-burner",
   "metadata": {},
   "outputs": [
    {
     "data": {
      "text/markdown": [
       "<div class='tbl_eq_row'><div class='tbl_eq_cell eq_cell'>$x = 2 \\cdot \\text{mm}$</div><div class='tbl_eq_cell'>$\\hspace{2in}$</div><div class='tbl_eq_cell annot_cell'><div class='primary_annot'></div><div class='secondary_annot'></div></div></div><div class='tbl_eq_row'><div class='tbl_eq_cell eq_cell'>$y = 3 \\cdot \\text{cm}$</div><div class='tbl_eq_cell'>$\\hspace{2in}$</div><div class='tbl_eq_cell annot_cell'><div class='primary_annot'></div><div class='secondary_annot'></div></div></div><div class='tbl_eq_row'><div class='tbl_eq_cell eq_cell'>$z = x + y$</div><div class='tbl_eq_cell'>$\\hspace{2in}$</div><div class='tbl_eq_cell annot_cell'><div class='primary_annot'></div><div class='secondary_annot'></div></div></div><div class='tbl_eq_row'><div class='tbl_eq_cell eq_cell'>$z = 3.2 \\cdot \\text{cm}$</div><div class='tbl_eq_cell'>$\\hspace{2in}$</div><div class='tbl_eq_cell annot_cell'><div class='primary_annot'></div><div class='secondary_annot'></div></div></div><div class='tbl_eq_row'><div class='tbl_eq_cell eq_cell'>$w = \\frac{x}{y}$</div><div class='tbl_eq_cell'>$\\hspace{2in}$</div><div class='tbl_eq_cell annot_cell'><div class='primary_annot'></div><div class='secondary_annot'></div></div></div><div class='tbl_eq_row'><div class='tbl_eq_cell eq_cell'>$w = 0.07$</div><div class='tbl_eq_cell'>$\\hspace{2in}$</div><div class='tbl_eq_cell annot_cell'><div class='primary_annot'></div><div class='secondary_annot'></div></div></div>"
      ],
      "text/plain": [
       "<IPython.core.display.Markdown object>"
      ]
     },
     "metadata": {},
     "output_type": "display_data"
    }
   ],
   "source": [
    "Equation(\"x = 2\", unit=\"mm\")\n",
    "Equation(\"y = 3\", unit=\"cm\")\n",
    "Equation(\"z = x + y\", simplify=True)\n",
    "Equation(\"w = x / y\", simplify=True)\n",
    "Show()"
   ]
  },
  {
   "cell_type": "code",
   "execution_count": 15,
   "id": "ideal-convert",
   "metadata": {},
   "outputs": [
    {
     "data": {
      "text/markdown": [
       "<div class='tbl_eq_row'><div class='tbl_eq_cell eq_cell'>$x = 4 \\cdot \\text{N}$</div><div class='tbl_eq_cell'>$\\hspace{2in}$</div><div class='tbl_eq_cell annot_cell'><div class='primary_annot'></div><div class='secondary_annot'></div></div></div><div class='tbl_eq_row'><div class='tbl_eq_cell eq_cell'>$y = 3 \\cdot \\text{mm}$</div><div class='tbl_eq_cell'>$\\hspace{2in}$</div><div class='tbl_eq_cell annot_cell'><div class='primary_annot'></div><div class='secondary_annot'></div></div></div><div class='tbl_eq_row'><div class='tbl_eq_cell eq_cell'>$z = x + y$</div><div class='tbl_eq_cell'>$\\hspace{2in}$</div><div class='tbl_eq_cell annot_cell'><div class='primary_annot'></div><div class='secondary_annot'></div></div></div><div class='tbl_eq_row'><div class='tbl_eq_cell eq_cell'>$z = 3.0 \\cdot \\text{mm} + 4.0 \\cdot \\text{N}$</div><div class='tbl_eq_cell'>$\\hspace{2in}$</div><div class='tbl_eq_cell annot_cell'><div class='primary_annot'></div><div class='secondary_annot'></div></div></div><div class='tbl_eq_row'><div class='tbl_eq_cell eq_cell'>$w = \\frac{x}{y}$</div><div class='tbl_eq_cell'>$\\hspace{2in}$</div><div class='tbl_eq_cell annot_cell'><div class='primary_annot'></div><div class='secondary_annot'></div></div></div><div class='tbl_eq_row'><div class='tbl_eq_cell eq_cell'>$w = \\frac{1.33 \\cdot \\text{N}}{\\text{mm}}$</div><div class='tbl_eq_cell'>$\\hspace{2in}$</div><div class='tbl_eq_cell annot_cell'><div class='primary_annot'></div><div class='secondary_annot'></div></div></div>"
      ],
      "text/plain": [
       "<IPython.core.display.Markdown object>"
      ]
     },
     "metadata": {},
     "output_type": "display_data"
    }
   ],
   "source": [
    "Equation(\"x = 4\", unit=\"N\")\n",
    "Equation(\"y = 3\", unit=\"mm\")\n",
    "Equation(\"z = x + y\", simplify=True)\n",
    "Equation(\"w = x / y\", simplify=True)\n",
    "Show()"
   ]
  },
  {
   "cell_type": "code",
   "execution_count": 16,
   "id": "elegant-hostel",
   "metadata": {},
   "outputs": [
    {
     "data": {
      "text/markdown": [
       "<div class='tbl_eq_row'><div class='tbl_eq_cell eq_cell'>$x = 4 \\cdot \\text{N}$</div><div class='tbl_eq_cell'>$\\hspace{2in}$</div><div class='tbl_eq_cell annot_cell'><div class='primary_annot'></div><div class='secondary_annot'></div></div></div><div class='tbl_eq_row'><div class='tbl_eq_cell eq_cell'>$y = 3 \\cdot \\text{mm}$</div><div class='tbl_eq_cell'>$\\hspace{2in}$</div><div class='tbl_eq_cell annot_cell'><div class='primary_annot'></div><div class='secondary_annot'></div></div></div><div class='tbl_eq_row'><div class='tbl_eq_cell eq_cell'>$z = x \\cdot y$</div><div class='tbl_eq_cell'>$\\hspace{2in}$</div><div class='tbl_eq_cell annot_cell'><div class='primary_annot'></div><div class='secondary_annot'></div></div></div><div class='tbl_eq_row'><div class='tbl_eq_cell eq_cell'>$z = 12.0 \\cdot \\text{mm} \\cdot \\text{N}$</div><div class='tbl_eq_cell'>$\\hspace{2in}$</div><div class='tbl_eq_cell annot_cell'><div class='primary_annot'></div><div class='secondary_annot'></div></div></div>"
      ],
      "text/plain": [
       "<IPython.core.display.Markdown object>"
      ]
     },
     "metadata": {},
     "output_type": "display_data"
    }
   ],
   "source": [
    "Equation(\"x = 4\", unit=\"N\")\n",
    "Equation(\"y = 3\", unit=\"mm\")\n",
    "Equation(\"z = x * y\", simplify=True)\n",
    "Show()"
   ]
  },
  {
   "cell_type": "code",
   "execution_count": null,
   "id": "daily-alaska",
   "metadata": {},
   "outputs": [],
   "source": []
  }
 ],
 "metadata": {
  "kernelspec": {
   "display_name": "Python 3",
   "language": "python",
   "name": "python3"
  },
  "language_info": {
   "codemirror_mode": {
    "name": "ipython",
    "version": 3
   },
   "file_extension": ".py",
   "mimetype": "text/x-python",
   "name": "python",
   "nbconvert_exporter": "python",
   "pygments_lexer": "ipython3",
   "version": "3.9.1"
  }
 },
 "nbformat": 4,
 "nbformat_minor": 5
}
