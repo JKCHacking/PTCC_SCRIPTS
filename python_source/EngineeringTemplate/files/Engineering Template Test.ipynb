{
 "cells": [
  {
   "cell_type": "code",
   "execution_count": 1,
   "id": "fifteen-elite",
   "metadata": {},
   "outputs": [],
   "source": [
    "import os\n",
    "import sys\n",
    "\n",
    "PTCC_MODULE_LOCAL = \"G:/Work/PTCC_SCRIPTS/python_source/EngineeringTemplate/src/\"\n",
    "if PTCC_MODULE_LOCAL not in sys.path:\n",
    "    sys.path.append(PTCC_MODULE_LOCAL)\n"
   ]
  },
  {
   "cell_type": "code",
   "execution_count": 2,
   "id": "welcome-divorce",
   "metadata": {},
   "outputs": [
    {
     "data": {
      "text/html": [
       "<style>.eq_cell {vertical-align:top;text-align:left;font-family:san-serif, Arial;font-size: 12pt;}.annot_cell {text-align:left;font-family:san-serif, Arial;}.primary_annot {font-size: 12pt;}.secondary_annot {font-size: 12pt;font-style: italic;}.tbl_eq_row {display: table-row;}.tbl_eq_cell {display: table-cell;}</style>"
      ],
      "text/plain": [
       "<IPython.core.display.HTML object>"
      ]
     },
     "metadata": {},
     "output_type": "display_data"
    },
    {
     "data": {
      "text/html": [
       "<style>.horizontal {display:inline-block; padding-right:6px} .vertical{padding-bottom:6px;}</style>"
      ],
      "text/plain": [
       "<IPython.core.display.HTML object>"
      ]
     },
     "metadata": {},
     "output_type": "display_data"
    }
   ],
   "source": [
    "from ptcc_module import EquationWriter, CustomDisplay, TextWriter, ImageWriter\n",
    "\n",
    "EQUATION_ANNOTATION_SPACE = 2\n",
    "FONT_NAME = \"san-serif\"\n",
    "FONT_SIZE = 12\n",
    "\n",
    "IMAGE_FOLDER_NAME = \"PPPP-CSXX 100 DRAWINGS\"\n",
    "\n",
    "eq_writer = EquationWriter(EQUATION_ANNOTATION_SPACE, FONT_NAME, FONT_SIZE)\n",
    "eq_writer.setup_css()\n",
    "Equation = eq_writer.define\n",
    "\n",
    "text_writer = TextWriter(FONT_NAME, FONT_SIZE)\n",
    "Text = text_writer.define\n",
    "Hspace = text_writer.create_hspace\n",
    "Vspace = text_writer.create_vspace\n",
    "\n",
    "image_writer = ImageWriter(IMAGE_FOLDER_NAME)\n",
    "image_writer.setup_css()\n",
    "Image_Reference = image_writer.define\n",
    "\n",
    "c_disp = CustomDisplay(eq_writer, text_writer, image_writer)\n",
    "Show = c_disp.show"
   ]
  },
  {
   "cell_type": "code",
   "execution_count": 3,
   "id": "front-flower",
   "metadata": {
    "scrolled": true
   },
   "outputs": [
    {
     "data": {
      "text/markdown": [
       "<div class='tbl_eq_row'><div class='tbl_eq_cell eq_cell'>$x = 10 \\cdot \\text{cm}$</div><div class='tbl_eq_cell'>$\\hspace{2in}$</div><div class='tbl_eq_cell annot_cell'><div class='primary_annot'>HELLO</div><div class='secondary_annot'></div></div></div><div class='tbl_eq_row'><div class='tbl_eq_cell eq_cell'>$w = 5 \\cdot \\text{mm}$</div><div class='tbl_eq_cell'>$\\hspace{2in}$</div><div class='tbl_eq_cell annot_cell'><div class='primary_annot'>WORLD</div><div class='secondary_annot'></div></div></div><div class='tbl_eq_row'><div class='tbl_eq_cell eq_cell'>$y = z + \\frac{x}{w}$</div><div class='tbl_eq_cell'>$\\hspace{2in}$</div><div class='tbl_eq_cell annot_cell'><div class='primary_annot'>BITCHES</div><div class='secondary_annot'>ROCK N ROLL</div></div></div><div class='tbl_eq_row'><div class='tbl_eq_cell eq_cell'>$y = \\frac{2.0 \\cdot \\text{cm}}{\\text{mm}} + z$</div><div class='tbl_eq_cell'>$\\hspace{2in}$</div><div class='tbl_eq_cell annot_cell'><div class='primary_annot'></div><div class='secondary_annot'></div></div></div>"
      ],
      "text/plain": [
       "<IPython.core.display.Markdown object>"
      ]
     },
     "metadata": {},
     "output_type": "display_data"
    }
   ],
   "source": [
    "Equation(\"x = 10\", pref_unit=\"cm\", annots=[\"HELLO\"])\n",
    "Equation(\"w = 5\", pref_unit=\"mm\", annots=[\"WORLD\"])\n",
    "Equation(\"y = x / w + z\", evaluate=True, annots=[\"BITCHES\", \"ROCK N ROLL\"])\n",
    "Show()"
   ]
  },
  {
   "cell_type": "code",
   "execution_count": 4,
   "id": "written-vermont",
   "metadata": {},
   "outputs": [
    {
     "data": {
      "text/markdown": [
       "<div style='font-family:san-serif, Arial; font-size:12pt; font-style:normal;font-weight:normal;text-decoration:normal;text-align:left;'> LEFT</div><div style='font-family:san-serif, Arial; font-size:12pt; font-style:normal;font-weight:normal;text-decoration:normal;text-align:center;'> CENTER</div><div style='font-family:san-serif, Arial; font-size:12pt; font-style:normal;font-weight:normal;text-decoration:normal;text-align:right;'> RIGHT</div><div style='font-family:san-serif, Arial; font-size:12pt; font-style:normal;font-weight:bold;text-decoration:normal;text-align:left;'> BOLD</div><div style='font-family:san-serif, Arial; font-size:12pt; font-style:italic;font-weight:normal;text-decoration:normal;text-align:left;'> ITALIC</div><div style='font-family:san-serif, Arial; font-size:12pt; font-style:normal;font-weight:normal;text-decoration:underline;text-align:left;'> UNDERLINE</div><div style='font-family:san-serif, Arial; font-size:12pt; font-style:italic;font-weight:bold;text-decoration:underline;text-align:left;'> BOLD ITALIC UNDERLINE</div><div style='float:left;overflow:hidden;height:1px;width:2in;'></div><div style='font-family:san-serif, Arial; font-size:12pt; font-style:normal;font-weight:normal;text-decoration:normal;text-align:left;'> Horizontal space of 2in</div><div style='float:left;overflow:hidden;height:2in;width:100%;'></div><div style='font-family:san-serif, Arial; font-size:12pt; font-style:normal;font-weight:normal;text-decoration:normal;text-align:left;'> Vertical space of 2in</div>"
      ],
      "text/plain": [
       "<IPython.core.display.Markdown object>"
      ]
     },
     "metadata": {},
     "output_type": "display_data"
    }
   ],
   "source": [
    "Text(\"LEFT\")\n",
    "Text(\"CENTER\", text_position=\"center\")\n",
    "Text(\"RIGHT\", text_position=\"right\")\n",
    "Text(\"BOLD\", bold=True)\n",
    "Text(\"ITALIC\", italic=True)\n",
    "Text(\"UNDERLINE\", underline=True)\n",
    "Text(\"BOLD ITALIC UNDERLINE\", bold=True, italic=True, underline=True)\n",
    "\n",
    "Hspace(2) \n",
    "Text(\"Horizontal space of 2in\")\n",
    "Vspace(2)\n",
    "Text(\"Vertical space of 2in\")\n",
    "Show()"
   ]
  },
  {
   "cell_type": "code",
   "execution_count": 5,
   "id": "heated-software",
   "metadata": {},
   "outputs": [
    {
     "name": "stdout",
     "output_type": "stream",
     "text": [
      "Invalid layout!\n"
     ]
    },
    {
     "data": {
      "text/markdown": [],
      "text/plain": [
       "<IPython.core.display.Markdown object>"
      ]
     },
     "metadata": {},
     "output_type": "display_data"
    }
   ],
   "source": [
    "Image_Reference(image_names=[\"1.01 SEAL 01.jpg\", \"2.01 IGU 1.png\"], \n",
    "                captions=[\"caption 1\", \"caption 2\"], \n",
    "                width=300, \n",
    "                height=300,\n",
    "                layout=\"invalid\")\n",
    "Show()"
   ]
  },
  {
   "cell_type": "code",
   "execution_count": null,
   "id": "technical-sandwich",
   "metadata": {},
   "outputs": [],
   "source": []
  }
 ],
 "metadata": {
  "kernelspec": {
   "display_name": "Python 3",
   "language": "python",
   "name": "python3"
  },
  "language_info": {
   "codemirror_mode": {
    "name": "ipython",
    "version": 3
   },
   "file_extension": ".py",
   "mimetype": "text/x-python",
   "name": "python",
   "nbconvert_exporter": "python",
   "pygments_lexer": "ipython3",
   "version": "3.9.1"
  }
 },
 "nbformat": 4,
 "nbformat_minor": 5
}
