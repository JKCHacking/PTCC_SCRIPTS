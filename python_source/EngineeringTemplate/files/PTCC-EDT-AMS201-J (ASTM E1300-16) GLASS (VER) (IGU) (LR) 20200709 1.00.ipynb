{
 "cells": [
  {
   "cell_type": "code",
   "execution_count": 1,
   "id": "coordinated-retailer",
   "metadata": {},
   "outputs": [],
   "source": [
    "import os\n",
    "import sys\n",
    "\n",
    "PTCC_MODULE_LOCAL = \"G:\\\\Work\\\\PTCC_SCRIPTS\\\\python_source\\\\EngineeringTemplate\\\\src\"\n",
    "if PTCC_MODULE_LOCAL not in sys.path:\n",
    "    sys.path.append(PTCC_MODULE_LOCAL)"
   ]
  },
  {
   "cell_type": "code",
   "execution_count": 2,
   "id": "rough-envelope",
   "metadata": {},
   "outputs": [],
   "source": [
    "EQUATION_ANNOTATION_SPACE = 2\n",
    "FONT_NAME = \"Helvetica Neue\"\n",
    "FONT_SIZE = 11\n",
    "\n",
    "IMAGE_FOLDER_NAME = \"images\""
   ]
  },
  {
   "cell_type": "code",
   "execution_count": 3,
   "id": "binding-amsterdam",
   "metadata": {},
   "outputs": [
    {
     "data": {
      "text/html": [
       "<style>.eq_cell {vertical-align:top;text-align:left;font-family:Helvetica Neue, Arial;font-size: 11pt;}.annot_cell {text-align:left;font-family:Helvetica Neue, Arial;}.primary_annot {font-size: 11pt;}.secondary_annot {font-size: 11pt;font-style: italic;}.tbl_eq_row {display: table-row;}.tbl_eq_cell {display: table-cell;}</style>"
      ],
      "text/plain": [
       "<IPython.core.display.HTML object>"
      ]
     },
     "metadata": {},
     "output_type": "display_data"
    },
    {
     "data": {
      "text/html": [
       "<style>.horizontal {display:inline-block; padding-right:6px} .vertical{padding-bottom:6px;}.template-image {border-width:1px; border-style:solid;}</style>"
      ],
      "text/plain": [
       "<IPython.core.display.HTML object>"
      ]
     },
     "metadata": {},
     "output_type": "display_data"
    },
    {
     "data": {
      "text/html": [
       "<style> .rendered_html td, .rendered_html th {text-align:center;}</style>"
      ],
      "text/plain": [
       "<IPython.core.display.HTML object>"
      ]
     },
     "metadata": {},
     "output_type": "display_data"
    },
    {
     "data": {
      "text/html": [
       "\n",
       "            <script>\n",
       "                function code_toggle_1552491447101293811() {\n",
       "                    $('div.cell.code_cell.rendered.selected').find('div.input').toggle();\n",
       "                }\n",
       "\n",
       "                \n",
       "            </script>\n",
       "\n",
       "            <a href=\"javascript:code_toggle_1552491447101293811()\">MODULES INITIALIZATION show/hide</a>\n",
       "        "
      ],
      "text/plain": [
       "<IPython.core.display.HTML object>"
      ]
     },
     "execution_count": 3,
     "metadata": {},
     "output_type": "execute_result"
    }
   ],
   "source": [
    "from ptcc_module import EquationWriter, CustomDisplay, TextWriter, ImageWriter, TableWriter, GraphWriter\n",
    "\n",
    "%matplotlib inline\n",
    "\n",
    "c_disp = CustomDisplay()\n",
    "Show = c_disp.show\n",
    "Hide_Cell = c_disp.hide_toggle\n",
    "\n",
    "eq_writer = EquationWriter(EQUATION_ANNOTATION_SPACE, FONT_NAME, FONT_SIZE, c_disp)\n",
    "eq_writer.setup_css()\n",
    "EquationNamespace = eq_writer.equation_namespace\n",
    "Equation = eq_writer.define\n",
    "Compare = eq_writer.assert_components\n",
    "Conclude = eq_writer.conclude\n",
    "\n",
    "text_writer = TextWriter(FONT_NAME, FONT_SIZE, c_disp)\n",
    "Text = text_writer.define\n",
    "Hspace = text_writer.create_hspace\n",
    "Vspace = text_writer.create_vspace\n",
    "\n",
    "image_writer = ImageWriter(IMAGE_FOLDER_NAME, c_disp)\n",
    "image_writer.setup_css()\n",
    "Image = image_writer.define\n",
    "\n",
    "tbl_writer = TableWriter(c_disp)\n",
    "tbl_writer.setup_css()\n",
    "Data_Cell = tbl_writer.create_data_cell\n",
    "Header_Cell = tbl_writer.create_header_cell\n",
    "Caption = tbl_writer.define_caption\n",
    "Column = tbl_writer.define_column\n",
    "Data = tbl_writer.define_data\n",
    "Table_Start = tbl_writer.start\n",
    "Table_End = tbl_writer.end\n",
    "\n",
    "graph_writer = GraphWriter()\n",
    "Subplots = graph_writer.create_subplots\n",
    "Plot = graph_writer.create_plot\n",
    "SetAxisInfo = graph_writer.set_axis\n",
    "\n",
    "Hide_Cell()"
   ]
  },
  {
   "cell_type": "code",
   "execution_count": 4,
   "id": "material-rover",
   "metadata": {},
   "outputs": [
    {
     "data": {
      "text/markdown": [
       "<div style='font-family:Helvetica Neue, Arial; font-size:11pt; font-style:normal;font-weight:bold;text-decoration:normal;text-align:left;'> SECTION 1.02</div><div style='font-family:Helvetica Neue, Arial; font-size:11pt; font-style:normal;font-weight:normal;text-decoration:normal;text-align:left;'> <br></div><div style='font-family:Helvetica Neue, Arial; font-size:11pt; font-style:normal;font-weight:bold;text-decoration:underline;text-align:left;'> STRESS AND DEFLECTION ANALYSIS OF THE BUILDING PART INSULATING GLASS UNIT</div><div style='font-family:Helvetica Neue, Arial; font-size:11pt; font-style:normal;font-weight:normal;text-decoration:normal;text-align:left;'> ASTM E1300-16 STANDARD PRACTICE FOR DETERMINING LOAD RESISTANCE OF GLASS IN BUILDINGS</div><div style='font-family:Helvetica Neue, Arial; font-size:11pt; font-style:normal;font-weight:normal;text-decoration:normal;text-align:left;'> PROJECT NAME - Project Location</div>"
      ],
      "text/plain": [
       "<IPython.core.display.Markdown object>"
      ]
     },
     "metadata": {},
     "output_type": "display_data"
    }
   ],
   "source": [
    "Text(\"SECTION 1.02\", \n",
    "     bold=True)\n",
    "\n",
    "Text(\"<br>\")\n",
    "\n",
    "Text(\"STRESS AND DEFLECTION ANALYSIS OF THE BUILDING PART INSULATING GLASS UNIT\", \n",
    "     bold=True, \n",
    "     underline=True)\n",
    "\n",
    "Text(\"ASTM E1300-16 STANDARD PRACTICE FOR DETERMINING LOAD RESISTANCE OF GLASS IN BUILDINGS\")\n",
    "\n",
    "Text(\"PROJECT NAME - Project Location\")\n",
    "Show()"
   ]
  },
  {
   "cell_type": "code",
   "execution_count": 5,
   "id": "complex-harvey",
   "metadata": {},
   "outputs": [
    {
     "data": {
      "text/markdown": [
       "<div class='horizontal'><figure><img class='template-image' src='images\\PPPP-CSXX 100 DRAWINGS\\1.01 SEAL 01.jpg' width='300px' height='300px' alt='missing jpg'><figcaption>Drawing Reference: 12.DT.641</figcaption></figure></div><div class='horizontal'><figure><img class='template-image' src='images\\PPPP-CSXX 100 DRAWINGS\\2.01 IGU 1.png' width='300px' height='300px' alt='missing jpg'><figcaption>Drawing Reference: 11.PE.603</figcaption></figure></div>"
      ],
      "text/plain": [
       "<IPython.core.display.Markdown object>"
      ]
     },
     "metadata": {},
     "output_type": "display_data"
    }
   ],
   "source": [
    "Image(image_names=[\"PPPP-CSXX 100 DRAWINGS\\\\1.01 SEAL 01.jpg\", \"PPPP-CSXX 100 DRAWINGS\\\\2.01 IGU 1.png\"], \n",
    "      captions=[\"Drawing Reference: 12.DT.641\", \"Drawing Reference: 11.PE.603\"], \n",
    "      width=300, \n",
    "      height=300,\n",
    "      layout=\"horizontal\")\n",
    "Show()"
   ]
  },
  {
   "cell_type": "code",
   "execution_count": 6,
   "id": "mathematical-superior",
   "metadata": {},
   "outputs": [
    {
     "data": {
      "text/markdown": [
       "<div style='font-family:Helvetica Neue, Arial; font-size:11pt; font-style:normal;font-weight:bold;text-decoration:underline;text-align:left;'> Load Parameters</div><div class='tbl_eq_row'><div class='tbl_eq_cell eq_cell'>$Duration = Short$</div><div class='tbl_eq_cell'>$\\hspace{2in}$</div><div class='tbl_eq_cell annot_cell'><div class='primary_annot'>Load Duration</div><div class='secondary_annot'>i.e., Long, Short</div></div></div><div class='tbl_eq_row'><div class='tbl_eq_cell eq_cell'>$q = 4.49 \\cdot \\text{kPa}$</div><div class='tbl_eq_cell'>$\\hspace{2in}$</div><div class='tbl_eq_cell annot_cell'><div class='primary_annot'>Design Wind Pressure</div><div class='secondary_annot'></div></div></div>"
      ],
      "text/plain": [
       "<IPython.core.display.Markdown object>"
      ]
     },
     "metadata": {},
     "output_type": "display_data"
    }
   ],
   "source": [
    "Text(\"Load Parameters\", \n",
    "     bold=True, \n",
    "     underline=True)\n",
    "\n",
    "Equation(\"Duration = Short\", \n",
    "         annots=[\"Load Duration\", \"i.e., Long, Short\"])\n",
    "\n",
    "Equation(\"q = 4.49\", \n",
    "         unit=\"kPa\", \n",
    "         annots=[\"Design Wind Pressure\"])\n",
    "Show()"
   ]
  },
  {
   "cell_type": "code",
   "execution_count": 7,
   "id": "built-diploma",
   "metadata": {},
   "outputs": [
    {
     "data": {
      "text/markdown": [
       "<div style='font-family:Helvetica Neue, Arial; font-size:11pt; font-style:normal;font-weight:bold;text-decoration:underline;text-align:left;'> Panel Dimensions</div><div style='font-family:Helvetica Neue, Arial; font-size:11pt; font-style:normal;font-weight:normal;text-decoration:normal;text-align:left;'> <br></div><div class='tbl_eq_row'><div class='tbl_eq_cell eq_cell'>$t_{e} = 6 \\cdot \\text{mm}$</div><div class='tbl_eq_cell'>$\\hspace{2in}$</div><div class='tbl_eq_cell annot_cell'><div class='primary_annot'>Nominal thickness of the exterior glass lite</div><div class='secondary_annot'></div></div></div><div class='tbl_eq_row'><div class='tbl_eq_cell eq_cell'>$t_{emin} = 5.56 \\cdot \\text{mm}$</div><div class='tbl_eq_cell'>$\\hspace{2in}$</div><div class='tbl_eq_cell annot_cell'><div class='primary_annot'>Minimum thickness of the exterior glass lite</div><div class='secondary_annot'></div></div></div><div class='tbl_eq_row'><div class='tbl_eq_cell eq_cell'>$t_{s} = 8 \\cdot \\text{mm}$</div><div class='tbl_eq_cell'>$\\hspace{2in}$</div><div class='tbl_eq_cell annot_cell'><div class='primary_annot'>Space betweene glass planes</div><div class='secondary_annot'></div></div></div><div class='tbl_eq_row'><div class='tbl_eq_cell eq_cell'>$t_{i} = 12 \\cdot \\text{mm}$</div><div class='tbl_eq_cell'>$\\hspace{2in}$</div><div class='tbl_eq_cell annot_cell'><div class='primary_annot'>Nominal thickness of the interior glass lite</div><div class='secondary_annot'></div></div></div><div class='tbl_eq_row'><div class='tbl_eq_cell eq_cell'>$t_{imin} = 11.91 \\cdot \\text{mm}$</div><div class='tbl_eq_cell'>$\\hspace{2in}$</div><div class='tbl_eq_cell annot_cell'><div class='primary_annot'>Minimum thickness of the interior glass lite</div><div class='secondary_annot'></div></div></div><div class='tbl_eq_row'><div class='tbl_eq_cell eq_cell'>$l = 2115.0 \\cdot \\text{mm}$</div><div class='tbl_eq_cell'>$\\hspace{2in}$</div><div class='tbl_eq_cell annot_cell'><div class='primary_annot'>Length of glass framing (module height)</div><div class='secondary_annot'></div></div></div><div class='tbl_eq_row'><div class='tbl_eq_cell eq_cell'>$w = 1500.0 \\cdot \\text{mm}$</div><div class='tbl_eq_cell'>$\\hspace{2in}$</div><div class='tbl_eq_cell annot_cell'><div class='primary_annot'>Width of glass framing (module width) </div><div class='secondary_annot'></div></div></div><div class='tbl_eq_row'><div class='tbl_eq_cell eq_cell'>$a = 1973.0 \\cdot \\text{mm}$</div><div class='tbl_eq_cell'>$\\hspace{2in}$</div><div class='tbl_eq_cell annot_cell'><div class='primary_annot'>Length of glass day light opening</div><div class='secondary_annot'></div></div></div><div class='tbl_eq_row'><div class='tbl_eq_cell eq_cell'>$b = 1407.0 \\cdot \\text{mm}$</div><div class='tbl_eq_cell'>$\\hspace{2in}$</div><div class='tbl_eq_cell annot_cell'><div class='primary_annot'>Width of glass day light opening</div><div class='secondary_annot'></div></div></div><div class='tbl_eq_row'><div class='tbl_eq_cell eq_cell'>$Support = IV$</div><div class='tbl_eq_cell'>$\\hspace{2in}$</div><div class='tbl_eq_cell annot_cell'><div class='primary_annot'>Glass panel support</div><div class='secondary_annot'>IV - Four Sides Simply Supported,<br>III - Three Sides Simply Supported,<br>II - Two Parallel Sides Simply Supported,<br>I - Supported along One Edge</div></div></div><div class='tbl_eq_row'><div class='tbl_eq_cell eq_cell'>$AR = \\frac{a}{b} = 1.4$</div><div class='tbl_eq_cell'>$\\hspace{2in}$</div><div class='tbl_eq_cell annot_cell'><div class='primary_annot'>Aspect ratio</div><div class='secondary_annot'>Note: for glass with three sides supported,<br>AR is the length of the supported edge over<br>the length of the free edge, and should be<br>equal to or greater than 0.5 to be classified as such.</div></div></div>"
      ],
      "text/plain": [
       "<IPython.core.display.Markdown object>"
      ]
     },
     "metadata": {},
     "output_type": "display_data"
    }
   ],
   "source": [
    "Text(\"Panel Dimensions\", bold=True, underline=True)\n",
    "Text(\"<br>\")\n",
    "\n",
    "Equation(\"t_e = 6\", \n",
    "         unit=\"mm\", \n",
    "         annots=[\"Nominal thickness of the exterior glass lite\"])\n",
    "\n",
    "Equation(\"t_emin = 5.56\", \n",
    "         unit=\"mm\", \n",
    "         annots=[\"Minimum thickness of the exterior glass lite\"])\n",
    "\n",
    "Equation(\"t_s = 8\", \n",
    "         unit=\"mm\", \n",
    "         annots=[\"Space betweene glass planes\"])\n",
    "\n",
    "Equation(\"t_i = 12\", \n",
    "         unit=\"mm\", \n",
    "         annots=[\"Nominal thickness of the interior glass lite\"])\n",
    "\n",
    "Equation(\"t_imin = 11.91\", \n",
    "         unit=\"mm\", \n",
    "         annots=[\"Minimum thickness of the interior glass lite\"])\n",
    "\n",
    "Equation(\"l = 2115.0\", \n",
    "         unit=\"mm\", \n",
    "         annots=[\"Length of glass framing (module height)\"])\n",
    "\n",
    "Equation(\"w = 1500.0\", \n",
    "         unit=\"mm\", \n",
    "         annots=[\"Width of glass framing (module width) \"])\n",
    "\n",
    "Equation(\"a = 1973.0\", \n",
    "         unit=\"mm\", \n",
    "         annots=[\"Length of glass day light opening\"])\n",
    "\n",
    "Equation(\"b = 1407.0\", \n",
    "         unit=\"mm\", \n",
    "         annots=[\"Width of glass day light opening\"])\n",
    "\n",
    "Equation(\"Support = IV\", \n",
    "         annots=[\"Glass panel support\",\n",
    "                 \"IV - Four Sides Simply Supported,\", \n",
    "                 \"III - Three Sides Simply Supported,\", \n",
    "                 \"II - Two Parallel Sides Simply Supported,\", \n",
    "                 \"I - Supported along One Edge\"])\n",
    "Equation(\"AR = a/b\", \n",
    "         annots=[\"Aspect ratio\", \n",
    "                 \"Note: for glass with three sides supported,\",\n",
    "                 \"AR is the length of the supported edge over\",\n",
    "                 \"the length of the free edge, and should be\",\n",
    "                 \"equal to or greater than 0.5 to be classified as such.\"],\n",
    "         simplify=True,\n",
    "         inline=True)\n",
    "Show()"
   ]
  },
  {
   "cell_type": "code",
   "execution_count": 8,
   "id": "available-western",
   "metadata": {},
   "outputs": [
    {
     "data": {
      "text/markdown": [
       "<div style='font-family:Helvetica Neue, Arial; font-size:11pt; font-style:normal;font-weight:bold;text-decoration:underline;text-align:left;'> Material Properties</div><div style='font-family:Helvetica Neue, Arial; font-size:11pt; font-style:normal;font-weight:normal;text-decoration:normal;text-align:left;'> <br></div><div class='tbl_eq_row'><div class='tbl_eq_cell eq_cell'>$E_{g} = 71700.0 \\cdot \\text{MPa}$</div><div class='tbl_eq_cell'>$\\hspace{2in}$</div><div class='tbl_eq_cell annot_cell'><div class='primary_annot'>Modulus of elasticity of glass</div><div class='secondary_annot'></div></div></div><div class='tbl_eq_row'><div class='tbl_eq_cell eq_cell'>$Type_{e} = HeatStrengthened$</div><div class='tbl_eq_cell'>$\\hspace{2in}$</div><div class='tbl_eq_cell annot_cell'><div class='primary_annot'>Exterior glass type [1]</div><div class='secondary_annot'></div></div></div><div class='tbl_eq_row'><div class='tbl_eq_cell eq_cell'>$Type_{i} = HeatStrengthened$</div><div class='tbl_eq_cell'>$\\hspace{2in}$</div><div class='tbl_eq_cell annot_cell'><div class='primary_annot'>Interior glass type [1]</div><div class='secondary_annot'>[1] i.e., FullyTempered, HeatStrengthened, Annealed</div></div></div><div class='tbl_eq_row'><div class='tbl_eq_cell eq_cell'>$Lite_{e} = Laminated$</div><div class='tbl_eq_cell'>$\\hspace{2in}$</div><div class='tbl_eq_cell annot_cell'><div class='primary_annot'>Exterior glass lite [2]</div><div class='secondary_annot'></div></div></div><div class='tbl_eq_row'><div class='tbl_eq_cell eq_cell'>$Lite_{i} = Monolithic$</div><div class='tbl_eq_cell'>$\\hspace{2in}$</div><div class='tbl_eq_cell annot_cell'><div class='primary_annot'>Interior glass lite [2]</div><div class='secondary_annot'>[2] i.e., Monolithic, Laminated</div></div></div>"
      ],
      "text/plain": [
       "<IPython.core.display.Markdown object>"
      ]
     },
     "metadata": {},
     "output_type": "display_data"
    }
   ],
   "source": [
    "Text(\"Material Properties\", bold=True, underline=True)\n",
    "\n",
    "Text(\"<br>\")\n",
    "\n",
    "Equation(\"E_g = 71700.0\", \n",
    "         unit=\"MPa\", \n",
    "         annots=[\"Modulus of elasticity of glass\"])\n",
    "\n",
    "Equation(\"Type_e = HeatStrengthened\", \n",
    "         annots=[\"Exterior glass type [1]\"])\n",
    "\n",
    "Equation(\"Type_i = HeatStrengthened\", \n",
    "         annots=[\"Interior glass type [1]\", \"[1] i.e., FullyTempered, HeatStrengthened, Annealed\"])\n",
    "\n",
    "Equation(\"Lite_e = Laminated\", \n",
    "         annots=[\"Exterior glass lite [2]\"])\n",
    "\n",
    "Equation(\"Lite_i = Monolithic\", \n",
    "         annots=[\"Interior glass lite [2]\", \n",
    "                 \"[2] i.e., Monolithic, Laminated\"])\n",
    "Show()"
   ]
  },
  {
   "cell_type": "code",
   "execution_count": 9,
   "id": "corrected-watts",
   "metadata": {},
   "outputs": [
    {
     "data": {
      "text/markdown": [
       "<div style='font-family:Helvetica Neue, Arial; font-size:11pt; font-style:normal;font-weight:bold;text-decoration:underline;text-align:left;'> Load Resistance Check</div><div style='font-family:Helvetica Neue, Arial; font-size:11pt; font-style:normal;font-weight:normal;text-decoration:underline;text-align:left;'> Non-Factored Load</div><div class='horizontal'><figure><img class='template-image' src='images\\PTCC-EDT-AMS200-202 ASTM E1300-16 GRAPHS\\E1300-16 Fig A1.30 (IV) 6.0mm Laminated.jpg' width='500px' height='300px' alt='missing jpg'><figcaption></figcaption></figure></div><div class='horizontal'><figure><img class='template-image' src='images\\PTCC-EDT-AMS200-202 ASTM E1300-16 GRAPHS\\E1300-16 Fig A1.10 (IV) 12.0mm.jpg' width='500px' height='300px' alt='missing jpg'><figcaption></figcaption></figure></div><div style='font-family:Helvetica Neue, Arial; font-size:11pt; font-style:normal;font-weight:normal;text-decoration:normal;text-align:left;'> <br></div><div class='tbl_eq_row'><div class='tbl_eq_cell eq_cell'>$a = 1973.0 \\cdot \\text{mm}$</div><div class='tbl_eq_cell'>$\\hspace{2in}$</div><div class='tbl_eq_cell annot_cell'><div class='primary_annot'>Length of glass day light opening</div><div class='secondary_annot'></div></div></div><div class='tbl_eq_row'><div class='tbl_eq_cell eq_cell'>$b = 1407.0 \\cdot \\text{mm}$</div><div class='tbl_eq_cell'>$\\hspace{2in}$</div><div class='tbl_eq_cell annot_cell'><div class='primary_annot'>Width of glass day light opening</div><div class='secondary_annot'></div></div></div><div class='tbl_eq_row'><div class='tbl_eq_cell eq_cell'>$NFL_{e} = 1.75 \\cdot \\text{kPa}$</div><div class='tbl_eq_cell'>$\\hspace{2in}$</div><div class='tbl_eq_cell annot_cell'><div class='primary_annot'>Non-factored load of the exterior glass lite</div><div class='secondary_annot'></div></div></div><div class='tbl_eq_row'><div class='tbl_eq_cell eq_cell'>$NFL_{i} = 4.0 \\cdot \\text{kPa}$</div><div class='tbl_eq_cell'>$\\hspace{2in}$</div><div class='tbl_eq_cell annot_cell'><div class='primary_annot'>Non-factored load of the interior glass lite</div><div class='secondary_annot'></div></div></div>"
      ],
      "text/plain": [
       "<IPython.core.display.Markdown object>"
      ]
     },
     "metadata": {},
     "output_type": "display_data"
    }
   ],
   "source": [
    "Text(\"Load Resistance Check\", bold=True, underline=True)\n",
    "Text(\"Non-Factored Load\", underline=True)\n",
    "Image(image_names=[\"PTCC-EDT-AMS200-202 ASTM E1300-16 GRAPHS\\\\E1300-16 Fig A1.30 (IV) 6.0mm Laminated.jpg\", \n",
    "                   \"PTCC-EDT-AMS200-202 ASTM E1300-16 GRAPHS\\\\E1300-16 Fig A1.10 (IV) 12.0mm.jpg\"], \n",
    "      captions=[\"\", \"\"])\n",
    "Text(\"<br>\")\n",
    "Equation(\"a = 1973.0\", unit=\"mm\", annots=[\"Length of glass day light opening\"])\n",
    "Equation(\"b = 1407.0\", unit=\"mm\", annots=[\"Width of glass day light opening\"])\n",
    "Equation(\"NFL_e = 1.75\", unit=\"kPa\", annots=[\"Non-factored load of the exterior glass lite\"])\n",
    "Equation(\"NFL_i = 4.0\", unit=\"kPa\", annots=[\"Non-factored load of the interior glass lite\"])\n",
    "Show()"
   ]
  },
  {
   "cell_type": "code",
   "execution_count": 10,
   "id": "stuck-lucas",
   "metadata": {},
   "outputs": [
    {
     "data": {
      "text/markdown": [
       "<table><caption>Table 2 Glass Type Factors (GTF) for Double Glazed Insulating Glass (IG), Short Duration Load</caption><thead><tr><th rowspan=3 colspan=1>Exterior Lite, <br> Monolithic Glass or <br> Laminated Glass Type</th><th rowspan=1 colspan=6>Interior Lite, Monolithic Glass or Laminated Glass Type</th></tr><tr><th rowspan=1 colspan=2>AN</th><th rowspan=1 colspan=2>HS</th><th rowspan=1 colspan=2>FT</th></tr><tr><th rowspan=1 colspan=1>GTFe</th><th rowspan=1 colspan=1>GTFi</th><th rowspan=1 colspan=1>GTFe</th><th rowspan=1 colspan=1>GTFi</th><th rowspan=1 colspan=1>GTFe</th><th rowspan=1 colspan=1>GTFi</th></tr></thead><tbody><tr><td rowspan=1 colspan=1>Annealed (AN)</td><td rowspan=1 colspan=1>0.9</td><td rowspan=1 colspan=1>0.9</td><td rowspan=1 colspan=1>1.0</td><td rowspan=1 colspan=1>1.9</td><td rowspan=1 colspan=1>1.0</td><td rowspan=1 colspan=1>3.8</td></tr><tr><td rowspan=1 colspan=1>HeatStrengthened (HS)</td><td rowspan=1 colspan=1>1.9</td><td rowspan=1 colspan=1>1.0</td><td rowspan=1 colspan=1>1.8</td><td rowspan=1 colspan=1>1.8</td><td rowspan=1 colspan=1>1.9</td><td rowspan=1 colspan=1>3.8</td></tr><tr><td rowspan=1 colspan=1>Annealed (AN)</td><td rowspan=1 colspan=1>0.9</td><td rowspan=1 colspan=1>0.9</td><td rowspan=1 colspan=1>1.0</td><td rowspan=1 colspan=1>1.9</td><td rowspan=1 colspan=1>1.0</td><td rowspan=1 colspan=1>3.8</td></tr></tbody></table><div style='float:left;overflow:hidden;height:0.5in;width:100%;'></div><div class='tbl_eq_row'><div class='tbl_eq_cell eq_cell'>$Duration = Short$</div><div class='tbl_eq_cell'>$\\hspace{2in}$</div><div class='tbl_eq_cell annot_cell'><div class='primary_annot'>Load Duration</div><div class='secondary_annot'></div></div></div><div class='tbl_eq_row'><div class='tbl_eq_cell eq_cell'>$Type_{e} = HeatStrengthened$</div><div class='tbl_eq_cell'>$\\hspace{2in}$</div><div class='tbl_eq_cell annot_cell'><div class='primary_annot'>Exterior glass type [1]</div><div class='secondary_annot'></div></div></div><div class='tbl_eq_row'><div class='tbl_eq_cell eq_cell'>$GTF_{e} = 1.8$</div><div class='tbl_eq_cell'>$\\hspace{2in}$</div><div class='tbl_eq_cell annot_cell'><div class='primary_annot'>Exterior glass type factor[3]</div><div class='secondary_annot'></div></div></div><div class='tbl_eq_row'><div class='tbl_eq_cell eq_cell'>$Type_{i} = HeatStrengthened$</div><div class='tbl_eq_cell'>$\\hspace{2in}$</div><div class='tbl_eq_cell annot_cell'><div class='primary_annot'>Interior glass type [1]</div><div class='secondary_annot'></div></div></div><div class='tbl_eq_row'><div class='tbl_eq_cell eq_cell'>$GTF_{i} = 1.8$</div><div class='tbl_eq_cell'>$\\hspace{2in}$</div><div class='tbl_eq_cell annot_cell'><div class='primary_annot'>Interior glass type factor [3]</div><div class='secondary_annot'>[3] Refer to E1300-16 Table 2</div></div></div>"
      ],
      "text/plain": [
       "<IPython.core.display.Markdown object>"
      ]
     },
     "metadata": {},
     "output_type": "display_data"
    }
   ],
   "source": [
    "Table_Start()\n",
    "Caption(\"Table 2 Glass Type Factors (GTF) for Double Glazed Insulating Glass (IG), Short Duration Load\")\n",
    "Column([Header_Cell(\"Exterior Lite, <br> Monolithic Glass or <br> Laminated Glass Type\", row_span=3), \n",
    "        Header_Cell(\"Interior Lite, Monolithic Glass or Laminated Glass Type\", col_span=6)])\n",
    "Column([Header_Cell(\"AN\", col_span=2), \n",
    "        Header_Cell(\"HS\", col_span=2),\n",
    "        Header_Cell(\"FT\", col_span=2)])\n",
    "Column([Header_Cell(\"GTFe\"),\n",
    "        Header_Cell(\"GTFi\"),\n",
    "        Header_Cell(\"GTFe\"), \n",
    "        Header_Cell(\"GTFi\"), \n",
    "        Header_Cell(\"GTFe\"), \n",
    "        Header_Cell(\"GTFi\")])\n",
    "Data([Data_Cell(\"Annealed (AN)\"), Data_Cell(0.9), Data_Cell(0.9), Data_Cell(1.0), Data_Cell(1.9), Data_Cell(1.0), Data_Cell(3.8)])\n",
    "Data([Data_Cell(\"HeatStrengthened (HS)\"), Data_Cell(1.9), Data_Cell(1.0), Data_Cell(1.8), Data_Cell(1.8), Data_Cell(1.9), Data_Cell(3.8)])\n",
    "Data([Data_Cell(\"Annealed (AN)\"), Data_Cell(0.9), Data_Cell(0.9), Data_Cell(1.0), Data_Cell(1.9), Data_Cell(1.0), Data_Cell(3.8)])\n",
    "Table_End()\n",
    "\n",
    "Vspace(\"0.5\")\n",
    "Equation(\"Duration = Short\", annots=[\"Load Duration\"])\n",
    "Equation(\"Type_e = HeatStrengthened\", annots=[\"Exterior glass type [1]\"])\n",
    "Equation(\"GTF_e = 1.8\", annots=[\"Exterior glass type factor[3]\"])\n",
    "Equation(\"Type_i = HeatStrengthened\", annots=[\"Interior glass type [1]\"])\n",
    "Equation(\"GTF_i = 1.8\", annots=[\"Interior glass type factor [3]\", \"[3] Refer to E1300-16 Table 2\"])\n",
    "Show()"
   ]
  },
  {
   "cell_type": "code",
   "execution_count": 11,
   "id": "tutorial-turning",
   "metadata": {},
   "outputs": [
    {
     "data": {
      "text/markdown": [
       "<div style='font-family:Helvetica Neue, Arial; font-size:11pt; font-style:normal;font-weight:bold;text-decoration:underline;text-align:left;'> Load Resistance</div><div class='tbl_eq_row'><div class='tbl_eq_cell eq_cell'>$t_{emin} = 5.56 \\cdot \\text{mm}$</div><div class='tbl_eq_cell'>$\\hspace{2in}$</div><div class='tbl_eq_cell annot_cell'><div class='primary_annot'>Minimum thickness of the exterior glass lite</div><div class='secondary_annot'></div></div></div><div class='tbl_eq_row'><div class='tbl_eq_cell eq_cell'>$t_{imin} = 11.91 \\cdot \\text{mm}$</div><div class='tbl_eq_cell'>$\\hspace{2in}$</div><div class='tbl_eq_cell annot_cell'><div class='primary_annot'>Minimum thickness of the interior glass lite</div><div class='secondary_annot'></div></div></div><div class='tbl_eq_row'><div class='tbl_eq_cell eq_cell'>$LS_{e} = \\frac{t_{emin}^{3} + t_{imin}^{3}}{t_{emin}^{3}} = 10.83$</div><div class='tbl_eq_cell'>$\\hspace{2in}$</div><div class='tbl_eq_cell annot_cell'><div class='primary_annot'>Load share factor of the exterior glass plane</div><div class='secondary_annot'></div></div></div><div class='tbl_eq_row'><div class='tbl_eq_cell eq_cell'>$LS_{i} = \\frac{t_{emin}^{3} + t_{imin}^{3}}{t_{imin}^{3}} = 1.1$</div><div class='tbl_eq_cell'>$\\hspace{2in}$</div><div class='tbl_eq_cell annot_cell'><div class='primary_annot'>Load share factor of the interior glass plane</div><div class='secondary_annot'></div></div></div><div class='tbl_eq_row'><div class='tbl_eq_cell eq_cell'>$LR_{e} = GTF_{e} \\cdot LS_{e} \\cdot NFL_{e} = 34.11 \\cdot \\text{kPa}$</div><div class='tbl_eq_cell'>$\\hspace{2in}$</div><div class='tbl_eq_cell annot_cell'><div class='primary_annot'>Load resistance of the exterior glass</div><div class='secondary_annot'></div></div></div><div class='tbl_eq_row'><div class='tbl_eq_cell eq_cell'>$LR_{i} = GTF_{i} \\cdot LS_{i} \\cdot NFL_{i} = 7.92 \\cdot \\text{kPa}$</div><div class='tbl_eq_cell'>$\\hspace{2in}$</div><div class='tbl_eq_cell annot_cell'><div class='primary_annot'>Load resistance of the exterior glass</div><div class='secondary_annot'></div></div></div><div class='tbl_eq_row'><div class='tbl_eq_cell eq_cell'>$LR = \\min\\left(LR_{e}, LR_{i}\\right) = 7.92 \\cdot \\text{kPa}$</div><div class='tbl_eq_cell'>$\\hspace{2in}$</div><div class='tbl_eq_cell annot_cell'><div class='primary_annot'>Governing load resistance of the insulating glass unit</div><div class='secondary_annot'></div></div></div>"
      ],
      "text/plain": [
       "<IPython.core.display.Markdown object>"
      ]
     },
     "metadata": {},
     "output_type": "display_data"
    }
   ],
   "source": [
    "Text(\"Load Resistance\", bold=True, underline=True)\n",
    "\n",
    "Equation(\"t_emin = 5.56\", unit=\"mm\", annots=[\"Minimum thickness of the exterior glass lite\"])\n",
    "\n",
    "Equation(\"t_imin = 11.91\", unit=\"mm\", annots=[\"Minimum thickness of the interior glass lite\"])\n",
    "\n",
    "Equation(\"LS_e = (t_emin ** 3 + t_imin ** 3)/t_emin ** 3\", \n",
    "         simplify=True, inline=True, \n",
    "         annots=[\"Load share factor of the exterior glass plane\"])\n",
    "\n",
    "Equation(\"LS_i = (t_emin ** 3 + t_imin ** 3)/t_imin ** 3\", \n",
    "         simplify=True, \n",
    "         inline=True, \n",
    "         annots=[\"Load share factor of the interior glass plane\"])\n",
    "\n",
    "Equation(\"LR_e = GTF_e * LS_e * NFL_e\", \n",
    "         simplify=True, \n",
    "         inline=True, \n",
    "         annots=[\"Load resistance of the exterior glass\"])\n",
    "\n",
    "Equation(\"LR_i = GTF_i * LS_i * NFL_i\", \n",
    "         simplify=True,\n",
    "         inline=True,\n",
    "         annots=[\"Load resistance of the exterior glass\"])\n",
    "\n",
    "Equation(\"LR = Min(LR_e, LR_i)\",\n",
    "         simplify=True,\n",
    "         inline=True,\n",
    "         annots=[\"Governing load resistance of the insulating glass unit\"])\n",
    "Show()"
   ]
  },
  {
   "cell_type": "code",
   "execution_count": 12,
   "id": "weekly-caution",
   "metadata": {},
   "outputs": [
    {
     "data": {
      "text/markdown": [
       "<div style='font-family:Helvetica Neue, Arial; font-size:11pt'>Comparing, <div><br>$q = 4.49 \\cdot \\text{kPa} < LR = 7.92 \\cdot \\text{kPa}$</div><div><br>Since the design wind pressure is less than the glass load resistance, <br> <u><b>THE WIND PRESSURE IS WITHIN THE ALLOWABLE LIMIT</u></b></div></div>"
      ],
      "text/plain": [
       "<IPython.core.display.Markdown object>"
      ]
     },
     "metadata": {},
     "output_type": "display_data"
    }
   ],
   "source": [
    "Compare(lhs_var_str=\"q\",\n",
    "        rhs_var_str=\"LR\",\n",
    "        expected=\"<\",\n",
    "        descr_lhs=\"design wind pressure\",\n",
    "        descr_rhs=\"glass load resistance\",\n",
    "        component=\"wind pressure\",\n",
    "        statement=\"within the allowable limit\")\n",
    "Show()"
   ]
  },
  {
   "cell_type": "code",
   "execution_count": 18,
   "id": "proper-moscow",
   "metadata": {},
   "outputs": [
    {
     "data": {
      "text/markdown": [
       "<div style='font-family:Helvetica Neue, Arial; font-size:11pt; font-style:normal;font-weight:bold;text-decoration:underline;text-align:left;'> Effective Thickness of Laminated Glass - Exterior Lite</div><div style='font-family:Helvetica Neue, Arial; font-size:11pt; font-style:normal;font-weight:bold;text-decoration:normal;text-align:left;'> Refer to ASTM E1300-16 Section X9</div><div style='font-family:Helvetica Neue, Arial; font-size:11pt; font-style:normal;font-weight:normal;text-decoration:normal;text-align:left;'> <br></div><div class='tbl_eq_row'><div class='tbl_eq_cell eq_cell'>$Lite_{e} = Laminated$</div><div class='tbl_eq_cell'>$\\hspace{2in}$</div><div class='tbl_eq_cell annot_cell'><div class='primary_annot'>Exterior glass lite [2]</div><div class='secondary_annot'></div></div></div><div class='tbl_eq_row'><div class='tbl_eq_cell eq_cell'>$t_{e} = 6 \\cdot \\text{mm}$</div><div class='tbl_eq_cell'>$\\hspace{2in}$</div><div class='tbl_eq_cell annot_cell'><div class='primary_annot'>Nominal Thickness of the exterior glass lite</div><div class='secondary_annot'></div></div></div><div class='tbl_eq_row'><div class='tbl_eq_cell eq_cell'>$t_{emin} = 5.56 \\cdot \\text{mm}$</div><div class='tbl_eq_cell'>$\\hspace{2in}$</div><div class='tbl_eq_cell annot_cell'><div class='primary_annot'>Minimum Thickness of the exterior glass lite</div><div class='secondary_annot'></div></div></div><div class='tbl_eq_row'><div class='tbl_eq_cell eq_cell'>$h_{p1e} = 0.5 \\cdot t_{e} = 3.0 \\cdot \\text{mm}$</div><div class='tbl_eq_cell'>$\\hspace{2in}$</div><div class='tbl_eq_cell annot_cell'><div class='primary_annot'>Thickness of glass ply 1</div><div class='secondary_annot'></div></div></div><div class='tbl_eq_row'><div class='tbl_eq_cell eq_cell'>$h_{1e} = 2.92 \\cdot \\text{mm}$</div><div class='tbl_eq_cell'>$\\hspace{2in}$</div><div class='tbl_eq_cell annot_cell'><div class='primary_annot'>Minimum Thickness of glass ply 1</div><div class='secondary_annot'></div></div></div><div class='tbl_eq_row'><div class='tbl_eq_cell eq_cell'>$h_{p2e} = 0.5 \\cdot t_{e} = 3.0 \\cdot \\text{mm}$</div><div class='tbl_eq_cell'>$\\hspace{2in}$</div><div class='tbl_eq_cell annot_cell'><div class='primary_annot'>Thickness of glass ply 2</div><div class='secondary_annot'></div></div></div><div class='tbl_eq_row'><div class='tbl_eq_cell eq_cell'>$h_{2e} = 2.92 \\cdot \\text{mm}$</div><div class='tbl_eq_cell'>$\\hspace{2in}$</div><div class='tbl_eq_cell annot_cell'><div class='primary_annot'>Minimum Thickness of glass ply 2</div><div class='secondary_annot'></div></div></div><div class='tbl_eq_row'><div class='tbl_eq_cell eq_cell'>$h_{v} = 1.52 \\cdot \\text{mm}$</div><div class='tbl_eq_cell'>$\\hspace{2in}$</div><div class='tbl_eq_cell annot_cell'><div class='primary_annot'>Interlayer thickness</div><div class='secondary_annot'></div></div></div><div class='tbl_eq_row'><div class='tbl_eq_cell eq_cell'>$E_{g} = 71700.0 \\cdot \\text{MPa}$</div><div class='tbl_eq_cell'>$\\hspace{2in}$</div><div class='tbl_eq_cell annot_cell'><div class='primary_annot'>Modulus of Elasticity</div><div class='secondary_annot'></div></div></div><div class='tbl_eq_row'><div class='tbl_eq_cell eq_cell'>$a_{min} = \\min\\left(a, b\\right) = 1407.0 \\cdot \\text{mm}$</div><div class='tbl_eq_cell'>$\\hspace{2in}$</div><div class='tbl_eq_cell annot_cell'><div class='primary_annot'>Smallest in-plane dimension of bending</div><div class='secondary_annot'></div></div></div><div class='tbl_eq_row'><div class='tbl_eq_cell eq_cell'>$G = 0.4 \\cdot \\text{MPa}$</div><div class='tbl_eq_cell'>$\\hspace{2in}$</div><div class='tbl_eq_cell annot_cell'><div class='primary_annot'>Shear Modulus of PVB</div><div class='secondary_annot'>Refer to ASTM 1300-16 Section X8.3.1</div></div></div><div class='tbl_eq_row'><div class='tbl_eq_cell eq_cell'>$h_{se} = 0.5 \\cdot h_{1e} + 0.5 \\cdot h_{2e} + h_{v} = 4.44 \\cdot \\text{mm}$</div><div class='tbl_eq_cell'>$\\hspace{2in}$</div><div class='tbl_eq_cell annot_cell'><div class='primary_annot'>Thickness parameter for shear transfer coefficient</div><div class='secondary_annot'></div></div></div><div class='tbl_eq_row'><div class='tbl_eq_cell eq_cell'>$h_{s1e} = \\frac{h_{1e} \\cdot h_{se}}{h_{1e} + h_{2e}} = 2.22 \\cdot \\text{mm}$</div><div class='tbl_eq_cell'>$\\hspace{2in}$</div><div class='tbl_eq_cell annot_cell'><div class='primary_annot'></div><div class='secondary_annot'></div></div></div><div class='tbl_eq_row'><div class='tbl_eq_cell eq_cell'>$h_{s2e} = \\frac{h_{2e} \\cdot h_{se}}{h_{1e} + h_{2e}} = 2.22 \\cdot \\text{mm}$</div><div class='tbl_eq_cell'>$\\hspace{2in}$</div><div class='tbl_eq_cell annot_cell'><div class='primary_annot'></div><div class='secondary_annot'></div></div></div><div class='tbl_eq_row'><div class='tbl_eq_cell eq_cell'>$I_{se} = h_{1e} \\cdot h_{s2e}^{2} + h_{2e} \\cdot h_{s1e}^{2} = 28.79 \\cdot \\text{mm}^{3}$</div><div class='tbl_eq_cell'>$\\hspace{2in}$</div><div class='tbl_eq_cell annot_cell'><div class='primary_annot'></div><div class='secondary_annot'></div></div></div><div class='tbl_eq_row'><div class='tbl_eq_cell eq_cell'>$\\Gamma_{e} = \\left(\\frac{9.6 \\cdot E_{g} \\cdot I_{se} \\cdot h_{v}}{G \\cdot a_{min}^{2} \\cdot h_{se}^{2}} + 1\\right)^{-1} = 0.34$</div><div class='tbl_eq_cell'>$\\hspace{2in}$</div><div class='tbl_eq_cell annot_cell'><div class='primary_annot'>Shear Transfer coefficient</div><div class='secondary_annot'></div></div></div><div class='tbl_eq_row'><div class='tbl_eq_cell eq_cell'>$t_{eef} = \\sqrt[3]{12 \\cdot \\Gamma_{e} \\cdot I_{se} + h_{1e}^{3} + h_{2e}^{3}} = 5.51 \\cdot \\text{mm}$</div><div class='tbl_eq_cell'>$\\hspace{2in}$</div><div class='tbl_eq_cell annot_cell'><div class='primary_annot'>Effective thickness fordeflection calculations</div><div class='secondary_annot'></div></div></div><div class='tbl_eq_row'><div class='tbl_eq_cell eq_cell'>$t_{eef \\sigma} = \\max\\left(\\sqrt{\\frac{t_{eef}^{3}}{2 \\cdot \\Gamma_{e} \\cdot h_{s1e} + h_{2e}}}, \\sqrt{\\frac{t_{eef}^{3}}{2 \\cdot \\Gamma_{e} \\cdot h_{s2e} + h_{1e}}}\\right)$</div><div class='tbl_eq_cell'>$\\hspace{2in}$</div><div class='tbl_eq_cell annot_cell'><div class='primary_annot'>Effective thickness for stress calculations</div><div class='secondary_annot'></div></div></div><div class='tbl_eq_row'><div class='tbl_eq_cell eq_cell'>$t_{eef \\sigma} = 6.14 \\cdot \\text{mm}$</div><div class='tbl_eq_cell'>$\\hspace{2in}$</div><div class='tbl_eq_cell annot_cell'><div class='primary_annot'></div><div class='secondary_annot'></div></div></div>"
      ],
      "text/plain": [
       "<IPython.core.display.Markdown object>"
      ]
     },
     "metadata": {},
     "output_type": "display_data"
    }
   ],
   "source": [
    "Text(\"Effective Thickness of Laminated Glass - Exterior Lite\", underline=True, bold=True)\n",
    "Text(\"Refer to ASTM E1300-16 Section X9\", bold=True)\n",
    "Text(\"<br>\")\n",
    "\n",
    "Equation(\"Lite_e = Laminated\", \n",
    "         annots=[\"Exterior glass lite [2]\"])\n",
    "\n",
    "Equation(\"t_e = 6\", \n",
    "         unit=\"mm\", \n",
    "         annots=[\"Nominal Thickness of the exterior glass lite\"])\n",
    "\n",
    "Equation(\"t_emin = 5.56\", \n",
    "         unit=\"mm\", \n",
    "         annots=[\"Minimum Thickness of the exterior glass lite\"])\n",
    "\n",
    "Equation(\"h_p1e = 0.5 * t_e\", \n",
    "         simplify=True, \n",
    "         inline=True, \n",
    "         annots=[\"Thickness of glass ply 1\"])\n",
    "\n",
    "Equation(\"h_1e = 2.92\", \n",
    "         unit=\"mm\", \n",
    "         annots=[\"Minimum Thickness of glass ply 1\"])\n",
    "\n",
    "Equation(\"h_p2e = 0.5 * t_e\", \n",
    "         simplify=True, \n",
    "         inline=True, \n",
    "         annots=[\"Thickness of glass ply 2\"])\n",
    "\n",
    "Equation(\"h_2e = 2.92\", \n",
    "         unit=\"mm\", \n",
    "         annots=[\"Minimum Thickness of glass ply 2\"])\n",
    "\n",
    "Equation(\"h_v = 1.52\", \n",
    "         unit=\"mm\", \n",
    "         annots=[\"Interlayer thickness\"])\n",
    "\n",
    "Equation(\"E_g = 71700.0\", \n",
    "         unit=\"MPa\", \n",
    "         annots=[\"Modulus of Elasticity\"])\n",
    "\n",
    "Equation(\"a_min = Min(a, b)\", \n",
    "         simplify=True, \n",
    "         inline=True, \n",
    "         annots=[\"Smallest in-plane dimension of bending\"])\n",
    "\n",
    "Equation(\"G = 0.4\", \n",
    "         unit=\"MPa\", \n",
    "         annots=[\"Shear Modulus of PVB\", \n",
    "                 \"Refer to ASTM 1300-16 Section X8.3.1\"])\n",
    "\n",
    "Equation(\"h_se = 0.5 * (h_1e + h_2e) + h_v\", \n",
    "         simplify=True, \n",
    "         inline=True, \n",
    "         annots=[\"Thickness parameter for shear transfer coefficient\"])\n",
    "\n",
    "Equation(\"h_s1e = (h_1e * h_se)/(h_1e + h_2e)\", \n",
    "         simplify=True, \n",
    "         inline=True)\n",
    "\n",
    "Equation(\"h_s2e = (h_2e * h_se)/(h_1e + h_2e)\", \n",
    "         simplify=True, \n",
    "         inline=True)\n",
    "\n",
    "Equation(\"I_se = h_1e * h_s2e **2 + h_2e * h_s1e **2\",\n",
    "         simplify=True,\n",
    "         inline=True)\n",
    "\n",
    "Equation(\"Gamma_e = (1 + (9.6 * E_g * I_se * h_v)/(G * a_min ** 2 * h_se**2)) ** UnevaluatedExpr(-1)\",\n",
    "         simplify=True,\n",
    "         inline=True,\n",
    "         annots=[\"Shear Transfer coefficient\"])\n",
    "\n",
    "Equation(\"t_eef = cbrt(h_1e ** 3 + h_2e ** 3 + 12 * Gamma_e * I_se)\", \n",
    "         simplify=True, \n",
    "         inline=True, \n",
    "         annots=[\"Effective thickness fordeflection calculations\"])\n",
    "\n",
    "Equation(\"t_eef_sigma = Max(sqrt((t_eef ** 3) / (2 * Gamma_e * h_s1e + h_2e)), sqrt((t_eef ** 3) / (2 * Gamma_e * h_s2e + h_1e)))\", \n",
    "         simplify=True,  \n",
    "         annots=[\"Effective thickness for stress calculations\"])\n",
    "\n",
    "Show()"
   ]
  },
  {
   "cell_type": "code",
   "execution_count": null,
   "id": "certain-client",
   "metadata": {},
   "outputs": [],
   "source": []
  }
 ],
 "metadata": {
  "kernelspec": {
   "display_name": "Python 3",
   "language": "python",
   "name": "python3"
  },
  "language_info": {
   "codemirror_mode": {
    "name": "ipython",
    "version": 3
   },
   "file_extension": ".py",
   "mimetype": "text/x-python",
   "name": "python",
   "nbconvert_exporter": "python",
   "pygments_lexer": "ipython3",
   "version": "3.9.1"
  }
 },
 "nbformat": 4,
 "nbformat_minor": 5
}
