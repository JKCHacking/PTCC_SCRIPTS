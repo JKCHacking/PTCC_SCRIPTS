{
 "cells": [
  {
   "cell_type": "code",
   "execution_count": 1,
   "id": "coordinated-retailer",
   "metadata": {},
   "outputs": [],
   "source": [
    "import os\n",
    "import sys\n",
    "\n",
    "PTCC_MODULE_LOCAL = \"G:\\\\Work\\\\PTCC_SCRIPTS\\\\python_source\\\\EngineeringTemplate\\\\src\"\n",
    "if PTCC_MODULE_LOCAL not in sys.path:\n",
    "    sys.path.append(PTCC_MODULE_LOCAL)"
   ]
  },
  {
   "cell_type": "code",
   "execution_count": 2,
   "id": "rough-envelope",
   "metadata": {},
   "outputs": [],
   "source": [
    "EQUATION_ANNOTATION_SPACE = 0.25\n",
    "FONT_NAME = \"Helvetica Neue\"\n",
    "FONT_SIZE = 11\n",
    "\n",
    "IMAGE_FOLDER_NAME = \"images\""
   ]
  },
  {
   "cell_type": "code",
   "execution_count": 3,
   "id": "binding-amsterdam",
   "metadata": {},
   "outputs": [
    {
     "data": {
      "text/html": [
       "<style>.eq_cell {vertical-align:top;text-align:left;font-family:Helvetica Neue, Arial;}.annot_cell {text-align:left;font-family:Helvetica Neue, Arial;}.primary_annot {}.secondary_annot {font-style: italic;}.tbl_eq_row {display: table-row;}.tbl_eq_cell {display: table-cell;}</style>"
      ],
      "text/plain": [
       "<IPython.core.display.HTML object>"
      ]
     },
     "metadata": {},
     "output_type": "display_data"
    },
    {
     "data": {
      "text/html": [
       "<style>.horizontal {display:inline-block; padding:6px;} .vertical{padding:6px;}.template-image {border-width:1px; border-style:solid;}</style>"
      ],
      "text/plain": [
       "<IPython.core.display.HTML object>"
      ]
     },
     "metadata": {},
     "output_type": "display_data"
    },
    {
     "data": {
      "text/html": [
       "<style> .rendered_html td, .rendered_html th {text-align:center;}</style>"
      ],
      "text/plain": [
       "<IPython.core.display.HTML object>"
      ]
     },
     "metadata": {},
     "output_type": "display_data"
    },
    {
     "data": {
      "text/html": [
       "\n",
       "            <script>\n",
       "                function code_toggle_16682426798446374466() {\n",
       "                    $('div.cell.code_cell.rendered.selected').find('div.input').toggle();\n",
       "                }\n",
       "\n",
       "                \n",
       "            </script>\n",
       "\n",
       "            <a href=\"javascript:code_toggle_16682426798446374466()\">MODULES INITIALIZATION show/hide</a>\n",
       "        "
      ],
      "text/plain": [
       "<IPython.core.display.HTML object>"
      ]
     },
     "execution_count": 3,
     "metadata": {},
     "output_type": "execute_result"
    }
   ],
   "source": [
    "from ptcc_module import EquationWriter, CustomDisplay, TextWriter, ImageWriter, TableWriter, GraphWriter\n",
    "\n",
    "%matplotlib inline\n",
    "\n",
    "c_disp = CustomDisplay()\n",
    "Show = c_disp.show\n",
    "Hide_Cell = c_disp.hide_toggle\n",
    "\n",
    "eq_writer = EquationWriter(EQUATION_ANNOTATION_SPACE, FONT_NAME, FONT_SIZE, c_disp)\n",
    "eq_writer.setup_css()\n",
    "EquationNamespace = eq_writer.equation_namespace\n",
    "Equation = eq_writer.define\n",
    "Compare = eq_writer.assert_components\n",
    "Conclude = eq_writer.conclude\n",
    "Convert = eq_writer.convert\n",
    "\n",
    "text_writer = TextWriter(FONT_NAME, FONT_SIZE, c_disp)\n",
    "Text = text_writer.define\n",
    "Hspace = text_writer.create_hspace\n",
    "Vspace = text_writer.create_vspace\n",
    "\n",
    "image_writer = ImageWriter(IMAGE_FOLDER_NAME, c_disp)\n",
    "image_writer.setup_css()\n",
    "Image = image_writer.define\n",
    "\n",
    "tbl_writer = TableWriter(c_disp)\n",
    "tbl_writer.setup_css()\n",
    "Data_Cell = tbl_writer.create_data_cell\n",
    "Header_Cell = tbl_writer.create_header_cell\n",
    "Caption = tbl_writer.define_caption\n",
    "Column = tbl_writer.define_column\n",
    "Data = tbl_writer.define_data\n",
    "Table_Start = tbl_writer.start\n",
    "Table_End = tbl_writer.end\n",
    "\n",
    "graph_writer = GraphWriter()\n",
    "Subplots = graph_writer.create_subplots\n",
    "Plot = graph_writer.create_plot\n",
    "SetAxisInfo = graph_writer.set_axis\n",
    "\n",
    "Hide_Cell()"
   ]
  },
  {
   "cell_type": "code",
   "execution_count": 4,
   "id": "material-rover",
   "metadata": {},
   "outputs": [
    {
     "data": {
      "text/markdown": [
       "<div style='font-family:Helvetica Neue, Arial;font-size:11pt;font-style:normal;font-weight:bold;text-decoration:normal;text-align:left;'> SECTION 1.02</div><div style='font-family:Helvetica Neue, Arial;font-size:11pt;font-style:normal;font-weight:normal;text-decoration:normal;text-align:left;'> <br></div><div style='font-family:Helvetica Neue, Arial;font-size:11pt;font-style:normal;font-weight:bold;text-decoration:underline;text-align:left;'> STRESS AND DEFLECTION ANALYSIS OF THE BUILDING PART INSULATING GLASS UNIT</div><div style='font-family:Helvetica Neue, Arial;font-size:11pt;font-style:normal;font-weight:normal;text-decoration:normal;text-align:left;'> ASTM E1300-16 STANDARD PRACTICE FOR DETERMINING LOAD RESISTANCE OF GLASS IN BUILDINGS</div><div style='font-family:Helvetica Neue, Arial;font-size:11pt;font-style:normal;font-weight:normal;text-decoration:normal;text-align:left;'> PROJECT NAME - Project Location</div>"
      ],
      "text/plain": [
       "<IPython.core.display.Markdown object>"
      ]
     },
     "metadata": {},
     "output_type": "display_data"
    }
   ],
   "source": [
    "Text(\"SECTION 1.02\", \n",
    "     bold=True)\n",
    "\n",
    "Text(\"<br>\")\n",
    "\n",
    "Text(\"STRESS AND DEFLECTION ANALYSIS OF THE BUILDING PART INSULATING GLASS UNIT\", \n",
    "     bold=True, \n",
    "     underline=True)\n",
    "\n",
    "Text(\"ASTM E1300-16 STANDARD PRACTICE FOR DETERMINING LOAD RESISTANCE OF GLASS IN BUILDINGS\")\n",
    "\n",
    "Text(\"PROJECT NAME - Project Location\")\n",
    "Show()"
   ]
  },
  {
   "cell_type": "code",
   "execution_count": 5,
   "id": "complex-harvey",
   "metadata": {},
   "outputs": [
    {
     "data": {
      "text/markdown": [
       "<div class='horizontal'><figure><img class='template-image' src='images\\PPPP-CSXX 100 DRAWINGS\\1.01 SEAL 01.jpg' width='300px' height='300px' alt='missing jpg'><figcaption>Drawing Reference: 12.DT.641</figcaption></figure></div><div class='horizontal'><figure><img class='template-image' src='images\\PPPP-CSXX 100 DRAWINGS\\2.01 IGU 1.png' width='300px' height='300px' alt='missing jpg'><figcaption>Drawing Reference: 11.PE.603</figcaption></figure></div>"
      ],
      "text/plain": [
       "<IPython.core.display.Markdown object>"
      ]
     },
     "metadata": {},
     "output_type": "display_data"
    }
   ],
   "source": [
    "Image(image_names=[\"PPPP-CSXX 100 DRAWINGS\\\\1.01 SEAL 01.jpg\", \"PPPP-CSXX 100 DRAWINGS\\\\2.01 IGU 1.png\"], \n",
    "      captions=[\"Drawing Reference: 12.DT.641\", \"Drawing Reference: 11.PE.603\"], \n",
    "      width=300, \n",
    "      height=300,\n",
    "      layout=\"horizontal\")\n",
    "Show()"
   ]
  },
  {
   "cell_type": "code",
   "execution_count": 6,
   "id": "mathematical-superior",
   "metadata": {
    "scrolled": true
   },
   "outputs": [
    {
     "data": {
      "text/markdown": [
       "<div style='font-family:Helvetica Neue, Arial;font-size:11pt;font-style:normal;font-weight:bold;text-decoration:underline;text-align:left;'> Load Parameters</div><div class='tbl_eq_row'><div class='tbl_eq_cell eq_cell' style='font-size:11pt;'>$Duration = Short$</div><div class='tbl_eq_cell'>$\\hspace{0.25in}$</div><div class='tbl_eq_cell annot_cell'><div class='primary_annot' style='font-size:11pt;'>Load Duration</div><div class='secondary_annot' style='font-size:11pt;'>i.e., Long, Short</div></div></div><div class='tbl_eq_row'><div class='tbl_eq_cell eq_cell' style='font-size:11pt;'>$q = 4.49 \\cdot \\text{kPa}$</div><div class='tbl_eq_cell'>$\\hspace{0.25in}$</div><div class='tbl_eq_cell annot_cell'><div class='primary_annot' style='font-size:11pt;'>Design Wind Pressure</div><div class='secondary_annot' style='font-size:11pt;'></div></div></div>"
      ],
      "text/plain": [
       "<IPython.core.display.Markdown object>"
      ]
     },
     "metadata": {},
     "output_type": "display_data"
    }
   ],
   "source": [
    "Text(\"Load Parameters\", \n",
    "     bold=True, \n",
    "     underline=True)\n",
    "\n",
    "Equation(\"Duration = Short\", \n",
    "         annots=[\"Load Duration\", \"i.e., Long, Short\"])\n",
    "\n",
    "Equation(\"q = 4.49\", \n",
    "         unit=\"kPa\", \n",
    "         annots=[\"Design Wind Pressure\"])\n",
    "Show()"
   ]
  },
  {
   "cell_type": "code",
   "execution_count": 7,
   "id": "built-diploma",
   "metadata": {},
   "outputs": [
    {
     "data": {
      "text/markdown": [
       "<div style='font-family:Helvetica Neue, Arial;font-size:11pt;font-style:normal;font-weight:bold;text-decoration:underline;text-align:left;'> Panel Dimensions</div><div style='font-family:Helvetica Neue, Arial;font-size:11pt;font-style:normal;font-weight:normal;text-decoration:normal;text-align:left;'> <br></div><div class='tbl_eq_row'><div class='tbl_eq_cell eq_cell' style='font-size:11pt;'>$t_{e} = 6 \\cdot \\text{mm}$</div><div class='tbl_eq_cell'>$\\hspace{0.25in}$</div><div class='tbl_eq_cell annot_cell'><div class='primary_annot' style='font-size:11pt;'>Nominal thickness of the exterior glass lite</div><div class='secondary_annot' style='font-size:11pt;'></div></div></div><div class='tbl_eq_row'><div class='tbl_eq_cell eq_cell' style='font-size:11pt;'>$t_{emin} = 5.56 \\cdot \\text{mm}$</div><div class='tbl_eq_cell'>$\\hspace{0.25in}$</div><div class='tbl_eq_cell annot_cell'><div class='primary_annot' style='font-size:11pt;'>Minimum thickness of the exterior glass lite</div><div class='secondary_annot' style='font-size:11pt;'></div></div></div><div class='tbl_eq_row'><div class='tbl_eq_cell eq_cell' style='font-size:11pt;'>$t_{s} = 8 \\cdot \\text{mm}$</div><div class='tbl_eq_cell'>$\\hspace{0.25in}$</div><div class='tbl_eq_cell annot_cell'><div class='primary_annot' style='font-size:11pt;'>Space betweene glass planes</div><div class='secondary_annot' style='font-size:11pt;'></div></div></div><div class='tbl_eq_row'><div class='tbl_eq_cell eq_cell' style='font-size:11pt;'>$t_{i} = 12 \\cdot \\text{mm}$</div><div class='tbl_eq_cell'>$\\hspace{0.25in}$</div><div class='tbl_eq_cell annot_cell'><div class='primary_annot' style='font-size:11pt;'>Nominal thickness of the interior glass lite</div><div class='secondary_annot' style='font-size:11pt;'></div></div></div><div class='tbl_eq_row'><div class='tbl_eq_cell eq_cell' style='font-size:11pt;'>$t_{imin} = 11.91 \\cdot \\text{mm}$</div><div class='tbl_eq_cell'>$\\hspace{0.25in}$</div><div class='tbl_eq_cell annot_cell'><div class='primary_annot' style='font-size:11pt;'>Minimum thickness of the interior glass lite</div><div class='secondary_annot' style='font-size:11pt;'></div></div></div><div class='tbl_eq_row'><div class='tbl_eq_cell eq_cell' style='font-size:11pt;'>$l = 2115.0 \\cdot \\text{mm}$</div><div class='tbl_eq_cell'>$\\hspace{0.25in}$</div><div class='tbl_eq_cell annot_cell'><div class='primary_annot' style='font-size:11pt;'>Length of glass framing (module height)</div><div class='secondary_annot' style='font-size:11pt;'></div></div></div><div class='tbl_eq_row'><div class='tbl_eq_cell eq_cell' style='font-size:11pt;'>$w = 1500.0 \\cdot \\text{mm}$</div><div class='tbl_eq_cell'>$\\hspace{0.25in}$</div><div class='tbl_eq_cell annot_cell'><div class='primary_annot' style='font-size:11pt;'>Width of glass framing (module width) </div><div class='secondary_annot' style='font-size:11pt;'></div></div></div><div class='tbl_eq_row'><div class='tbl_eq_cell eq_cell' style='font-size:11pt;'>$a = 1973.0 \\cdot \\text{mm}$</div><div class='tbl_eq_cell'>$\\hspace{0.25in}$</div><div class='tbl_eq_cell annot_cell'><div class='primary_annot' style='font-size:11pt;'>Length of glass day light opening</div><div class='secondary_annot' style='font-size:11pt;'></div></div></div><div class='tbl_eq_row'><div class='tbl_eq_cell eq_cell' style='font-size:11pt;'>$b = 1407.0 \\cdot \\text{mm}$</div><div class='tbl_eq_cell'>$\\hspace{0.25in}$</div><div class='tbl_eq_cell annot_cell'><div class='primary_annot' style='font-size:11pt;'>Width of glass day light opening</div><div class='secondary_annot' style='font-size:11pt;'></div></div></div><div class='tbl_eq_row'><div class='tbl_eq_cell eq_cell' style='font-size:11pt;'>$Support = IV$</div><div class='tbl_eq_cell'>$\\hspace{0.25in}$</div><div class='tbl_eq_cell annot_cell'><div class='primary_annot' style='font-size:11pt;'>Glass panel support</div><div class='secondary_annot' style='font-size:11pt;'>IV - Four Sides Simply Supported,<br>III - Three Sides Simply Supported,<br>II - Two Parallel Sides Simply Supported,<br>I - Supported along One Edge</div></div></div><div class='tbl_eq_row'><div class='tbl_eq_cell eq_cell' style='font-size:11pt;'>$AR = \\frac{a}{b} = 1.4$</div><div class='tbl_eq_cell'>$\\hspace{0.25in}$</div><div class='tbl_eq_cell annot_cell'><div class='primary_annot' style='font-size:11pt;'>Aspect ratio</div><div class='secondary_annot' style='font-size:11pt;'>Note: for glass with three sides supported,<br>AR is the length of the supported edge over<br>the length of the free edge, and should be<br>equal to or greater than 0.5 to be classified as such.</div></div></div>"
      ],
      "text/plain": [
       "<IPython.core.display.Markdown object>"
      ]
     },
     "metadata": {},
     "output_type": "display_data"
    }
   ],
   "source": [
    "Text(\"Panel Dimensions\", bold=True, underline=True)\n",
    "Text(\"<br>\")\n",
    "\n",
    "Equation(\"t_e = 6\", \n",
    "         unit=\"mm\", \n",
    "         annots=[\"Nominal thickness of the exterior glass lite\"])\n",
    "\n",
    "Equation(\"t_emin = 5.56\", \n",
    "         unit=\"mm\", \n",
    "         annots=[\"Minimum thickness of the exterior glass lite\"])\n",
    "\n",
    "Equation(\"t_s = 8\", \n",
    "         unit=\"mm\", \n",
    "         annots=[\"Space betweene glass planes\"])\n",
    "\n",
    "Equation(\"t_i = 12\", \n",
    "         unit=\"mm\", \n",
    "         annots=[\"Nominal thickness of the interior glass lite\"])\n",
    "\n",
    "Equation(\"t_imin = 11.91\", \n",
    "         unit=\"mm\", \n",
    "         annots=[\"Minimum thickness of the interior glass lite\"])\n",
    "\n",
    "Equation(\"l = 2115.0\", \n",
    "         unit=\"mm\", \n",
    "         annots=[\"Length of glass framing (module height)\"])\n",
    "\n",
    "Equation(\"w = 1500.0\", \n",
    "         unit=\"mm\", \n",
    "         annots=[\"Width of glass framing (module width) \"])\n",
    "\n",
    "Equation(\"a = 1973.0\", \n",
    "         unit=\"mm\", \n",
    "         annots=[\"Length of glass day light opening\"])\n",
    "\n",
    "Equation(\"b = 1407.0\", \n",
    "         unit=\"mm\", \n",
    "         annots=[\"Width of glass day light opening\"])\n",
    "\n",
    "Equation(\"Support = IV\", \n",
    "         annots=[\"Glass panel support\",\n",
    "                 \"IV - Four Sides Simply Supported,\", \n",
    "                 \"III - Three Sides Simply Supported,\", \n",
    "                 \"II - Two Parallel Sides Simply Supported,\", \n",
    "                 \"I - Supported along One Edge\"])\n",
    "Equation(\"AR = a/b\", \n",
    "         annots=[\"Aspect ratio\", \n",
    "                 \"Note: for glass with three sides supported,\",\n",
    "                 \"AR is the length of the supported edge over\",\n",
    "                 \"the length of the free edge, and should be\",\n",
    "                 \"equal to or greater than 0.5 to be classified as such.\"],\n",
    "         simplify=True,\n",
    "         inline=True)\n",
    "Show()"
   ]
  },
  {
   "cell_type": "code",
   "execution_count": 8,
   "id": "available-western",
   "metadata": {},
   "outputs": [
    {
     "data": {
      "text/markdown": [
       "<div style='font-family:Helvetica Neue, Arial;font-size:11pt;font-style:normal;font-weight:bold;text-decoration:underline;text-align:left;'> Material Properties</div><div style='font-family:Helvetica Neue, Arial;font-size:11pt;font-style:normal;font-weight:normal;text-decoration:normal;text-align:left;'> <br></div><div class='tbl_eq_row'><div class='tbl_eq_cell eq_cell' style='font-size:11pt;'>$E_{g} = 71700.0 \\cdot \\text{MPa}$</div><div class='tbl_eq_cell'>$\\hspace{0.25in}$</div><div class='tbl_eq_cell annot_cell'><div class='primary_annot' style='font-size:11pt;'>Modulus of elasticity of glass</div><div class='secondary_annot' style='font-size:11pt;'></div></div></div><div class='tbl_eq_row'><div class='tbl_eq_cell eq_cell' style='font-size:11pt;'>$Type_{e} = HeatStrengthened$</div><div class='tbl_eq_cell'>$\\hspace{0.25in}$</div><div class='tbl_eq_cell annot_cell'><div class='primary_annot' style='font-size:11pt;'>Exterior glass type [1]</div><div class='secondary_annot' style='font-size:11pt;'></div></div></div><div class='tbl_eq_row'><div class='tbl_eq_cell eq_cell' style='font-size:11pt;'>$Type_{i} = HeatStrengthened$</div><div class='tbl_eq_cell'>$\\hspace{0.25in}$</div><div class='tbl_eq_cell annot_cell'><div class='primary_annot' style='font-size:11pt;'>Interior glass type [1]</div><div class='secondary_annot' style='font-size:11pt;'>[1] i.e., FullyTempered, HeatStrengthened, Annealed</div></div></div><div class='tbl_eq_row'><div class='tbl_eq_cell eq_cell' style='font-size:11pt;'>$Lite_{e} = Laminated$</div><div class='tbl_eq_cell'>$\\hspace{0.25in}$</div><div class='tbl_eq_cell annot_cell'><div class='primary_annot' style='font-size:11pt;'>Exterior glass lite [2]</div><div class='secondary_annot' style='font-size:11pt;'></div></div></div><div class='tbl_eq_row'><div class='tbl_eq_cell eq_cell' style='font-size:11pt;'>$Lite_{i} = Monolithic$</div><div class='tbl_eq_cell'>$\\hspace{0.25in}$</div><div class='tbl_eq_cell annot_cell'><div class='primary_annot' style='font-size:11pt;'>Interior glass lite [2]</div><div class='secondary_annot' style='font-size:11pt;'>[2] i.e., Monolithic, Laminated</div></div></div>"
      ],
      "text/plain": [
       "<IPython.core.display.Markdown object>"
      ]
     },
     "metadata": {},
     "output_type": "display_data"
    }
   ],
   "source": [
    "Text(\"Material Properties\", bold=True, underline=True)\n",
    "\n",
    "Text(\"<br>\")\n",
    "\n",
    "Equation(\"E_g = 71700.0\", \n",
    "         unit=\"MPa\", \n",
    "         annots=[\"Modulus of elasticity of glass\"])\n",
    "\n",
    "Equation(\"Type_e = HeatStrengthened\", \n",
    "         annots=[\"Exterior glass type [1]\"])\n",
    "\n",
    "Equation(\"Type_i = HeatStrengthened\", \n",
    "         annots=[\"Interior glass type [1]\", \"[1] i.e., FullyTempered, HeatStrengthened, Annealed\"])\n",
    "\n",
    "Equation(\"Lite_e = Laminated\", \n",
    "         annots=[\"Exterior glass lite [2]\"])\n",
    "\n",
    "Equation(\"Lite_i = Monolithic\", \n",
    "         annots=[\"Interior glass lite [2]\", \n",
    "                 \"[2] i.e., Monolithic, Laminated\"])\n",
    "Show()"
   ]
  },
  {
   "cell_type": "code",
   "execution_count": 9,
   "id": "corrected-watts",
   "metadata": {},
   "outputs": [
    {
     "data": {
      "text/markdown": [
       "<div style='font-family:Helvetica Neue, Arial;font-size:11pt;font-style:normal;font-weight:bold;text-decoration:underline;text-align:left;'> Load Resistance Check</div><div style='font-family:Helvetica Neue, Arial;font-size:11pt;font-style:normal;font-weight:normal;text-decoration:underline;text-align:left;'> Non-Factored Load</div><div class='horizontal'><figure><img class='template-image' src='images\\PTCC-EDT-AMS200-202 ASTM E1300-16 GRAPHS\\E1300-16 Fig A1.30 (IV) 6.0mm Laminated.jpg' width='250px' height='300px' alt='missing jpg'><figcaption></figcaption></figure></div><div class='horizontal'><figure><img class='template-image' src='images\\PTCC-EDT-AMS200-202 ASTM E1300-16 GRAPHS\\E1300-16 Fig A1.10 (IV) 12.0mm.jpg' width='250px' height='300px' alt='missing jpg'><figcaption></figcaption></figure></div><div style='font-family:Helvetica Neue, Arial;font-size:11pt;font-style:normal;font-weight:normal;text-decoration:normal;text-align:left;'> <br></div><div class='tbl_eq_row'><div class='tbl_eq_cell eq_cell' style='font-size:11pt;'>$a = 1973.0 \\cdot \\text{mm}$</div><div class='tbl_eq_cell'>$\\hspace{0.25in}$</div><div class='tbl_eq_cell annot_cell'><div class='primary_annot' style='font-size:11pt;'>Length of glass day light opening</div><div class='secondary_annot' style='font-size:11pt;'></div></div></div><div class='tbl_eq_row'><div class='tbl_eq_cell eq_cell' style='font-size:11pt;'>$b = 1407.0 \\cdot \\text{mm}$</div><div class='tbl_eq_cell'>$\\hspace{0.25in}$</div><div class='tbl_eq_cell annot_cell'><div class='primary_annot' style='font-size:11pt;'>Width of glass day light opening</div><div class='secondary_annot' style='font-size:11pt;'></div></div></div><div class='tbl_eq_row'><div class='tbl_eq_cell eq_cell' style='font-size:11pt;'>$NFL_{e} = 1.75 \\cdot \\text{kPa}$</div><div class='tbl_eq_cell'>$\\hspace{0.25in}$</div><div class='tbl_eq_cell annot_cell'><div class='primary_annot' style='font-size:11pt;'>Non-factored load of the exterior glass lite</div><div class='secondary_annot' style='font-size:11pt;'></div></div></div><div class='tbl_eq_row'><div class='tbl_eq_cell eq_cell' style='font-size:11pt;'>$NFL_{i} = 4.0 \\cdot \\text{kPa}$</div><div class='tbl_eq_cell'>$\\hspace{0.25in}$</div><div class='tbl_eq_cell annot_cell'><div class='primary_annot' style='font-size:11pt;'>Non-factored load of the interior glass lite</div><div class='secondary_annot' style='font-size:11pt;'></div></div></div>"
      ],
      "text/plain": [
       "<IPython.core.display.Markdown object>"
      ]
     },
     "metadata": {},
     "output_type": "display_data"
    }
   ],
   "source": [
    "Text(\"Load Resistance Check\", bold=True, underline=True)\n",
    "Text(\"Non-Factored Load\", underline=True)\n",
    "Image(image_names=[\"PTCC-EDT-AMS200-202 ASTM E1300-16 GRAPHS\\\\E1300-16 Fig A1.30 (IV) 6.0mm Laminated.jpg\", \n",
    "                   \"PTCC-EDT-AMS200-202 ASTM E1300-16 GRAPHS\\\\E1300-16 Fig A1.10 (IV) 12.0mm.jpg\"], \n",
    "      captions=[\"\", \"\"], width=250)\n",
    "Text(\"<br>\")\n",
    "Equation(\"a = 1973.0\", unit=\"mm\", annots=[\"Length of glass day light opening\"])\n",
    "Equation(\"b = 1407.0\", unit=\"mm\", annots=[\"Width of glass day light opening\"])\n",
    "Equation(\"NFL_e = 1.75\", unit=\"kPa\", annots=[\"Non-factored load of the exterior glass lite\"])\n",
    "Equation(\"NFL_i = 4.0\", unit=\"kPa\", annots=[\"Non-factored load of the interior glass lite\"])\n",
    "Show()"
   ]
  },
  {
   "cell_type": "code",
   "execution_count": 10,
   "id": "stuck-lucas",
   "metadata": {},
   "outputs": [
    {
     "data": {
      "text/markdown": [
       "<div style='float:left;overflow:hidden;height:1in;width:100%;'></div><table><caption>Table 2 Glass Type Factors (GTF) for Double Glazed Insulating Glass (IG), Short Duration Load</caption><thead><tr><th rowspan=3 colspan=1>Exterior Lite, <br> Monolithic Glass or <br> Laminated Glass Type</th><th rowspan=1 colspan=6>Interior Lite, Monolithic Glass or Laminated Glass Type</th></tr><tr><th rowspan=1 colspan=2>AN</th><th rowspan=1 colspan=2>HS</th><th rowspan=1 colspan=2>FT</th></tr><tr><th rowspan=1 colspan=1>GTFe</th><th rowspan=1 colspan=1>GTFi</th><th rowspan=1 colspan=1>GTFe</th><th rowspan=1 colspan=1>GTFi</th><th rowspan=1 colspan=1>GTFe</th><th rowspan=1 colspan=1>GTFi</th></tr></thead><tbody><tr><td rowspan=1 colspan=1>Annealed (AN)</td><td rowspan=1 colspan=1>0.9</td><td rowspan=1 colspan=1>0.9</td><td rowspan=1 colspan=1>1.0</td><td rowspan=1 colspan=1>1.9</td><td rowspan=1 colspan=1>1.0</td><td rowspan=1 colspan=1>3.8</td></tr><tr><td rowspan=1 colspan=1>HeatStrengthened (HS)</td><td rowspan=1 colspan=1>1.9</td><td rowspan=1 colspan=1>1.0</td><td rowspan=1 colspan=1>1.8</td><td rowspan=1 colspan=1>1.8</td><td rowspan=1 colspan=1>1.9</td><td rowspan=1 colspan=1>3.8</td></tr><tr><td rowspan=1 colspan=1>Annealed (AN)</td><td rowspan=1 colspan=1>0.9</td><td rowspan=1 colspan=1>0.9</td><td rowspan=1 colspan=1>1.0</td><td rowspan=1 colspan=1>1.9</td><td rowspan=1 colspan=1>1.0</td><td rowspan=1 colspan=1>3.8</td></tr></tbody></table><div style='font-family:Helvetica Neue, Arial;font-size:11pt;font-style:normal;font-weight:normal;text-decoration:normal;text-align:left;'> <br></div>"
      ],
      "text/plain": [
       "<IPython.core.display.Markdown object>"
      ]
     },
     "metadata": {},
     "output_type": "display_data"
    }
   ],
   "source": [
    "Vspace(1)\n",
    "Table_Start()\n",
    "Caption(\"Table 2 Glass Type Factors (GTF) for Double Glazed Insulating Glass (IG), Short Duration Load\")\n",
    "Column([Header_Cell(\"Exterior Lite, <br> Monolithic Glass or <br> Laminated Glass Type\", row_span=3), \n",
    "        Header_Cell(\"Interior Lite, Monolithic Glass or Laminated Glass Type\", col_span=6)])\n",
    "Column([Header_Cell(\"AN\", col_span=2), \n",
    "        Header_Cell(\"HS\", col_span=2),\n",
    "        Header_Cell(\"FT\", col_span=2)])\n",
    "Column([Header_Cell(\"GTFe\"),\n",
    "        Header_Cell(\"GTFi\"),\n",
    "        Header_Cell(\"GTFe\"), \n",
    "        Header_Cell(\"GTFi\"), \n",
    "        Header_Cell(\"GTFe\"), \n",
    "        Header_Cell(\"GTFi\")])\n",
    "Data([Data_Cell(\"Annealed (AN)\"), Data_Cell(0.9), Data_Cell(0.9), Data_Cell(1.0), Data_Cell(1.9), Data_Cell(1.0), Data_Cell(3.8)])\n",
    "Data([Data_Cell(\"HeatStrengthened (HS)\"), Data_Cell(1.9), Data_Cell(1.0), Data_Cell(1.8), Data_Cell(1.8), Data_Cell(1.9), Data_Cell(3.8)])\n",
    "Data([Data_Cell(\"Annealed (AN)\"), Data_Cell(0.9), Data_Cell(0.9), Data_Cell(1.0), Data_Cell(1.9), Data_Cell(1.0), Data_Cell(3.8)])\n",
    "Table_End()\n",
    "Text(\"<br>\")\n",
    "Show()"
   ]
  },
  {
   "cell_type": "code",
   "execution_count": 11,
   "id": "english-browse",
   "metadata": {},
   "outputs": [
    {
     "data": {
      "text/markdown": [
       "<div class='tbl_eq_row'><div class='tbl_eq_cell eq_cell' style='font-size:11pt;'>$Duration = Short$</div><div class='tbl_eq_cell'>$\\hspace{0.25in}$</div><div class='tbl_eq_cell annot_cell'><div class='primary_annot' style='font-size:11pt;'>Load Duration</div><div class='secondary_annot' style='font-size:11pt;'></div></div></div><div class='tbl_eq_row'><div class='tbl_eq_cell eq_cell' style='font-size:11pt;'>$Type_{e} = HeatStrengthened$</div><div class='tbl_eq_cell'>$\\hspace{0.25in}$</div><div class='tbl_eq_cell annot_cell'><div class='primary_annot' style='font-size:11pt;'>Exterior glass type [1]</div><div class='secondary_annot' style='font-size:11pt;'></div></div></div><div class='tbl_eq_row'><div class='tbl_eq_cell eq_cell' style='font-size:11pt;'>$GTF_{e} = 1.8$</div><div class='tbl_eq_cell'>$\\hspace{0.25in}$</div><div class='tbl_eq_cell annot_cell'><div class='primary_annot' style='font-size:11pt;'>Exterior glass type factor[3]</div><div class='secondary_annot' style='font-size:11pt;'></div></div></div><div class='tbl_eq_row'><div class='tbl_eq_cell eq_cell' style='font-size:11pt;'>$Type_{i} = HeatStrengthened$</div><div class='tbl_eq_cell'>$\\hspace{0.25in}$</div><div class='tbl_eq_cell annot_cell'><div class='primary_annot' style='font-size:11pt;'>Interior glass type [1]</div><div class='secondary_annot' style='font-size:11pt;'></div></div></div><div class='tbl_eq_row'><div class='tbl_eq_cell eq_cell' style='font-size:11pt;'>$GTF_{i} = 1.8$</div><div class='tbl_eq_cell'>$\\hspace{0.25in}$</div><div class='tbl_eq_cell annot_cell'><div class='primary_annot' style='font-size:11pt;'>Interior glass type factor [3]</div><div class='secondary_annot' style='font-size:11pt;'>[3] Refer to E1300-16 Table 2</div></div></div>"
      ],
      "text/plain": [
       "<IPython.core.display.Markdown object>"
      ]
     },
     "metadata": {},
     "output_type": "display_data"
    }
   ],
   "source": [
    "Equation(\"Duration = Short\", annots=[\"Load Duration\"])\n",
    "Equation(\"Type_e = HeatStrengthened\", annots=[\"Exterior glass type [1]\"])\n",
    "Equation(\"GTF_e = 1.8\", annots=[\"Exterior glass type factor[3]\"])\n",
    "Equation(\"Type_i = HeatStrengthened\", annots=[\"Interior glass type [1]\"])\n",
    "Equation(\"GTF_i = 1.8\", annots=[\"Interior glass type factor [3]\", \"[3] Refer to E1300-16 Table 2\"])\n",
    "Show()"
   ]
  },
  {
   "cell_type": "code",
   "execution_count": 12,
   "id": "tutorial-turning",
   "metadata": {},
   "outputs": [
    {
     "data": {
      "text/markdown": [
       "<div style='font-family:Helvetica Neue, Arial;font-size:11pt;font-style:normal;font-weight:bold;text-decoration:underline;text-align:left;'> Load Resistance</div><div class='tbl_eq_row'><div class='tbl_eq_cell eq_cell' style='font-size:11pt;'>$t_{emin} = 5.56 \\cdot \\text{mm}$</div><div class='tbl_eq_cell'>$\\hspace{0.25in}$</div><div class='tbl_eq_cell annot_cell'><div class='primary_annot' style='font-size:11pt;'>Minimum thickness of the exterior glass lite</div><div class='secondary_annot' style='font-size:11pt;'></div></div></div><div class='tbl_eq_row'><div class='tbl_eq_cell eq_cell' style='font-size:11pt;'>$t_{imin} = 11.91 \\cdot \\text{mm}$</div><div class='tbl_eq_cell'>$\\hspace{0.25in}$</div><div class='tbl_eq_cell annot_cell'><div class='primary_annot' style='font-size:11pt;'>Minimum thickness of the interior glass lite</div><div class='secondary_annot' style='font-size:11pt;'></div></div></div><div class='tbl_eq_row'><div class='tbl_eq_cell eq_cell' style='font-size:11pt;'>$LS_{e} = \\frac{t_{emin}^{3} + t_{imin}^{3}}{t_{emin}^{3}} = 10.83$</div><div class='tbl_eq_cell'>$\\hspace{0.25in}$</div><div class='tbl_eq_cell annot_cell'><div class='primary_annot' style='font-size:11pt;'>Load share factor of the exterior glass plane</div><div class='secondary_annot' style='font-size:11pt;'></div></div></div><div class='tbl_eq_row'><div class='tbl_eq_cell eq_cell' style='font-size:11pt;'>$LS_{i} = \\frac{t_{emin}^{3} + t_{imin}^{3}}{t_{imin}^{3}} = 1.1$</div><div class='tbl_eq_cell'>$\\hspace{0.25in}$</div><div class='tbl_eq_cell annot_cell'><div class='primary_annot' style='font-size:11pt;'>Load share factor of the interior glass plane</div><div class='secondary_annot' style='font-size:11pt;'></div></div></div><div class='tbl_eq_row'><div class='tbl_eq_cell eq_cell' style='font-size:11pt;'>$LR_{e} = GTF_{e} \\cdot LS_{e} \\cdot NFL_{e} = 34.11 \\cdot \\text{kPa}$</div><div class='tbl_eq_cell'>$\\hspace{0.25in}$</div><div class='tbl_eq_cell annot_cell'><div class='primary_annot' style='font-size:11pt;'>Load resistance of the exterior glass</div><div class='secondary_annot' style='font-size:11pt;'></div></div></div><div class='tbl_eq_row'><div class='tbl_eq_cell eq_cell' style='font-size:11pt;'>$LR_{i} = GTF_{i} \\cdot LS_{i} \\cdot NFL_{i} = 7.92 \\cdot \\text{kPa}$</div><div class='tbl_eq_cell'>$\\hspace{0.25in}$</div><div class='tbl_eq_cell annot_cell'><div class='primary_annot' style='font-size:11pt;'>Load resistance of the exterior glass</div><div class='secondary_annot' style='font-size:11pt;'></div></div></div><div class='tbl_eq_row'><div class='tbl_eq_cell eq_cell' style='font-size:11pt;'>$LR = \\min\\left(LR_{e}, LR_{i}\\right) = 7.92 \\cdot \\text{kPa}$</div><div class='tbl_eq_cell'>$\\hspace{0.25in}$</div><div class='tbl_eq_cell annot_cell'><div class='primary_annot' style='font-size:11pt;'>Governing load resistance of the insulating glass unit</div><div class='secondary_annot' style='font-size:11pt;'></div></div></div>"
      ],
      "text/plain": [
       "<IPython.core.display.Markdown object>"
      ]
     },
     "metadata": {},
     "output_type": "display_data"
    }
   ],
   "source": [
    "Text(\"Load Resistance\", bold=True, underline=True)\n",
    "\n",
    "Equation(\"t_emin = 5.56\", unit=\"mm\", annots=[\"Minimum thickness of the exterior glass lite\"])\n",
    "\n",
    "Equation(\"t_imin = 11.91\", unit=\"mm\", annots=[\"Minimum thickness of the interior glass lite\"])\n",
    "\n",
    "Equation(\"LS_e = (t_emin ** 3 + t_imin ** 3)/t_emin ** 3\", \n",
    "         simplify=True, inline=True, \n",
    "         annots=[\"Load share factor of the exterior glass plane\"])\n",
    "\n",
    "Equation(\"LS_i = (t_emin ** 3 + t_imin ** 3)/t_imin ** 3\", \n",
    "         simplify=True, \n",
    "         inline=True, \n",
    "         annots=[\"Load share factor of the interior glass plane\"])\n",
    "\n",
    "Equation(\"LR_e = GTF_e * LS_e * NFL_e\", \n",
    "         simplify=True, \n",
    "         inline=True, \n",
    "         annots=[\"Load resistance of the exterior glass\"])\n",
    "\n",
    "Equation(\"LR_i = GTF_i * LS_i * NFL_i\", \n",
    "         simplify=True,\n",
    "         inline=True,\n",
    "         annots=[\"Load resistance of the exterior glass\"])\n",
    "\n",
    "Equation(\"LR = Min(LR_e, LR_i)\",\n",
    "         simplify=True,\n",
    "         inline=True,\n",
    "         annots=[\"Governing load resistance of the insulating glass unit\"])\n",
    "Show()"
   ]
  },
  {
   "cell_type": "code",
   "execution_count": 13,
   "id": "weekly-caution",
   "metadata": {},
   "outputs": [
    {
     "data": {
      "text/markdown": [
       "<div style='font-family:Helvetica Neue, Arial; font-size:11pt'>Comparing, <div><br>$q = 4.49 \\cdot \\text{kPa} < LR = 7.92 \\cdot \\text{kPa}$</div><div><br>Since the design wind pressure is less than the glass load resistance, <br> <u><b>THE WIND PRESSURE IS NOT WITHIN THE ALLOWABLE LIMIT</u></b></div></div>"
      ],
      "text/plain": [
       "<IPython.core.display.Markdown object>"
      ]
     },
     "metadata": {},
     "output_type": "display_data"
    }
   ],
   "source": [
    "Compare(lhs_var_str=\"q\",\n",
    "        rhs_var_str=\"LR\",\n",
    "        expected=\">\",\n",
    "        descr_lhs=\"design wind pressure\",\n",
    "        descr_rhs=\"glass load resistance\",\n",
    "        component=\"wind pressure\",\n",
    "        statement=\"within the allowable limit\")\n",
    "Show()"
   ]
  },
  {
   "cell_type": "code",
   "execution_count": 14,
   "id": "proper-moscow",
   "metadata": {},
   "outputs": [
    {
     "data": {
      "text/markdown": [
       "<div style='font-family:Helvetica Neue, Arial;font-size:11pt;font-style:normal;font-weight:bold;text-decoration:underline;text-align:left;'> Effective Thickness of Laminated Glass - Exterior Lite</div><div style='font-family:Helvetica Neue, Arial;font-size:11pt;font-style:normal;font-weight:bold;text-decoration:normal;text-align:left;'> Refer to ASTM E1300-16 Section X9</div><div style='font-family:Helvetica Neue, Arial;font-size:11pt;font-style:normal;font-weight:normal;text-decoration:normal;text-align:left;'> <br></div><div class='tbl_eq_row'><div class='tbl_eq_cell eq_cell' style='font-size:11pt;'>$Lite_{e} = Laminated$</div><div class='tbl_eq_cell'>$\\hspace{0.25in}$</div><div class='tbl_eq_cell annot_cell'><div class='primary_annot' style='font-size:11pt;'>Exterior glass lite [2]</div><div class='secondary_annot' style='font-size:11pt;'></div></div></div><div class='tbl_eq_row'><div class='tbl_eq_cell eq_cell' style='font-size:11pt;'>$t_{e} = 6 \\cdot \\text{mm}$</div><div class='tbl_eq_cell'>$\\hspace{0.25in}$</div><div class='tbl_eq_cell annot_cell'><div class='primary_annot' style='font-size:11pt;'>Nominal Thickness of the exterior glass lite</div><div class='secondary_annot' style='font-size:11pt;'></div></div></div><div class='tbl_eq_row'><div class='tbl_eq_cell eq_cell' style='font-size:11pt;'>$t_{emin} = 5.56 \\cdot \\text{mm}$</div><div class='tbl_eq_cell'>$\\hspace{0.25in}$</div><div class='tbl_eq_cell annot_cell'><div class='primary_annot' style='font-size:11pt;'>Minimum Thickness of the exterior glass lite</div><div class='secondary_annot' style='font-size:11pt;'></div></div></div><div class='tbl_eq_row'><div class='tbl_eq_cell eq_cell' style='font-size:11pt;'>$h_{p1e} = 0.5 \\cdot t_{e} = 3.0 \\cdot \\text{mm}$</div><div class='tbl_eq_cell'>$\\hspace{0.25in}$</div><div class='tbl_eq_cell annot_cell'><div class='primary_annot' style='font-size:11pt;'>Thickness of glass ply 1</div><div class='secondary_annot' style='font-size:11pt;'></div></div></div><div class='tbl_eq_row'><div class='tbl_eq_cell eq_cell' style='font-size:11pt;'>$h_{1e} = 2.92 \\cdot \\text{mm}$</div><div class='tbl_eq_cell'>$\\hspace{0.25in}$</div><div class='tbl_eq_cell annot_cell'><div class='primary_annot' style='font-size:11pt;'>Minimum Thickness of glass ply 1</div><div class='secondary_annot' style='font-size:11pt;'></div></div></div><div class='tbl_eq_row'><div class='tbl_eq_cell eq_cell' style='font-size:11pt;'>$h_{p2e} = 0.5 \\cdot t_{e} = 3.0 \\cdot \\text{mm}$</div><div class='tbl_eq_cell'>$\\hspace{0.25in}$</div><div class='tbl_eq_cell annot_cell'><div class='primary_annot' style='font-size:11pt;'>Thickness of glass ply 2</div><div class='secondary_annot' style='font-size:11pt;'></div></div></div><div class='tbl_eq_row'><div class='tbl_eq_cell eq_cell' style='font-size:11pt;'>$h_{2e} = 2.92 \\cdot \\text{mm}$</div><div class='tbl_eq_cell'>$\\hspace{0.25in}$</div><div class='tbl_eq_cell annot_cell'><div class='primary_annot' style='font-size:11pt;'>Minimum Thickness of glass ply 2</div><div class='secondary_annot' style='font-size:11pt;'></div></div></div><div class='tbl_eq_row'><div class='tbl_eq_cell eq_cell' style='font-size:11pt;'>$h_{v} = 1.52 \\cdot \\text{mm}$</div><div class='tbl_eq_cell'>$\\hspace{0.25in}$</div><div class='tbl_eq_cell annot_cell'><div class='primary_annot' style='font-size:11pt;'>Interlayer thickness</div><div class='secondary_annot' style='font-size:11pt;'></div></div></div><div class='tbl_eq_row'><div class='tbl_eq_cell eq_cell' style='font-size:11pt;'>$E_{g} = 71700.0 \\cdot \\text{MPa}$</div><div class='tbl_eq_cell'>$\\hspace{0.25in}$</div><div class='tbl_eq_cell annot_cell'><div class='primary_annot' style='font-size:11pt;'>Modulus of Elasticity</div><div class='secondary_annot' style='font-size:11pt;'></div></div></div><div class='tbl_eq_row'><div class='tbl_eq_cell eq_cell' style='font-size:11pt;'>$a_{min} = \\min\\left(a, b\\right) = 1407.0 \\cdot \\text{mm}$</div><div class='tbl_eq_cell'>$\\hspace{0.25in}$</div><div class='tbl_eq_cell annot_cell'><div class='primary_annot' style='font-size:11pt;'>Smallest in-plane dimension of bending</div><div class='secondary_annot' style='font-size:11pt;'></div></div></div><div class='tbl_eq_row'><div class='tbl_eq_cell eq_cell' style='font-size:11pt;'>$G = 0.4 \\cdot \\text{MPa}$</div><div class='tbl_eq_cell'>$\\hspace{0.25in}$</div><div class='tbl_eq_cell annot_cell'><div class='primary_annot' style='font-size:11pt;'>Shear Modulus of PVB</div><div class='secondary_annot' style='font-size:11pt;'>Refer to ASTM 1300-16 Section X8.3.1</div></div></div><div class='tbl_eq_row'><div class='tbl_eq_cell eq_cell' style='font-size:11pt;'>$h_{se} = 0.5 \\cdot h_{1e} + 0.5 \\cdot h_{2e} + h_{v} = 4.44 \\cdot \\text{mm}$</div><div class='tbl_eq_cell'>$\\hspace{0.25in}$</div><div class='tbl_eq_cell annot_cell'><div class='primary_annot' style='font-size:11pt;'>Thickness parameter for shear transfer coefficient</div><div class='secondary_annot' style='font-size:11pt;'></div></div></div><div class='tbl_eq_row'><div class='tbl_eq_cell eq_cell' style='font-size:11pt;'>$h_{s1e} = \\frac{h_{1e} \\cdot h_{se}}{h_{1e} + h_{2e}} = 2.22 \\cdot \\text{mm}$</div><div class='tbl_eq_cell'>$\\hspace{0.25in}$</div><div class='tbl_eq_cell annot_cell'><div class='primary_annot' style='font-size:11pt;'></div><div class='secondary_annot' style='font-size:11pt;'></div></div></div><div class='tbl_eq_row'><div class='tbl_eq_cell eq_cell' style='font-size:11pt;'>$h_{s2e} = \\frac{h_{2e} \\cdot h_{se}}{h_{1e} + h_{2e}} = 2.22 \\cdot \\text{mm}$</div><div class='tbl_eq_cell'>$\\hspace{0.25in}$</div><div class='tbl_eq_cell annot_cell'><div class='primary_annot' style='font-size:11pt;'></div><div class='secondary_annot' style='font-size:11pt;'></div></div></div><div class='tbl_eq_row'><div class='tbl_eq_cell eq_cell' style='font-size:11pt;'>$I_{se} = h_{1e} \\cdot h_{s2e}^{2} + h_{2e} \\cdot h_{s1e}^{2} = 28.79 \\cdot \\text{mm}^{3}$</div><div class='tbl_eq_cell'>$\\hspace{0.25in}$</div><div class='tbl_eq_cell annot_cell'><div class='primary_annot' style='font-size:11pt;'></div><div class='secondary_annot' style='font-size:11pt;'></div></div></div><div class='tbl_eq_row'><div class='tbl_eq_cell eq_cell' style='font-size:11pt;'>$\\Gamma_{e} = \\left(\\frac{9.6 \\cdot E_{g} \\cdot I_{se} \\cdot h_{v}}{G \\cdot a_{min}^{2} \\cdot h_{se}^{2}} + 1\\right)^{-1} = 0.34$</div><div class='tbl_eq_cell'>$\\hspace{0.25in}$</div><div class='tbl_eq_cell annot_cell'><div class='primary_annot' style='font-size:11pt;'>Shear Transfer coefficient</div><div class='secondary_annot' style='font-size:11pt;'></div></div></div><div class='tbl_eq_row'><div class='tbl_eq_cell eq_cell' style='font-size:11pt;'>$t_{eef} = \\sqrt[3]{12 \\cdot \\Gamma_{e} \\cdot I_{se} + h_{1e}^{3} + h_{2e}^{3}} = 5.51 \\cdot \\text{mm}$</div><div class='tbl_eq_cell'>$\\hspace{0.25in}$</div><div class='tbl_eq_cell annot_cell'><div class='primary_annot' style='font-size:11pt;'>Effective thickness fordeflection calculations</div><div class='secondary_annot' style='font-size:11pt;'></div></div></div><div class='tbl_eq_row'><div class='tbl_eq_cell eq_cell' style='font-size:11pt;'>$t_{eef \\sigma} = \\max\\left(\\sqrt{\\frac{t_{eef}^{3}}{2 \\cdot \\Gamma_{e} \\cdot h_{s1e} + h_{2e}}}, \\sqrt{\\frac{t_{eef}^{3}}{2 \\cdot \\Gamma_{e} \\cdot h_{s2e} + h_{1e}}}\\right)$</div><div class='tbl_eq_cell'>$\\hspace{0.25in}$</div><div class='tbl_eq_cell annot_cell'><div class='primary_annot' style='font-size:11pt;'>Effective thickness for stress calculations</div><div class='secondary_annot' style='font-size:11pt;'></div></div></div><div class='tbl_eq_row'><div class='tbl_eq_cell eq_cell' style='font-size:11pt;'>$t_{eef \\sigma} = 6.14 \\cdot \\text{mm}$</div><div class='tbl_eq_cell'>$\\hspace{0.25in}$</div><div class='tbl_eq_cell annot_cell'><div class='primary_annot' style='font-size:11pt;'></div><div class='secondary_annot' style='font-size:11pt;'></div></div></div>"
      ],
      "text/plain": [
       "<IPython.core.display.Markdown object>"
      ]
     },
     "metadata": {},
     "output_type": "display_data"
    }
   ],
   "source": [
    "Text(\"Effective Thickness of Laminated Glass - Exterior Lite\", underline=True, bold=True)\n",
    "Text(\"Refer to ASTM E1300-16 Section X9\", bold=True)\n",
    "Text(\"<br>\")\n",
    "\n",
    "Equation(\"Lite_e = Laminated\", \n",
    "         annots=[\"Exterior glass lite [2]\"])\n",
    "\n",
    "Equation(\"t_e = 6\", \n",
    "         unit=\"mm\", \n",
    "         annots=[\"Nominal Thickness of the exterior glass lite\"])\n",
    "\n",
    "Equation(\"t_emin = 5.56\", \n",
    "         unit=\"mm\", \n",
    "         annots=[\"Minimum Thickness of the exterior glass lite\"])\n",
    "\n",
    "Equation(\"h_p1e = 0.5 * t_e\", \n",
    "         simplify=True, \n",
    "         inline=True, \n",
    "         annots=[\"Thickness of glass ply 1\"])\n",
    "\n",
    "Equation(\"h_1e = 2.92\", \n",
    "         unit=\"mm\", \n",
    "         annots=[\"Minimum Thickness of glass ply 1\"])\n",
    "\n",
    "Equation(\"h_p2e = 0.5 * t_e\", \n",
    "         simplify=True, \n",
    "         inline=True, \n",
    "         annots=[\"Thickness of glass ply 2\"])\n",
    "\n",
    "Equation(\"h_2e = 2.92\", \n",
    "         unit=\"mm\", \n",
    "         annots=[\"Minimum Thickness of glass ply 2\"])\n",
    "\n",
    "Equation(\"h_v = 1.52\", \n",
    "         unit=\"mm\", \n",
    "         annots=[\"Interlayer thickness\"])\n",
    "\n",
    "Equation(\"E_g = 71700.0\", \n",
    "         unit=\"MPa\", \n",
    "         annots=[\"Modulus of Elasticity\"])\n",
    "\n",
    "Equation(\"a_min = Min(a, b)\", \n",
    "         simplify=True, \n",
    "         inline=True, \n",
    "         annots=[\"Smallest in-plane dimension of bending\"])\n",
    "\n",
    "Equation(\"G = 0.4\", \n",
    "         unit=\"MPa\", \n",
    "         annots=[\"Shear Modulus of PVB\", \n",
    "                 \"Refer to ASTM 1300-16 Section X8.3.1\"])\n",
    "\n",
    "Equation(\"h_se = 0.5 * (h_1e + h_2e) + h_v\", \n",
    "         simplify=True, \n",
    "         inline=True, \n",
    "         annots=[\"Thickness parameter for shear transfer coefficient\"])\n",
    "\n",
    "Equation(\"h_s1e = (h_1e * h_se)/(h_1e + h_2e)\", \n",
    "         simplify=True, \n",
    "         inline=True)\n",
    "\n",
    "Equation(\"h_s2e = (h_2e * h_se)/(h_1e + h_2e)\", \n",
    "         simplify=True, \n",
    "         inline=True)\n",
    "\n",
    "Equation(\"I_se = h_1e * h_s2e **2 + h_2e * h_s1e **2\",\n",
    "         simplify=True,\n",
    "         inline=True)\n",
    "\n",
    "Equation(\"Gamma_e = (1 + (9.6 * E_g * I_se * h_v)/(G * a_min ** 2 * h_se**2)) ** UnevaluatedExpr(-1)\",\n",
    "         simplify=True,\n",
    "         inline=True,\n",
    "         annots=[\"Shear Transfer coefficient\"])\n",
    "\n",
    "Equation(\"t_eef = cbrt(h_1e ** 3 + h_2e ** 3 + 12 * Gamma_e * I_se)\", \n",
    "         simplify=True, \n",
    "         inline=True, \n",
    "         annots=[\"Effective thickness fordeflection calculations\"])\n",
    "\n",
    "Equation(\"t_eef_sigma = Max(sqrt((t_eef ** 3) / (2 * Gamma_e * h_s1e + h_2e)), sqrt((t_eef ** 3) / (2 * Gamma_e * h_s2e + h_1e)))\", \n",
    "         simplify=True,  \n",
    "         annots=[\"Effective thickness for stress calculations\"])\n",
    "\n",
    "Show()"
   ]
  },
  {
   "cell_type": "code",
   "execution_count": 15,
   "id": "certain-client",
   "metadata": {},
   "outputs": [
    {
     "data": {
      "text/markdown": [
       "<div style='font-family:Helvetica Neue, Arial;font-size:11pt;font-style:normal;font-weight:bold;text-decoration:underline;text-align:left;'> Actual Deflection</div><div style='font-family:Helvetica Neue, Arial;font-size:11pt;font-style:normal;font-weight:bold;text-decoration:normal;text-align:left;'> Refer to ASTM E1300-16 Section X1 Alternative Procedure for Calculating the Approximate Center of Glass Deflection</div><div style='font-family:Helvetica Neue, Arial;font-size:11pt;font-style:normal;font-weight:normal;text-decoration:normal;text-align:left;'> <br></div><div class='tbl_eq_row'><div class='tbl_eq_cell eq_cell' style='font-size:11pt;'>$E_{g} = 71.7 \\cdot \\text{GPa}$</div><div class='tbl_eq_cell'>$\\hspace{0.25in}$</div><div class='tbl_eq_cell annot_cell'><div class='primary_annot' style='font-size:11pt;'>Modulus of Elasticity of glass</div><div class='secondary_annot' style='font-size:11pt;'></div></div></div><div class='tbl_eq_row'><div class='tbl_eq_cell eq_cell' style='font-size:11pt;'>$q = 4.49 \\cdot \\text{kPa}$</div><div class='tbl_eq_cell'>$\\hspace{0.25in}$</div><div class='tbl_eq_cell annot_cell'><div class='primary_annot' style='font-size:11pt;'>Design Wind Pressure</div><div class='secondary_annot' style='font-size:11pt;'></div></div></div><div class='tbl_eq_row'><div class='tbl_eq_cell eq_cell' style='font-size:11pt;'>$a = 1.97 \\cdot \\text{m}$</div><div class='tbl_eq_cell'>$\\hspace{0.25in}$</div><div class='tbl_eq_cell annot_cell'><div class='primary_annot' style='font-size:11pt;'>Length of glass day light opening</div><div class='secondary_annot' style='font-size:11pt;'></div></div></div><div class='tbl_eq_row'><div class='tbl_eq_cell eq_cell' style='font-size:11pt;'>$b = 1.41 \\cdot \\text{m}$</div><div class='tbl_eq_cell'>$\\hspace{0.25in}$</div><div class='tbl_eq_cell annot_cell'><div class='primary_annot' style='font-size:11pt;'>Width of glass day light opening</div><div class='secondary_annot' style='font-size:11pt;'></div></div></div><div class='tbl_eq_row'><div class='tbl_eq_cell eq_cell' style='font-size:11pt;'>$GTF_{e} = 1.8$</div><div class='tbl_eq_cell'>$\\hspace{0.25in}$</div><div class='tbl_eq_cell annot_cell'><div class='primary_annot' style='font-size:11pt;'>Exterior glass type factor [3]</div><div class='secondary_annot' style='font-size:11pt;'></div></div></div><div class='tbl_eq_row'><div class='tbl_eq_cell eq_cell' style='font-size:11pt;'>$AR = 1.4$</div><div class='tbl_eq_cell'>$\\hspace{0.25in}$</div><div class='tbl_eq_cell annot_cell'><div class='primary_annot' style='font-size:11pt;'>Aspect ratio</div><div class='secondary_annot' style='font-size:11pt;'></div></div></div><div class='tbl_eq_row'><div class='tbl_eq_cell eq_cell' style='font-size:11pt;'>$AR_{ef} = \\min\\left(5.0, AR\\right) = 1.4$</div><div class='tbl_eq_cell'>$\\hspace{0.25in}$</div><div class='tbl_eq_cell annot_cell'><div class='primary_annot' style='font-size:11pt;'>Effective aspect ratio</div><div class='secondary_annot' style='font-size:11pt;'></div></div></div><div class='tbl_eq_row'><div class='tbl_eq_cell eq_cell' style='font-size:11pt;'>$r_{0} = - 0.0969 \\cdot AR_{ef}^{3} + 1.11 \\cdot AR_{ef}^{2} - 3.83 \\cdot AR_{ef} + 0.553$</div><div class='tbl_eq_cell'>$\\hspace{0.25in}$</div><div class='tbl_eq_cell annot_cell'><div class='primary_annot' style='font-size:11pt;'>Dalgiesh polynomial equation</div><div class='secondary_annot' style='font-size:11pt;'></div></div></div><div class='tbl_eq_row'><div class='tbl_eq_cell eq_cell' style='font-size:11pt;'>$r_{0} = -2.9$</div><div class='tbl_eq_cell'>$\\hspace{0.25in}$</div><div class='tbl_eq_cell annot_cell'><div class='primary_annot' style='font-size:11pt;'></div><div class='secondary_annot' style='font-size:11pt;'></div></div></div><div class='tbl_eq_row'><div class='tbl_eq_cell eq_cell' style='font-size:11pt;'>$r_{1} = 0.2067 \\cdot AR_{ef}^{3} - 2.17 \\cdot AR_{ef}^{2} + 5.83 \\cdot AR_{ef} - 2.29$</div><div class='tbl_eq_cell'>$\\hspace{0.25in}$</div><div class='tbl_eq_cell annot_cell'><div class='primary_annot' style='font-size:11pt;'></div><div class='secondary_annot' style='font-size:11pt;'></div></div></div><div class='tbl_eq_row'><div class='tbl_eq_cell eq_cell' style='font-size:11pt;'>$r_{1} = 2.19$</div><div class='tbl_eq_cell'>$\\hspace{0.25in}$</div><div class='tbl_eq_cell annot_cell'><div class='primary_annot' style='font-size:11pt;'></div><div class='secondary_annot' style='font-size:11pt;'></div></div></div><div class='tbl_eq_row'><div class='tbl_eq_cell eq_cell' style='font-size:11pt;'>$r_{2} = - 0.0822 \\cdot AR_{ef}^{3} + 0.815 \\cdot AR_{ef}^{2} - 1.908 \\cdot AR_{ef} + 1.485$</div><div class='tbl_eq_cell'>$\\hspace{0.25in}$</div><div class='tbl_eq_cell annot_cell'><div class='primary_annot' style='font-size:11pt;'></div><div class='secondary_annot' style='font-size:11pt;'></div></div></div><div class='tbl_eq_row'><div class='tbl_eq_cell eq_cell' style='font-size:11pt;'>$r_{2} = 0.19$</div><div class='tbl_eq_cell'>$\\hspace{0.25in}$</div><div class='tbl_eq_cell annot_cell'><div class='primary_annot' style='font-size:11pt;'></div><div class='secondary_annot' style='font-size:11pt;'></div></div></div>"
      ],
      "text/plain": [
       "<IPython.core.display.Markdown object>"
      ]
     },
     "metadata": {},
     "output_type": "display_data"
    }
   ],
   "source": [
    "Text(\"Actual Deflection\", bold=True, underline=True)\n",
    "Text(\"Refer to ASTM E1300-16 Section X1 Alternative Procedure for Calculating the Approximate Center of Glass Deflection\",\n",
    "     bold=True)\n",
    "Text(\"<br>\")\n",
    "\n",
    "Equation(\"E_g = 71.7\",\n",
    "         unit=\"GPa\",\n",
    "         annots=[\"Modulus of Elasticity of glass\"])\n",
    "\n",
    "Equation(\"q = 4.49\",\n",
    "         unit=\"kPa\",\n",
    "         annots=[\"Design Wind Pressure\"])\n",
    "\n",
    "Equation(\"a = 1.97\",\n",
    "         unit=\"m\",\n",
    "         annots=[\"Length of glass day light opening\"])\n",
    "\n",
    "Equation(\"b = 1.41\",\n",
    "         unit=\"m\",\n",
    "         annots=[\"Width of glass day light opening\"])\n",
    "\n",
    "Equation(\"GTF_e = 1.8\",\n",
    "         annots=[\"Exterior glass type factor [3]\"])\n",
    "\n",
    "Equation(\"AR = 1.4\",\n",
    "         annots=[\"Aspect ratio\"])\n",
    "\n",
    "Equation(\"AR_ef = Min(5.0, AR)\",\n",
    "         simplify=True,\n",
    "         inline=True,\n",
    "         annots=[\"Effective aspect ratio\"])\n",
    "\n",
    "Equation(\"r_0 = 0.553 - 3.83 * AR_ef + 1.11 * AR_ef ** 2 - 0.0969 * AR_ef ** 3\", \n",
    "         simplify=True,\n",
    "         annots=[\"Dalgiesh polynomial equation\"])\n",
    "\n",
    "Equation(\"r_1 = -2.29 + 5.83 * AR_ef - 2.17 * AR_ef**2 + 0.2067 * AR_ef ** 3\",\n",
    "         simplify=True)\n",
    "\n",
    "Equation(\"r_2 = 1.485 - 1.908 * AR_ef + 0.815 * AR_ef ** 2 - 0.0822 * AR_ef ** 3\", \n",
    "         simplify=True)\n",
    "Show()"
   ]
  },
  {
   "cell_type": "code",
   "execution_count": 16,
   "id": "flying-chest",
   "metadata": {},
   "outputs": [
    {
     "data": {
      "text/markdown": [
       "<div style='font-family:Helvetica Neue, Arial;font-size:11pt;font-style:normal;font-weight:bold;text-decoration:underline;text-align:left;'> Exterior Glass Pane</div><div style='font-family:Helvetica Neue, Arial;font-size:11pt;font-style:normal;font-weight:normal;text-decoration:normal;text-align:left;'> <br></div><div class='tbl_eq_row'><div class='tbl_eq_cell eq_cell' style='font-size:11pt;'>$t_{eef} = 5.51 \\cdot \\text{mm}$</div><div class='tbl_eq_cell'>$\\hspace{0.25in}$</div><div class='tbl_eq_cell annot_cell'><div class='primary_annot' style='font-size:11pt;'>Effective thickness for the deflection calculations</div><div class='secondary_annot' style='font-size:11pt;'></div></div></div><div class='tbl_eq_row'><div class='tbl_eq_cell eq_cell' style='font-size:11pt;'>$LS_{e} = 10.83$</div><div class='tbl_eq_cell'>$\\hspace{0.25in}$</div><div class='tbl_eq_cell annot_cell'><div class='primary_annot' style='font-size:11pt;'>Load share factor of the exterior glass pane</div><div class='secondary_annot' style='font-size:11pt;'></div></div></div><div class='tbl_eq_row'><div class='tbl_eq_cell eq_cell' style='font-size:11pt;'>$x_{e} = \\log{\\left(\\log{\\left(\\frac{a^{2} \\cdot b^{2} \\cdot q}{E_{g} \\cdot LS_{e} \\cdot t_{eef}^{4}} \\right)} \\right)} = 1.36$</div><div class='tbl_eq_cell'>$\\hspace{0.25in}$</div><div class='tbl_eq_cell annot_cell'><div class='primary_annot' style='font-size:11pt;'>Dalgliesh equation constant</div><div class='secondary_annot' style='font-size:11pt;'></div></div></div><div class='tbl_eq_row'><div class='tbl_eq_cell eq_cell' style='font-size:11pt;'>$w_{e} = t_{eef} \\cdot e^{r_{0} + r_{1} \\cdot x_{e} + r_{2} \\cdot x_{e}^{2}} = 8.47 \\cdot \\text{mm}$</div><div class='tbl_eq_cell'>$\\hspace{0.25in}$</div><div class='tbl_eq_cell annot_cell'><div class='primary_annot' style='font-size:11pt;'>Center of glass pane deflection</div><div class='secondary_annot' style='font-size:11pt;'></div></div></div>"
      ],
      "text/plain": [
       "<IPython.core.display.Markdown object>"
      ]
     },
     "metadata": {},
     "output_type": "display_data"
    }
   ],
   "source": [
    "Text(\"Exterior Glass Pane\", bold=True, underline=True)\n",
    "Text(\"<br>\")\n",
    "\n",
    "Equation(\"t_eef = 5.51\", \n",
    "         unit=\"mm\", \n",
    "         annots=[\"Effective thickness for the deflection calculations\"])\n",
    "\n",
    "Equation(\"LS_e = 10.83\", \n",
    "         annots=[\"Load share factor of the exterior glass pane\"])\n",
    "\n",
    "Equation(\"x_e = log(log((a**2 * b**2 * q) / (E_g * LS_e * t_eef ** 4)))\",\n",
    "         simplify=True,\n",
    "         inline=True,\n",
    "         annots=[\"Dalgliesh equation constant\"])\n",
    "\n",
    "Equation(\"w_e = t_eef * exp(r_0 + r_1 * x_e + r_2 * x_e ** 2)\", \n",
    "         simplify=True, \n",
    "         inline=True, \n",
    "         annots=[\"Center of glass pane deflection\"])\n",
    "\n",
    "Show()"
   ]
  },
  {
   "cell_type": "code",
   "execution_count": 17,
   "id": "fiscal-facial",
   "metadata": {},
   "outputs": [
    {
     "data": {
      "text/markdown": [
       "<div style='font-family:Helvetica Neue, Arial;font-size:11pt;font-style:normal;font-weight:bold;text-decoration:underline;text-align:left;'> Interior Glass Pane</div><div style='font-family:Helvetica Neue, Arial;font-size:11pt;font-style:normal;font-weight:normal;text-decoration:normal;text-align:left;'> <br></div><div class='tbl_eq_row'><div class='tbl_eq_cell eq_cell' style='font-size:11pt;'>$t_{ief} = t_{imin} = 11.91 \\cdot \\text{mm}$</div><div class='tbl_eq_cell'>$\\hspace{0.25in}$</div><div class='tbl_eq_cell annot_cell'><div class='primary_annot' style='font-size:11pt;'>Effective thickness for deflection calculations</div><div class='secondary_annot' style='font-size:11pt;'></div></div></div><div class='tbl_eq_row'><div class='tbl_eq_cell eq_cell' style='font-size:11pt;'>$LS_{i} = 1.1$</div><div class='tbl_eq_cell'>$\\hspace{0.25in}$</div><div class='tbl_eq_cell annot_cell'><div class='primary_annot' style='font-size:11pt;'>Effective thickness for deflection calculations</div><div class='secondary_annot' style='font-size:11pt;'></div></div></div><div class='tbl_eq_row'><div class='tbl_eq_cell eq_cell' style='font-size:11pt;'>$x_{i} = \\log{\\left(\\log{\\left(\\frac{a^{2} \\cdot b^{2} \\cdot q}{E_{g} \\cdot LS_{i} \\cdot t_{ief}^{4}} \\right)} \\right)} = 1.13$</div><div class='tbl_eq_cell'>$\\hspace{0.25in}$</div><div class='tbl_eq_cell annot_cell'><div class='primary_annot' style='font-size:11pt;'>Dalgliesh equation constant</div><div class='secondary_annot' style='font-size:11pt;'></div></div></div><div class='tbl_eq_row'><div class='tbl_eq_cell eq_cell' style='font-size:11pt;'>$w_{i} = t_{ief} \\cdot e^{r_{0} + r_{1} \\cdot x_{i} + r_{2} \\cdot x_{i}^{2}} = 9.92 \\cdot \\text{mm}$</div><div class='tbl_eq_cell'>$\\hspace{0.25in}$</div><div class='tbl_eq_cell annot_cell'><div class='primary_annot' style='font-size:11pt;'>Center of glass pane deflection</div><div class='secondary_annot' style='font-size:11pt;'></div></div></div>"
      ],
      "text/plain": [
       "<IPython.core.display.Markdown object>"
      ]
     },
     "metadata": {},
     "output_type": "display_data"
    }
   ],
   "source": [
    "Text(\"Interior Glass Pane\", bold=True, underline=True)\n",
    "Text(\"<br>\")\n",
    "\n",
    "Equation(\"t_ief = t_imin\", \n",
    "         simplify=True, \n",
    "         inline=True, \n",
    "         annots=[\"Effective thickness for deflection calculations\"])\n",
    "\n",
    "Equation(\"LS_i = 1.1\",\n",
    "         annots=[\"Effective thickness for deflection calculations\"])\n",
    "\n",
    "Equation(\"x_i = log(log((a**2 * b**2 * q) / (E_g * LS_i * t_ief ** 4)))\", \n",
    "         simplify=True, \n",
    "         inline=True, \n",
    "         annots=[\"Dalgliesh equation constant\"])\n",
    "\n",
    "Equation(\"w_i = t_ief * exp(r_0 + r_1 * x_i + r_2 * x_i ** 2)\",\n",
    "         simplify=True,\n",
    "         inline=True,\n",
    "         annots=[\"Center of glass pane deflection\"])\n",
    "\n",
    "Show()"
   ]
  },
  {
   "cell_type": "code",
   "execution_count": 18,
   "id": "rapid-statistics",
   "metadata": {},
   "outputs": [
    {
     "data": {
      "text/markdown": [
       "<div style='font-family:Helvetica Neue, Arial;font-size:11pt;font-style:normal;font-weight:bold;text-decoration:underline;text-align:left;'> Maximum Deflection</div><div style='font-family:Helvetica Neue, Arial;font-size:11pt;font-style:normal;font-weight:normal;text-decoration:normal;text-align:left;'> <br></div><div class='tbl_eq_row'><div class='tbl_eq_cell eq_cell' style='font-size:11pt;'>$w_{max} = \\max\\left(w_{e}, w_{i}\\right) = 9.92 \\cdot \\text{mm}$</div><div class='tbl_eq_cell'>$\\hspace{0.25in}$</div><div class='tbl_eq_cell annot_cell'><div class='primary_annot' style='font-size:11pt;'>Maximum deflection of the insulating glass unit</div><div class='secondary_annot' style='font-size:11pt;'></div></div></div>"
      ],
      "text/plain": [
       "<IPython.core.display.Markdown object>"
      ]
     },
     "metadata": {},
     "output_type": "display_data"
    }
   ],
   "source": [
    "Text(\"Maximum Deflection\", bold=True, underline=True)\n",
    "Text(\"<br>\")\n",
    "\n",
    "Equation(\"w_max = Max(w_e, w_i)\", \n",
    "         simplify=True, \n",
    "         inline=True, \n",
    "         annots=[\"Maximum deflection of the insulating glass unit\"])\n",
    "Show()"
   ]
  },
  {
   "cell_type": "code",
   "execution_count": 19,
   "id": "collective-album",
   "metadata": {},
   "outputs": [
    {
     "data": {
      "text/markdown": [
       "<div style='font-family:Helvetica Neue, Arial;font-size:11pt;font-style:normal;font-weight:bold;text-decoration:underline;text-align:left;'> Allowable Deflection</div><div style='font-family:Helvetica Neue, Arial;font-size:11pt;font-style:normal;font-weight:normal;text-decoration:normal;text-align:left;'> <br></div><div class='tbl_eq_row'><div class='tbl_eq_cell eq_cell' style='font-size:11pt;'>$w_{abs} = 19 \\cdot \\text{mm}$</div><div class='tbl_eq_cell'>$\\hspace{0.25in}$</div><div class='tbl_eq_cell annot_cell'><div class='primary_annot' style='font-size:11pt;'>Absolute deflection limit</div><div class='secondary_annot' style='font-size:11pt;'></div></div></div><div class='tbl_eq_row'><div class='tbl_eq_cell eq_cell' style='font-size:11pt;'>$w_{all} = \\min\\left(\\frac{b}{90}, w_{abs}\\right) = 15.67 \\cdot \\text{mm}$</div><div class='tbl_eq_cell'>$\\hspace{0.25in}$</div><div class='tbl_eq_cell annot_cell'><div class='primary_annot' style='font-size:11pt;'>Allowable deflection of glass pane</div><div class='secondary_annot' style='font-size:11pt;'></div></div></div>"
      ],
      "text/plain": [
       "<IPython.core.display.Markdown object>"
      ]
     },
     "metadata": {},
     "output_type": "display_data"
    }
   ],
   "source": [
    "Text(\"Allowable Deflection\", bold=True, underline=True)\n",
    "Text(\"<br>\")\n",
    "Equation(\"w_abs = 19\", \n",
    "         unit=\"mm\", \n",
    "         annots=[\"Absolute deflection limit\"])\n",
    "\n",
    "# since Min() does not resolve unit evaluation, we first need to make both expression have the same units.\n",
    "Convert(\"b\", unit_to=\"millimeter\")\n",
    "Equation(\"w_all = Min(b / 90, w_abs)\", \n",
    "         simplify=True, \n",
    "         inline=True, \n",
    "         annots=[\"Allowable deflection of glass pane\"])\n",
    "Show()"
   ]
  },
  {
   "cell_type": "code",
   "execution_count": 20,
   "id": "french-encounter",
   "metadata": {},
   "outputs": [
    {
     "data": {
      "text/markdown": [
       "<div style='font-family:Helvetica Neue, Arial; font-size:11pt'>Comparing, <div><br>$w_{max} = 9.92 \\cdot \\text{mm} < w_{all} = 15.67 \\cdot \\text{mm}$</div><div><br>Since the maximum deflection is less than the allowable deflection, <br> <u><b>THE GLASS IS ADEQUATE IN DEFLECTION</u></b></div></div>"
      ],
      "text/plain": [
       "<IPython.core.display.Markdown object>"
      ]
     },
     "metadata": {},
     "output_type": "display_data"
    }
   ],
   "source": [
    "Compare(lhs_var_str=\"w_max\", \n",
    "        rhs_var_str=\"w_all\", \n",
    "        expected=\"<\", \n",
    "        descr_lhs=\"maximum deflection\", \n",
    "        descr_rhs=\"allowable deflection\", \n",
    "        component=\"glass\", \n",
    "        statement=\"adequate in deflection\")\n",
    "Show()"
   ]
  },
  {
   "cell_type": "code",
   "execution_count": 21,
   "id": "enormous-floor",
   "metadata": {},
   "outputs": [
    {
     "data": {
      "text/markdown": [
       "<div style='font-family:Helvetica Neue, Arial; font-size:11pt'><u><b>THUS, THE GLASS IS NOT STRUCTURALLY ADEQUATE</b></u></div>"
      ],
      "text/plain": [
       "<IPython.core.display.Markdown object>"
      ]
     },
     "metadata": {},
     "output_type": "display_data"
    }
   ],
   "source": [
    "Conclude(component=\"glass\", \n",
    "         affirmative=\"structurally adequate\")\n",
    "Show()"
   ]
  }
 ],
 "metadata": {
  "kernelspec": {
   "display_name": "Python 3",
   "language": "python",
   "name": "python3"
  },
  "language_info": {
   "codemirror_mode": {
    "name": "ipython",
    "version": 3
   },
   "file_extension": ".py",
   "mimetype": "text/x-python",
   "name": "python",
   "nbconvert_exporter": "python",
   "pygments_lexer": "ipython3",
   "version": "3.9.1"
  }
 },
 "nbformat": 4,
 "nbformat_minor": 5
}
