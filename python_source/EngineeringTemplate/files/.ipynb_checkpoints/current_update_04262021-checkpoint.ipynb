{
 "cells": [
  {
   "cell_type": "code",
   "execution_count": 1,
   "id": "following-hazard",
   "metadata": {},
   "outputs": [],
   "source": [
    "import os\n",
    "import sys\n",
    "\n",
    "PTCC_MODULE_LOCAL = \"H:\\\\Desktop\\\\PTCC_SCRIPTS\\\\python_source\\\\EngineeringTemplate\\\\src\"\n",
    "if PTCC_MODULE_LOCAL not in sys.path:\n",
    "    sys.path.append(PTCC_MODULE_LOCAL)"
   ]
  },
  {
   "cell_type": "code",
   "execution_count": 2,
   "id": "genetic-slide",
   "metadata": {},
   "outputs": [],
   "source": [
    "EQUATION_ANNOTATION_SPACE = 2\n",
    "FONT_NAME = \"san-serif\"\n",
    "FONT_SIZE = 12\n",
    "\n",
    "IMAGE_FOLDER_NAME = \"images\""
   ]
  },
  {
   "cell_type": "code",
   "execution_count": 3,
   "id": "marked-planet",
   "metadata": {},
   "outputs": [
    {
     "data": {
      "text/html": [
       "<style>.eq_cell {vertical-align:top;text-align:left;font-family:san-serif, Arial;}.annot_cell {text-align:left;font-family:san-serif, Arial;}.primary_annot {}.secondary_annot {font-style: italic;}.tbl_eq_row {display: table-row;}.tbl_eq_cell {display: table-cell;}</style>"
      ],
      "text/plain": [
       "<IPython.core.display.HTML object>"
      ]
     },
     "metadata": {},
     "output_type": "display_data"
    },
    {
     "data": {
      "text/html": [
       "<style>.horizontal {display:inline-block; padding:6px;} .vertical{padding:6px;}.template-image {border-width:1px; border-style:solid;}</style>"
      ],
      "text/plain": [
       "<IPython.core.display.HTML object>"
      ]
     },
     "metadata": {},
     "output_type": "display_data"
    },
    {
     "data": {
      "text/html": [
       "<style> .rendered_html td, .rendered_html th {text-align:center;}</style>"
      ],
      "text/plain": [
       "<IPython.core.display.HTML object>"
      ]
     },
     "metadata": {},
     "output_type": "display_data"
    }
   ],
   "source": [
    "from ptcc_module import EquationWriter, CustomDisplay, TextWriter, ImageWriter, TableWriter, GraphWriter\n",
    "\n",
    "%matplotlib inline\n",
    "\n",
    "c_disp = CustomDisplay()\n",
    "Show = c_disp.show\n",
    "Hide_Cell = c_disp.hide_toggle\n",
    "\n",
    "eq_writer = EquationWriter(EQUATION_ANNOTATION_SPACE, FONT_NAME, FONT_SIZE, c_disp)\n",
    "eq_writer.setup_css()\n",
    "EquationNamespace = eq_writer.equation_namespace\n",
    "Equation = eq_writer.define\n",
    "Compare = eq_writer.assert_components\n",
    "Conclude = eq_writer.conclude\n",
    "Convert = eq_writer.convert\n",
    "\n",
    "text_writer = TextWriter(FONT_NAME, FONT_SIZE, c_disp)\n",
    "Text = text_writer.define\n",
    "Hspace = text_writer.create_hspace\n",
    "Vspace = text_writer.create_vspace\n",
    "\n",
    "image_writer = ImageWriter(IMAGE_FOLDER_NAME, c_disp)\n",
    "image_writer.setup_css()\n",
    "Image_Reference = image_writer.define\n",
    "\n",
    "tbl_writer = TableWriter(c_disp)\n",
    "tbl_writer.setup_css()\n",
    "Table_Start = tbl_writer.start\n",
    "Table_End = tbl_writer.end\n",
    "Data_Cell = tbl_writer.create_data_cell\n",
    "Header_Cell = tbl_writer.create_header_cell\n",
    "Caption = tbl_writer.define_caption\n",
    "Column = tbl_writer.define_column\n",
    "Data = tbl_writer.define_data\n",
    "\n",
    "graph_writer = GraphWriter()\n",
    "Subplots = graph_writer.create_subplots\n",
    "Plot = graph_writer.create_plot\n",
    "SetAxisInfo = graph_writer.set_axis"
   ]
  },
  {
   "cell_type": "markdown",
   "id": "eight-interface",
   "metadata": {},
   "source": [
    "<h2>Re-calling a defined equation</h2>"
   ]
  },
  {
   "cell_type": "code",
   "execution_count": 4,
   "id": "static-rebate",
   "metadata": {},
   "outputs": [
    {
     "data": {
      "text/markdown": [
       "<div class='tbl_eq_row'><div class='tbl_eq_cell eq_cell' style='font-size:12pt;'>$x = 4 \\cdot \\text{N}$</div><div class='tbl_eq_cell'>$\\hspace{2in}$</div><div class='tbl_eq_cell annot_cell'><div class='primary_annot' style='font-size:12pt;'>Primary annotation</div><div class='secondary_annot' style='font-size:12pt;'>Secondary annotation</div></div></div>"
      ],
      "text/plain": [
       "<IPython.core.display.Markdown object>"
      ]
     },
     "metadata": {},
     "output_type": "display_data"
    }
   ],
   "source": [
    "Equation(\"x = 4\", \"N\", annots=[\"Primary annotation\", \"Secondary annotation\"])\n",
    "Show()"
   ]
  },
  {
   "cell_type": "code",
   "execution_count": 5,
   "id": "chinese-connection",
   "metadata": {},
   "outputs": [
    {
     "data": {
      "text/markdown": [
       "<div class='tbl_eq_row'><div class='tbl_eq_cell eq_cell' style='font-size:12pt;'>$x = 4 \\cdot \\text{N}$</div><div class='tbl_eq_cell'>$\\hspace{2in}$</div><div class='tbl_eq_cell annot_cell'><div class='primary_annot' style='font-size:12pt;'>Primary annotation</div><div class='secondary_annot' style='font-size:12pt;'>Secondary annotation</div></div></div>"
      ],
      "text/plain": [
       "<IPython.core.display.Markdown object>"
      ]
     },
     "metadata": {},
     "output_type": "display_data"
    }
   ],
   "source": [
    "Equation(\"x\")\n",
    "Show()"
   ]
  },
  {
   "cell_type": "markdown",
   "id": "elect-testimony",
   "metadata": {},
   "source": [
    "<h2>Converting Units, and printing the result</h2>"
   ]
  },
  {
   "cell_type": "markdown",
   "id": "atlantic-delight",
   "metadata": {},
   "source": [
    "<p>Add result as newline</p>"
   ]
  },
  {
   "cell_type": "code",
   "execution_count": 6,
   "id": "invisible-struggle",
   "metadata": {},
   "outputs": [
    {
     "data": {
      "text/markdown": [
       "<div style='font-family:san-serif, Arial;font-size: 12pt;'>$x = 4 \\cdot \\text{N}$<br>$x = 0.004 \\cdot \\text{kN}$</div>"
      ],
      "text/plain": [
       "<IPython.core.display.Markdown object>"
      ]
     },
     "metadata": {},
     "output_type": "display_data"
    }
   ],
   "source": [
    "Convert(\"x\", \"kN\", num_decimal=4, print_out=True) # make sure add the number of \n",
    "                                                  # decimal when converting \n",
    "                                                  # from smaller to bigger units.\n",
    "Show()"
   ]
  },
  {
   "cell_type": "markdown",
   "id": "median-brief",
   "metadata": {},
   "source": [
    "<p>OR</p>"
   ]
  },
  {
   "cell_type": "code",
   "execution_count": 7,
   "id": "portable-graduate",
   "metadata": {},
   "outputs": [
    {
     "data": {
      "text/markdown": [
       "<div class='tbl_eq_row'><div class='tbl_eq_cell eq_cell' style='font-size:12pt;'>$w = 4 \\cdot \\text{m}$</div><div class='tbl_eq_cell'>$\\hspace{2in}$</div><div class='tbl_eq_cell annot_cell'><div class='primary_annot' style='font-size:12pt;'></div><div class='secondary_annot' style='font-size:12pt;'></div></div></div><div class='tbl_eq_row'><div class='tbl_eq_cell eq_cell' style='font-size:12pt;'>$w = 400 \\cdot \\text{cm}$</div><div class='tbl_eq_cell'>$\\hspace{2in}$</div><div class='tbl_eq_cell annot_cell'><div class='primary_annot' style='font-size:12pt;'></div><div class='secondary_annot' style='font-size:12pt;'></div></div></div>"
      ],
      "text/plain": [
       "<IPython.core.display.Markdown object>"
      ]
     },
     "metadata": {},
     "output_type": "display_data"
    }
   ],
   "source": [
    "Equation(\"w = 4\", \"m\")\n",
    "Convert(\"w\", \"cm\", num_decimal=4)\n",
    "Equation(\"w\")\n",
    "Show()"
   ]
  },
  {
   "cell_type": "markdown",
   "id": "normal-concern",
   "metadata": {},
   "source": [
    "<p>Add result as inline</p>"
   ]
  },
  {
   "cell_type": "code",
   "execution_count": 8,
   "id": "level-forward",
   "metadata": {},
   "outputs": [
    {
     "data": {
      "text/markdown": [
       "<div style='font-family:san-serif, Arial;font-size: 12pt;'>$w = 400 \\cdot \\text{cm} = 4000 \\cdot \\text{mm}$</div>"
      ],
      "text/plain": [
       "<IPython.core.display.Markdown object>"
      ]
     },
     "metadata": {},
     "output_type": "display_data"
    }
   ],
   "source": [
    "Convert(\"w\", \"mm\", num_decimal=4, print_out=True, inline=True)\n",
    "Show()"
   ]
  },
  {
   "cell_type": "markdown",
   "id": "negative-silly",
   "metadata": {},
   "source": [
    "<h2>Improved dimensional analysis</h2>"
   ]
  },
  {
   "cell_type": "markdown",
   "id": "floppy-blackjack",
   "metadata": {},
   "source": [
    "<p>Now able to process unit arithmetic</p>"
   ]
  },
  {
   "cell_type": "code",
   "execution_count": 9,
   "id": "extreme-middle",
   "metadata": {},
   "outputs": [
    {
     "data": {
      "text/markdown": [
       "<div class='tbl_eq_row'><div class='tbl_eq_cell eq_cell' style='font-size:12pt;'>$x = \\frac{4 \\cdot \\text{N}}{\\text{mm}^{2}}$</div><div class='tbl_eq_cell'>$\\hspace{2in}$</div><div class='tbl_eq_cell annot_cell'><div class='primary_annot' style='font-size:12pt;'></div><div class='secondary_annot' style='font-size:12pt;'></div></div></div><div class='tbl_eq_row'><div class='tbl_eq_cell eq_cell' style='font-size:12pt;'>$w = 5 \\cdot \\text{m}^{2}$</div><div class='tbl_eq_cell'>$\\hspace{2in}$</div><div class='tbl_eq_cell annot_cell'><div class='primary_annot' style='font-size:12pt;'></div><div class='secondary_annot' style='font-size:12pt;'></div></div></div><div class='tbl_eq_row'><div class='tbl_eq_cell eq_cell' style='font-size:12pt;'>$y = w \\cdot x$</div><div class='tbl_eq_cell'>$\\hspace{2in}$</div><div class='tbl_eq_cell annot_cell'><div class='primary_annot' style='font-size:12pt;'></div><div class='secondary_annot' style='font-size:12pt;'></div></div></div><div class='tbl_eq_row'><div class='tbl_eq_cell eq_cell' style='font-size:12pt;'>$y = 20000000.0 \\cdot \\text{N}$</div><div class='tbl_eq_cell'>$\\hspace{2in}$</div><div class='tbl_eq_cell annot_cell'><div class='primary_annot' style='font-size:12pt;'></div><div class='secondary_annot' style='font-size:12pt;'></div></div></div>"
      ],
      "text/plain": [
       "<IPython.core.display.Markdown object>"
      ]
     },
     "metadata": {},
     "output_type": "display_data"
    }
   ],
   "source": [
    "Equation(\"x = 4\", unit=\"N/mm**2\")\n",
    "Equation(\"w = 5\", unit=\"m * m\")\n",
    "Equation(\"y = x * w\", simplify=True)\n",
    "Show()"
   ]
  },
  {
   "cell_type": "markdown",
   "id": "downtown-portland",
   "metadata": {},
   "source": [
    "<p>The system will adjust the unit as closer as possible to the unit defined by the user<p>"
   ]
  },
  {
   "cell_type": "code",
   "execution_count": 10,
   "id": "prepared-daily",
   "metadata": {},
   "outputs": [
    {
     "data": {
      "text/markdown": [
       "<div class='tbl_eq_row'><div class='tbl_eq_cell eq_cell' style='font-size:12pt;'>$x = 4 \\cdot \\text{N}$</div><div class='tbl_eq_cell'>$\\hspace{2in}$</div><div class='tbl_eq_cell annot_cell'><div class='primary_annot' style='font-size:12pt;'></div><div class='secondary_annot' style='font-size:12pt;'></div></div></div><div class='tbl_eq_row'><div class='tbl_eq_cell eq_cell' style='font-size:12pt;'>$w = 2 \\cdot \\text{mm}^{2}$</div><div class='tbl_eq_cell'>$\\hspace{2in}$</div><div class='tbl_eq_cell annot_cell'><div class='primary_annot' style='font-size:12pt;'></div><div class='secondary_annot' style='font-size:12pt;'></div></div></div><div class='tbl_eq_row'><div class='tbl_eq_cell eq_cell' style='font-size:12pt;'>$y = \\frac{x \\cdot \\text{MPa}}{w}$</div><div class='tbl_eq_cell'>$\\hspace{2in}$</div><div class='tbl_eq_cell annot_cell'><div class='primary_annot' style='font-size:12pt;'></div><div class='secondary_annot' style='font-size:12pt;'></div></div></div><div class='tbl_eq_row'><div class='tbl_eq_cell eq_cell' style='font-size:12pt;'>$y = 2.0 \\cdot \\text{MPa}$</div><div class='tbl_eq_cell'>$\\hspace{2in}$</div><div class='tbl_eq_cell annot_cell'><div class='primary_annot' style='font-size:12pt;'></div><div class='secondary_annot' style='font-size:12pt;'></div></div></div>"
      ],
      "text/plain": [
       "<IPython.core.display.Markdown object>"
      ]
     },
     "metadata": {},
     "output_type": "display_data"
    }
   ],
   "source": [
    "Equation(\"x = 4\", \"N\")\n",
    "Equation(\"w = 2\", \"mm ** 2\")\n",
    "\n",
    "# it will try to convert the resulting unit to whatever the user ask.\n",
    "Equation(\"y = x / w\", unit=\"MPa\", simplify=True, num_decimal=5)\n",
    "Show()"
   ]
  },
  {
   "cell_type": "markdown",
   "id": "short-upper",
   "metadata": {},
   "source": [
    "<h2>You can also change the font size of the Equation and annotations</h2>\n",
    "<p>Equation and annotations (Primary and Secondary) have their own interface for adjusting the font sizes</p>"
   ]
  },
  {
   "cell_type": "code",
   "execution_count": 11,
   "id": "correct-orange",
   "metadata": {},
   "outputs": [
    {
     "data": {
      "text/markdown": [
       "<div class='tbl_eq_row'><div class='tbl_eq_cell eq_cell' style='font-size:12pt;'>$z = w + \\sqrt{\\frac{x}{y}}$</div><div class='tbl_eq_cell'>$\\hspace{2in}$</div><div class='tbl_eq_cell annot_cell'><div class='primary_annot' style='font-size:15pt;'>Primary annotation</div><div class='secondary_annot' style='font-size:10pt;'>Secondary Annotation 1<br>Secondary Annotation 2</div></div></div>"
      ],
      "text/plain": [
       "<IPython.core.display.Markdown object>"
      ]
     },
     "metadata": {},
     "output_type": "display_data"
    }
   ],
   "source": [
    "Equation(\"z = w + sqrt(x / y)\",\n",
    "         annots=[\"Primary annotation\", \n",
    "                 \"Secondary Annotation 1\", \n",
    "                 \"Secondary Annotation 2\"], \n",
    "         eq_font_size=12, \n",
    "         p_font_size=15, \n",
    "         s_font_size=10)\n",
    "Show()"
   ]
  }
 ],
 "metadata": {
  "kernelspec": {
   "display_name": "Python 3",
   "language": "python",
   "name": "python3"
  },
  "language_info": {
   "codemirror_mode": {
    "name": "ipython",
    "version": 3
   },
   "file_extension": ".py",
   "mimetype": "text/x-python",
   "name": "python",
   "nbconvert_exporter": "python",
   "pygments_lexer": "ipython3",
   "version": "3.7.2"
  }
 },
 "nbformat": 4,
 "nbformat_minor": 5
}
