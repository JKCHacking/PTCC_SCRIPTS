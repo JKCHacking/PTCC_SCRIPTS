{
 "cells": [
  {
   "cell_type": "code",
   "execution_count": 1,
   "id": "selected-viewer",
   "metadata": {},
   "outputs": [
    {
     "data": {
      "text/html": [
       "<style> div.output_subarea {padding: 0; overflow-x: clip;}</style>"
      ],
      "text/plain": [
       "<IPython.core.display.HTML object>"
      ]
     },
     "metadata": {},
     "output_type": "display_data"
    }
   ],
   "source": [
    "import os\n",
    "import sys\n",
    "import sympy.physics.units as UNITS\n",
    "\n",
    "PTCC_MODULE_LOCAL = \"H:\\\\Desktop\\\\PTCC_SCRIPTS\\\\python_source\\\\EngineeringTemplate_v2\\\\src\"\n",
    "if PTCC_MODULE_LOCAL not in sys.path:\n",
    "    sys.path.append(PTCC_MODULE_LOCAL)\n",
    "\n",
    "EQUATION_ANNOTATION_SPACE = \"2in\"\n",
    "FONT_NAME = \"Times New Roman\"\n",
    "FONT_SIZE = \"12pt\"\n",
    "IMAGE_FOLDER_NAME = \"images\"\n",
    "\n",
    "# PTCC module specific imports\n",
    "from ptcc_module import Controller, EQUATION_NAMESPACE\n",
    "\n",
    "# customize jupyter css\n",
    "Controller.edit_jupyter_css()\n",
    "\n",
    "# renaming PTCC module API functions to Jupyter Functions\n",
    "controller = Controller(FONT_NAME, FONT_SIZE, EQUATION_ANNOTATION_SPACE, IMAGE_FOLDER_NAME)\n",
    "Equation = controller.create_equation\n",
    "Recall = controller.recall_equation\n",
    "Text = controller.create_text\n",
    "Vspace = controller.create_vertical_space\n",
    "Hspace = controller.create_horizontal_space\n",
    "Newline = controller.create_line_break\n",
    "Display = controller.display_output\n",
    "AddEquation = controller.add_eq_to_namespace\n",
    "Header = controller.create_header\n",
    "Title = controller.create_title\n",
    "Image = controller.create_image\n",
    "Table = controller.create_table\n",
    "Compare = controller.compare\n",
    "Conclude = controller.conclude\n",
    "Convert = controller.convert\n",
    "EquationNamespace = EQUATION_NAMESPACE"
   ]
  },
  {
   "cell_type": "markdown",
   "id": "geological-police",
   "metadata": {},
   "source": [
    "<h3>EQUATION TEST</h3>"
   ]
  },
  {
   "cell_type": "code",
   "execution_count": 2,
   "id": "desirable-collins",
   "metadata": {},
   "outputs": [
    {
     "data": {
      "text/markdown": [
       "<div style='text-align: left;'><div><div style='font_size: 12pt; display: inline-block; vertical-align:top;'>$$q = 4.49 \\cdot kPa$$</div><div float:left; style='overflow:hidden;height:1px;width:2in; display: inline-block;'></div><div style='display: inline-block;'><div style='font-family:Times New Roman, Arial;font-size:12pt;font-style:normal;font-weight:normal;text-decoration:none;display: inline-block;'>Some text</div><br><div style='font-family:Times New Roman, Arial;font-size:12pt;font-style:italic;font-weight:normal;text-decoration:none;display: inline-block;'>some text</div><br></div></div><div><div style='font_size:12pt; display: inline-block; vertical-align:top;'><div>$$DoubleQ = 2 \\cdot q$$</div><div>$$DoubleQ = 8.98 \\cdot kPa$$</div></div><div float:left; style='overflow:hidden;height:1px;width:2in; display: inline-block;'></div><div style='display: inline-block;'></div></div><div><div style='font_size:12pt; display: inline-block; vertical-align:top;'>$$DoubleQ = 2 \\cdot q = 8.98 \\cdot kPa$$</div><div float:left; style='overflow:hidden;height:1px;width:2in; display: inline-block;'></div><div style='display: inline-block;'></div></div></div>"
      ],
      "text/plain": [
       "<IPython.core.display.Markdown object>"
      ]
     },
     "metadata": {},
     "output_type": "display_data"
    }
   ],
   "source": [
    "Equation(\"q = 4.49 * kPa\", annotations=[\"Some text\", \"some text\"])\n",
    "Equation(\"DoubleQ = 2 * q\", simplify=True)\n",
    "Equation(\"DoubleQ = 2 * q\", inline=True, simplify=True)\n",
    "Display()"
   ]
  },
  {
   "cell_type": "code",
   "execution_count": 3,
   "id": "warming-vietnam",
   "metadata": {},
   "outputs": [
    {
     "data": {
      "text/markdown": [
       "<div style='text-align: left;'><div><div style='font_size: 12pt; display: inline-block; vertical-align:top;'>$$q = 4.49 \\cdot kPa$$</div><div float:left; style='overflow:hidden;height:1px;width:2in; display: inline-block;'></div><div style='display: inline-block;'></div></div><div><div style='font_size:12pt; display: inline-block; vertical-align:top;'><div>$$z = 2 \\cdot DoubleQ$$</div><div>$$z = 17.96 \\cdot kPa$$</div></div><div float:left; style='overflow:hidden;height:1px;width:2in; display: inline-block;'></div><div style='display: inline-block;'></div></div></div>"
      ],
      "text/plain": [
       "<IPython.core.display.Markdown object>"
      ]
     },
     "metadata": {},
     "output_type": "display_data"
    }
   ],
   "source": [
    "q = Equation(\"q = 4.49 * kPa\")\n",
    "\n",
    "# use the function to interface python variable\n",
    "AddEquation(DoubleQ = 2 * q)\n",
    "\n",
    "z = Equation(\"z = DoubleQ * 2\", simplify=True)\n",
    "Display()"
   ]
  },
  {
   "cell_type": "markdown",
   "id": "prime-broadcast",
   "metadata": {},
   "source": [
    "<h3>CONVERT TEST</h3>"
   ]
  },
  {
   "cell_type": "code",
   "execution_count": 4,
   "id": "latest-moisture",
   "metadata": {},
   "outputs": [
    {
     "data": {
      "text/markdown": [
       "<div style='text-align: left;'><div><div style='font_size: 12pt; display: inline-block; vertical-align:top;'>$$y = 3000 \\cdot m$$</div><div float:left; style='overflow:hidden;height:1px;width:2in; display: inline-block;'></div><div style='display: inline-block;'><div style='font-family:Times New Roman, Arial;font-size:12pt;font-style:normal;font-weight:normal;text-decoration:none;display: inline-block;'>Hello</div><br></div></div><div style='font_size:12pt; display: inline-block; vertical-align:top;'><div>$$y = 3000 \\cdot m$$</div><div>$$y = 3.0 \\cdot km$$</div></div></div>"
      ],
      "text/plain": [
       "<IPython.core.display.Markdown object>"
      ]
     },
     "metadata": {},
     "output_type": "display_data"
    }
   ],
   "source": [
    "Equation(\"y = 3000 * m\", annotations=[\"Hello\"])\n",
    "Convert(\"y\", \"km\", printout=True)\n",
    "Display()"
   ]
  },
  {
   "cell_type": "code",
   "execution_count": 5,
   "id": "headed-announcement",
   "metadata": {},
   "outputs": [
    {
     "data": {
      "text/markdown": [
       "<div style='text-align: left;'><div><div style='font_size: 12pt; display: inline-block; vertical-align:top;'>$$y = 3000 \\cdot m$$</div><div float:left; style='overflow:hidden;height:1px;width:2in; display: inline-block;'></div><div style='display: inline-block;'><div style='font-family:Times New Roman, Arial;font-size:12pt;font-style:normal;font-weight:normal;text-decoration:none;display: inline-block;'>Hello</div><br></div></div></div>"
      ],
      "text/plain": [
       "<IPython.core.display.Markdown object>"
      ]
     },
     "metadata": {},
     "output_type": "display_data"
    }
   ],
   "source": [
    "Equation(\"y = 3000 * m\", annotations=[\"Hello\"])\n",
    "Convert(\"y\", \"km\")\n",
    "Display()"
   ]
  },
  {
   "cell_type": "code",
   "execution_count": 6,
   "id": "stable-admission",
   "metadata": {},
   "outputs": [
    {
     "data": {
      "text/markdown": [
       "<div style='text-align: left;'><div><div style='font_size: 12pt; display: inline-block; vertical-align:top;'>$$y = 3000 \\cdot m$$</div><div float:left; style='overflow:hidden;height:1px;width:2in; display: inline-block;'></div><div style='display: inline-block;'><div style='font-family:Times New Roman, Arial;font-size:12pt;font-style:normal;font-weight:normal;text-decoration:none;display: inline-block;'>Hello</div><br></div></div><div style='font_size:12pt; display: inline-block; vertical-align:top;'>$$y = 3000 \\cdot m = 3.0 \\cdot km$$</div></div>"
      ],
      "text/plain": [
       "<IPython.core.display.Markdown object>"
      ]
     },
     "metadata": {},
     "output_type": "display_data"
    }
   ],
   "source": [
    "Equation(\"y = 3000 * m\", annotations=[\"Hello\"])\n",
    "Convert(\"y\", \"km\", printout=True, inline=True)\n",
    "Display()"
   ]
  },
  {
   "cell_type": "markdown",
   "id": "quick-listening",
   "metadata": {},
   "source": [
    "<h3>RECALL TEST</h3>"
   ]
  },
  {
   "cell_type": "code",
   "execution_count": 7,
   "id": "fresh-france",
   "metadata": {},
   "outputs": [
    {
     "data": {
      "text/markdown": [
       "<div style='text-align: left;'><div><div style='font_size: 12pt; display: inline-block; vertical-align:top;'>$$y = b + m_{1} \\cdot x$$</div><div float:left; style='overflow:hidden;height:1px;width:2in; display: inline-block;'></div><div style='display: inline-block;'><div style='font-family:Times New Roman, Arial;font-size:12pt;font-style:normal;font-weight:normal;text-decoration:none;display: inline-block;'>Hello</div><br><div style='font-family:Times New Roman, Arial;font-size:12pt;font-style:italic;font-weight:normal;text-decoration:none;display: inline-block;'>World</div><br></div></div><div><div style='font_size: 12pt; display: inline-block; vertical-align:top;'>$$y = b + m_{1} \\cdot x$$</div><div float:left; style='overflow:hidden;height:1px;width:2in; display: inline-block;'></div><div style='display: inline-block;'><div style='font-family:Times New Roman, Arial;font-size:12pt;font-style:normal;font-weight:normal;text-decoration:none;display: inline-block;'>Hello</div><br><div style='font-family:Times New Roman, Arial;font-size:12pt;font-style:italic;font-weight:normal;text-decoration:none;display: inline-block;'>World</div><br></div></div></div>"
      ],
      "text/plain": [
       "<IPython.core.display.Markdown object>"
      ]
     },
     "metadata": {},
     "output_type": "display_data"
    }
   ],
   "source": [
    "Equation(\"y = m_1 * x + b\", annotations=[\"Hello\", \"World\"])\n",
    "Recall(\"y\")\n",
    "Display()"
   ]
  },
  {
   "cell_type": "code",
   "execution_count": 8,
   "id": "valuable-cathedral",
   "metadata": {},
   "outputs": [
    {
     "data": {
      "text/markdown": [
       "<div style='text-align: left;'><div><div style='font_size: 12pt; display: inline-block; vertical-align:top;'>$$x = 1.0 \\cdot m$$</div><div float:left; style='overflow:hidden;height:1px;width:2in; display: inline-block;'></div><div style='display: inline-block;'><div style='font-family:Times New Roman, Arial;font-size:12pt;font-style:normal;font-weight:normal;text-decoration:none;display: inline-block;'>A</div><br><div style='font-family:Times New Roman, Arial;font-size:12pt;font-style:italic;font-weight:normal;text-decoration:none;display: inline-block;'>B</div><br></div></div></div>"
      ],
      "text/plain": [
       "<IPython.core.display.Markdown object>"
      ]
     },
     "metadata": {},
     "output_type": "display_data"
    },
    {
     "data": {
      "text/markdown": [
       "<div style='text-align: left;'><div><div style='font_size: 12pt; display: inline-block; vertical-align:top;'>$$w = 1.0 \\cdot m$$</div><div float:left; style='overflow:hidden;height:1px;width:2in; display: inline-block;'></div><div style='display: inline-block;'></div></div><div><div style='font_size:12pt; display: inline-block; vertical-align:top;'><div>$$y = w + x$$</div><div>$$y = 2.0 \\cdot m$$</div></div><div float:left; style='overflow:hidden;height:1px;width:2in; display: inline-block;'></div><div style='display: inline-block;'><div style='font-family:Times New Roman, Arial;font-size:12pt;font-style:normal;font-weight:normal;text-decoration:none;display: inline-block;'>Annots1</div><br><div style='font-family:Times New Roman, Arial;font-size:12pt;font-style:italic;font-weight:normal;text-decoration:none;display: inline-block;'>Annots2</div><br></div></div><div><div style='font_size: 12pt; display: inline-block; vertical-align:top;'>$$y = 2.0 \\cdot m$$</div><div float:left; style='overflow:hidden;height:1px;width:2in; display: inline-block;'></div><div style='display: inline-block;'><div style='font-family:Times New Roman, Arial;font-size:12pt;font-style:normal;font-weight:normal;text-decoration:none;display: inline-block;'>Annots1</div><br><div style='font-family:Times New Roman, Arial;font-size:12pt;font-style:italic;font-weight:normal;text-decoration:none;display: inline-block;'>Annots2</div><br></div></div></div>"
      ],
      "text/plain": [
       "<IPython.core.display.Markdown object>"
      ]
     },
     "metadata": {},
     "output_type": "display_data"
    }
   ],
   "source": [
    "Equation(\"x = 1.0 * m\", annotations=[\"A\",\"B\"])\n",
    "Display()\n",
    "Equation(\"w = 1.0 * m\")\n",
    "Equation(\"y = x + w\", annotations=[\"Annots1\", \"Annots2\"], simplify=True)\n",
    "Recall(\"y\")\n",
    "Display()"
   ]
  },
  {
   "cell_type": "markdown",
   "id": "arranged-compression",
   "metadata": {},
   "source": [
    "<h3>TEXT TEST</h3>"
   ]
  },
  {
   "cell_type": "code",
   "execution_count": 9,
   "id": "vital-tactics",
   "metadata": {},
   "outputs": [
    {
     "data": {
      "text/markdown": [
       "<div style='text-align: left;'><div style='font-family:Times New Roman, Arial;font-size:12pt;font-style:normal;font-weight:normal;text-decoration:none;display: inline-block;'>Normal Text</div><div style='overflow:hidden;height:12pt;width:100%;'></div><div style='font-family:Times New Roman, Arial;font-size:12pt;font-style:normal;font-weight:bold;text-decoration:none;display: inline-block;'>Bold Text</div><div style='overflow:hidden;height:12pt;width:100%;'></div><div style='font-family:Times New Roman, Arial;font-size:12pt;font-style:italic;font-weight:bold;text-decoration:none;display: inline-block;'>Bold Italic Text</div><div style='overflow:hidden;height:12pt;width:100%;'></div><div style='font-family:Times New Roman, Arial;font-size:12pt;font-style:italic;font-weight:bold;text-decoration:underline;display: inline-block;'>Bold Italic Underline</div><div style='overflow:hidden;height:12pt;width:100%;'></div><div style='font-family:Times New Roman, Arial;font-size:15pt;font-style:normal;font-weight:normal;text-decoration:none;display: inline-block;'>BIG TEXT</div><div style='overflow:hidden;height:12pt;width:100%;'></div><div style='font-family:Times New Roman, Arial;font-size:12pt;font-style:normal;font-weight:normal;text-decoration:none;display: inline-block;'>Times New Roman</div><div style='font-family:Times New Roman, Arial;font-size:12pt;font-style:normal;font-weight:normal;text-decoration:none;display: inline-block;'>Statement with linebreak <br> Test</div></div>"
      ],
      "text/plain": [
       "<IPython.core.display.Markdown object>"
      ]
     },
     "metadata": {},
     "output_type": "display_data"
    }
   ],
   "source": [
    "Text(\"Normal Text\")\n",
    "Vspace(FONT_SIZE)\n",
    "Text(\"Bold Text\", bold=True)\n",
    "Vspace(FONT_SIZE)\n",
    "Text(\"Bold Italic Text\", bold=True, italic=True)\n",
    "Vspace(FONT_SIZE)\n",
    "Text(\"Bold Italic Underline\", bold=True, italic=True, underline=True)\n",
    "Vspace(FONT_SIZE)\n",
    "Text(\"BIG TEXT\", font_size=\"15pt\")\n",
    "Vspace(FONT_SIZE)\n",
    "Text(\"Times New Roman\", font_name=\"Times New Roman\")\n",
    "Text(\"Statement with linebreak <br> Test\")\n",
    "Display()"
   ]
  },
  {
   "cell_type": "markdown",
   "id": "anticipated-frequency",
   "metadata": {},
   "source": [
    "<h3>SPACE TEST</h3>"
   ]
  },
  {
   "cell_type": "code",
   "execution_count": 10,
   "id": "vocal-frequency",
   "metadata": {
    "scrolled": true
   },
   "outputs": [
    {
     "data": {
      "text/markdown": [
       "<div style='text-align: left;'><div style='font-family:Times New Roman, Arial;font-size:12pt;font-style:normal;font-weight:normal;text-decoration:none;display: inline-block;'>Vertical</div><div style='overflow:hidden;height:1in;width:100%;'></div><div style='font-family:Times New Roman, Arial;font-size:12pt;font-style:normal;font-weight:normal;text-decoration:none;display: inline-block;'>Space</div></div>"
      ],
      "text/plain": [
       "<IPython.core.display.Markdown object>"
      ]
     },
     "metadata": {},
     "output_type": "display_data"
    }
   ],
   "source": [
    "Text(\"Vertical\")\n",
    "Vspace(\"1in\")\n",
    "Text(\"Space\")\n",
    "Display()"
   ]
  },
  {
   "cell_type": "code",
   "execution_count": 11,
   "id": "careful-objective",
   "metadata": {},
   "outputs": [
    {
     "data": {
      "text/markdown": [
       "<div style='text-align: left;'><div style='font-family:Times New Roman, Arial;font-size:12pt;font-style:normal;font-weight:normal;text-decoration:none;display: inline-block;'>Horizontal</div><div float:left; style='overflow:hidden;height:1px;width:2in; display: inline-block;'></div><div style='font-family:Times New Roman, Arial;font-size:12pt;font-style:normal;font-weight:normal;text-decoration:none;display: inline-block;'>Space</div></div>"
      ],
      "text/plain": [
       "<IPython.core.display.Markdown object>"
      ]
     },
     "metadata": {},
     "output_type": "display_data"
    }
   ],
   "source": [
    "Text(\"Horizontal\")\n",
    "Hspace(\"2in\")\n",
    "Text(\"Space\")\n",
    "Display()"
   ]
  },
  {
   "cell_type": "markdown",
   "id": "insured-belly",
   "metadata": {},
   "source": [
    "<h3>ALIGNMENT TEST</h3>"
   ]
  },
  {
   "cell_type": "code",
   "execution_count": 12,
   "id": "european-lucas",
   "metadata": {},
   "outputs": [
    {
     "data": {
      "text/markdown": [
       "<div style='text-align: center;'><div style='font-family:Times New Roman, Arial;font-size:12pt;font-style:normal;font-weight:normal;text-decoration:none;display: inline-block;'>Center Alignment</div></div>"
      ],
      "text/plain": [
       "<IPython.core.display.Markdown object>"
      ]
     },
     "metadata": {},
     "output_type": "display_data"
    },
    {
     "data": {
      "text/markdown": [
       "<div style='text-align: right;'><div style='font-family:Times New Roman, Arial;font-size:12pt;font-style:normal;font-weight:normal;text-decoration:none;display: inline-block;'>Right Alignment</div></div>"
      ],
      "text/plain": [
       "<IPython.core.display.Markdown object>"
      ]
     },
     "metadata": {},
     "output_type": "display_data"
    }
   ],
   "source": [
    "Text(\"Center Alignment\")\n",
    "Display(alignment=\"center\")\n",
    "\n",
    "Text(\"Right Alignment\")\n",
    "Display(alignment=\"right\")"
   ]
  },
  {
   "cell_type": "markdown",
   "id": "turkish-allowance",
   "metadata": {},
   "source": [
    "<h3>HEADER AND TITLE TEST</h3>"
   ]
  },
  {
   "cell_type": "code",
   "execution_count": 13,
   "id": "roman-secretariat",
   "metadata": {},
   "outputs": [
    {
     "data": {
      "text/markdown": [
       "<div style='text-align: left;'><div style='font-family:Times New Roman, Arial;font-size:12pt;font-style:normal;font-weight:bold;text-decoration:none;display: inline-block;'>Section 1.02</div><br><br><div style='font-family:Times New Roman, Arial;font-size:12pt;font-style:normal;font-weight:bold;text-decoration:underline;display: inline-block;'>STRESS AND DEFLECTION ANALYSIS OF THE [BUILDING PART] INSULATING GLASS UNIT [SPECIFIC NOTE]</div><br><div style='font-family:Times New Roman, Arial;font-size:12pt;font-style:normal;font-weight:normal;text-decoration:none;display: inline-block;'>ASTM E1300-16 STANDARD PRACTICE FOR DETERMINING LOAD RESISTANCE OF GLASS IN BUILDINGS</div><br><div style='font-family:Times New Roman, Arial;font-size:12pt;font-style:normal;font-weight:normal;text-decoration:none;display: inline-block;'>PROJECT NAME - Project Location</div><br></div>"
      ],
      "text/plain": [
       "<IPython.core.display.Markdown object>"
      ]
     },
     "metadata": {},
     "output_type": "display_data"
    }
   ],
   "source": [
    "Title(section=\"Section 1.02\", \n",
    "      main_title=\"STRESS AND DEFLECTION ANALYSIS OF THE [BUILDING PART] INSULATING GLASS UNIT [SPECIFIC NOTE]\", \n",
    "      references=[\"ASTM E1300-16 STANDARD PRACTICE FOR DETERMINING LOAD RESISTANCE OF GLASS IN BUILDINGS\"],\n",
    "      project_name_location=\"PROJECT NAME - Project Location\")\n",
    "Display()"
   ]
  },
  {
   "cell_type": "code",
   "execution_count": 14,
   "id": "postal-harvey",
   "metadata": {},
   "outputs": [
    {
     "data": {
      "text/markdown": [
       "<div style='text-align: left;'><div style='font-family:Times New Roman, Arial;font-size:12pt;font-style:normal;font-weight:bold;text-decoration:none;display: inline-block;'>Section 1.02</div><br><br><div style='font-family:Times New Roman, Arial;font-size:12pt;font-style:normal;font-weight:bold;text-decoration:underline;display: inline-block;'>STRESS AND DEFLECTION ANALYSIS</div><br><div style='font-family:Times New Roman, Arial;font-size:12pt;font-style:normal;font-weight:normal;text-decoration:none;display: inline-block;'>ASTM E1300-16 STANDARD PRACTICE</div><br><div style='font-family:Times New Roman, Arial;font-size:12pt;font-style:normal;font-weight:normal;text-decoration:none;display: inline-block;'>PROJECT NAME - Project Location</div><br></div>"
      ],
      "text/plain": [
       "<IPython.core.display.Markdown object>"
      ]
     },
     "metadata": {},
     "output_type": "display_data"
    }
   ],
   "source": [
    "Title(section=\"Section 1.02\", \n",
    "      main_title=\"STRESS AND DEFLECTION ANALYSIS\", \n",
    "      references=[\"ASTM E1300-16 STANDARD PRACTICE\"],\n",
    "      project_name_location=\"PROJECT NAME - Project Location\")\n",
    "Display()"
   ]
  },
  {
   "cell_type": "code",
   "execution_count": 15,
   "id": "unexpected-rochester",
   "metadata": {},
   "outputs": [
    {
     "data": {
      "text/markdown": [
       "<div style='text-align: left;'><div style='font-family:Times New Roman, Arial;font-size:12pt;font-style:normal;font-weight:bold;text-decoration:underline;display: inline-block;'>Load Parameters</div><br></div>"
      ],
      "text/plain": [
       "<IPython.core.display.Markdown object>"
      ]
     },
     "metadata": {},
     "output_type": "display_data"
    }
   ],
   "source": [
    "Header(\"Load Parameters\")\n",
    "Display()"
   ]
  },
  {
   "cell_type": "markdown",
   "id": "specialized-junction",
   "metadata": {},
   "source": [
    "<h3>IMAGE TEST</h3>"
   ]
  },
  {
   "cell_type": "code",
   "execution_count": 16,
   "id": "hindu-sigma",
   "metadata": {},
   "outputs": [
    {
     "data": {
      "text/markdown": [
       "<div style='text-align: left;'><div style='display: inline-block;'><figure style='display: inline-block; padding:6px;'><img style='border-width: 1px; border-style: solid;' src='images\\PPPP-CSXX 100 DRAWINGS\\1.01 SEAL 01.jpg' width='300px' height='300px' alt='missing jpg'><figcaption>Drawing Reference: 12.DT.641</figcaption></figure><br><figure style='display: inline-block; padding:6px;'><img style='border-width: 1px; border-style: solid;' src='images\\PPPP-CSXX 100 DRAWINGS\\2.01 IGU 1.png' width='300px' height='300px' alt='missing jpg'><figcaption>Drawing Reference: 11.PE.603</figcaption></figure><br></div></div>"
      ],
      "text/plain": [
       "<IPython.core.display.Markdown object>"
      ]
     },
     "metadata": {},
     "output_type": "display_data"
    }
   ],
   "source": [
    "Image(images=[\"PPPP-CSXX 100 DRAWINGS\\\\1.01 SEAL 01.jpg\", \"PPPP-CSXX 100 DRAWINGS\\\\2.01 IGU 1.png\"], \n",
    "      captions=[\"Drawing Reference: 12.DT.641\", \"Drawing Reference: 11.PE.603\"], \n",
    "      width=\"300px\", \n",
    "      height=\"300px\",\n",
    "      layout=\"vertical\")\n",
    "Display()"
   ]
  },
  {
   "cell_type": "code",
   "execution_count": 17,
   "id": "earlier-departure",
   "metadata": {},
   "outputs": [
    {
     "data": {
      "text/markdown": [
       "<div style='text-align: left;'><div style='display: inline-block;'><figure style='display: inline-block; padding:6px;'><img style='border-width: 1px; border-style: solid;' src='images\\PPPP-CSXX 100 DRAWINGS\\1.01 SEAL 01.jpg' width='300px' height='300px' alt='missing jpg'><figcaption>Drawing Reference: 12.DT.641</figcaption></figure><figure style='display: inline-block; padding:6px;'><img style='border-width: 1px; border-style: solid;' src='images\\PPPP-CSXX 100 DRAWINGS\\2.01 IGU 1.png' width='300px' height='300px' alt='missing jpg'><figcaption>Drawing Reference: 11.PE.603</figcaption></figure></div></div>"
      ],
      "text/plain": [
       "<IPython.core.display.Markdown object>"
      ]
     },
     "metadata": {},
     "output_type": "display_data"
    }
   ],
   "source": [
    "Image(images=[\"PPPP-CSXX 100 DRAWINGS\\\\1.01 SEAL 01.jpg\", \"PPPP-CSXX 100 DRAWINGS\\\\2.01 IGU 1.png\"], \n",
    "      captions=[\"Drawing Reference: 12.DT.641\", \"Drawing Reference: 11.PE.603\"], \n",
    "      width=\"300px\", \n",
    "      height=\"300px\")\n",
    "Display()"
   ]
  },
  {
   "cell_type": "markdown",
   "id": "internal-forward",
   "metadata": {},
   "source": [
    "<h3>Compare Test</h3>"
   ]
  },
  {
   "cell_type": "code",
   "execution_count": 18,
   "id": "confused-pepper",
   "metadata": {},
   "outputs": [
    {
     "name": "stdout",
     "output_type": "stream",
     "text": [
      "One of the expressions has unknown variables\n"
     ]
    },
    {
     "data": {
      "text/markdown": [
       "<div style='text-align: left;'><div><div style='font_size: 12pt; display: inline-block; vertical-align:top;'>$$x = 4 \\cdot mm$$</div><div float:left; style='overflow:hidden;height:1px;width:2in; display: inline-block;'></div><div style='display: inline-block;'></div></div><div><div style='font_size: 12pt; display: inline-block; vertical-align:top;'>$$y = 4 \\cdot km$$</div><div float:left; style='overflow:hidden;height:1px;width:2in; display: inline-block;'></div><div style='display: inline-block;'></div></div><div><div style='font_size: 12pt; display: inline-block; vertical-align:top;'>$$z = 4 \\cdot mm$$</div><div float:left; style='overflow:hidden;height:1px;width:2in; display: inline-block;'></div><div style='display: inline-block;'></div></div><div><div style='font_size: 12pt; display: inline-block; vertical-align:top;'>$$v = 4 \\cdot mm + unknown$$</div><div float:left; style='overflow:hidden;height:1px;width:2in; display: inline-block;'></div><div style='display: inline-block;'></div></div><div><div style='font-family:Times New Roman, Arial;font-size:12pt;font-style:normal;font-weight:normal;text-decoration:none;display: inline-block;'>Comparing,</div><br><br><div style='font_size: 12pt; display: inline-block; vertical-align:top;'>$$x = 4 \\cdot mm$$</div><div float:left; style='overflow:hidden;height:1px;width:12pt; display: inline-block;'></div><div style='font-family:Times New Roman, Arial;font-size:12pt;font-style:italic;font-weight:bold;text-decoration:none;display: inline-block;'><</div><div float:left; style='overflow:hidden;height:1px;width:12pt; display: inline-block;'></div><div style='font_size: 12pt; display: inline-block; vertical-align:top;'>$$y = 4 \\cdot km$$</div><br><div style='font-family:Times New Roman, Arial;font-size:12pt;font-style:normal;font-weight:normal;text-decoration:none;display: inline-block;'>Since the description of x is less than the description of y</div><br><div style='font-family:Times New Roman, Arial;font-size:12pt;font-style:normal;font-weight:bold;text-decoration:underline;display: inline-block;'>THE COMPONENT IS CONCLUSION</div></div><div><div style='font-family:Times New Roman, Arial;font-size:12pt;font-style:normal;font-weight:normal;text-decoration:none;display: inline-block;'>Comparing,</div><br><br><div style='font_size: 12pt; display: inline-block; vertical-align:top;'>$$x = 4 \\cdot mm$$</div><div float:left; style='overflow:hidden;height:1px;width:12pt; display: inline-block;'></div><div style='font-family:Times New Roman, Arial;font-size:12pt;font-style:italic;font-weight:bold;text-decoration:none;display: inline-block;'><</div><div float:left; style='overflow:hidden;height:1px;width:12pt; display: inline-block;'></div><div style='font_size: 12pt; display: inline-block; vertical-align:top;'>$$y = 4 \\cdot km$$</div><br><div style='font-family:Times New Roman, Arial;font-size:12pt;font-style:normal;font-weight:normal;text-decoration:none;display: inline-block;'>Since the description of x is less than the description of y</div><br><div style='font-family:Times New Roman, Arial;font-size:12pt;font-style:normal;font-weight:bold;text-decoration:underline;display: inline-block;'>THE COMPONENT IS NOT CONCLUSION</div></div><div><div style='font-family:Times New Roman, Arial;font-size:12pt;font-style:normal;font-weight:normal;text-decoration:none;display: inline-block;'>Comparing,</div><br><br><div style='font_size: 12pt; display: inline-block; vertical-align:top;'>$$y = 4 \\cdot km$$</div><div float:left; style='overflow:hidden;height:1px;width:12pt; display: inline-block;'></div><div style='font-family:Times New Roman, Arial;font-size:12pt;font-style:italic;font-weight:bold;text-decoration:none;display: inline-block;'>></div><div float:left; style='overflow:hidden;height:1px;width:12pt; display: inline-block;'></div><div style='font_size: 12pt; display: inline-block; vertical-align:top;'>$$x = 4 \\cdot mm$$</div><br><div style='font-family:Times New Roman, Arial;font-size:12pt;font-style:normal;font-weight:normal;text-decoration:none;display: inline-block;'>Since the description of y is greater than the description of y</div><br><div style='font-family:Times New Roman, Arial;font-size:12pt;font-style:normal;font-weight:bold;text-decoration:underline;display: inline-block;'>THE COMPONENT IS CONCLUSION</div></div><div><div style='font-family:Times New Roman, Arial;font-size:12pt;font-style:normal;font-weight:normal;text-decoration:none;display: inline-block;'>Comparing,</div><br><br><div style='font_size: 12pt; display: inline-block; vertical-align:top;'>$$x = 4 \\cdot mm$$</div><div float:left; style='overflow:hidden;height:1px;width:12pt; display: inline-block;'></div><div style='font-family:Times New Roman, Arial;font-size:12pt;font-style:italic;font-weight:bold;text-decoration:none;display: inline-block;'>=</div><div float:left; style='overflow:hidden;height:1px;width:12pt; display: inline-block;'></div><div style='font_size: 12pt; display: inline-block; vertical-align:top;'>$$z = 4 \\cdot mm$$</div><br><div style='font-family:Times New Roman, Arial;font-size:12pt;font-style:normal;font-weight:normal;text-decoration:none;display: inline-block;'>Since the description of x is equal the description of y</div><br><div style='font-family:Times New Roman, Arial;font-size:12pt;font-style:normal;font-weight:bold;text-decoration:underline;display: inline-block;'>THE COMPONENT IS CONCLUSION</div></div></div>"
      ],
      "text/plain": [
       "<IPython.core.display.Markdown object>"
      ]
     },
     "metadata": {},
     "output_type": "display_data"
    }
   ],
   "source": [
    "Equation(\"x = 4 * mm\")\n",
    "Equation(\"y = 4 * km\")\n",
    "Equation(\"z = 4 * mm\")\n",
    "Equation(\"v = unknown + 4 * mm\")\n",
    "\n",
    "Compare(\"x\", \"y\", \"<\", \n",
    "        desc_var1=\"description of x\", \n",
    "        desc_var2=\"description of y\", \n",
    "        component=\"component\", \n",
    "        conclusion=\"Conclusion\")\n",
    "Compare(\"x\", \"y\", \">\", \n",
    "        desc_var1=\"description of x\", \n",
    "        desc_var2=\"description of y\", \n",
    "        component=\"component\", \n",
    "        conclusion=\"Conclusion\")\n",
    "Compare(\"y\", \"x\", \">\", \n",
    "        desc_var1=\"description of y\", \n",
    "        desc_var2=\"description of y\", \n",
    "        component=\"component\", \n",
    "        conclusion=\"Conclusion\")\n",
    "Compare(\"x\", \"z\", \"=\", \n",
    "        desc_var1=\"description of x\", \n",
    "        desc_var2=\"description of y\", \n",
    "        component=\"component\", \n",
    "        conclusion=\"Conclusion\")\n",
    "Compare(\"x\", \"v\", \"=\", \n",
    "        desc_var1=\"description of x\", \n",
    "        desc_var2=\"description of y\", \n",
    "        component=\"component\", \n",
    "        conclusion=\"Conclusion\")\n",
    "Display()"
   ]
  },
  {
   "cell_type": "code",
   "execution_count": 19,
   "id": "greek-adams",
   "metadata": {},
   "outputs": [
    {
     "data": {
      "text/markdown": [
       "<div style='text-align: left;'><div style='font-family:Times New Roman, Arial;font-size:12pt;font-style:normal;font-weight:bold;text-decoration:underline;display: inline-block;'>THUS, THE COMPONENT IS NOT IS STRUCTURALLY ADEQUATE</div></div>"
      ],
      "text/plain": [
       "<IPython.core.display.Markdown object>"
      ]
     },
     "metadata": {},
     "output_type": "display_data"
    }
   ],
   "source": [
    "Conclude(\"Component\", \"IS STRUCTURALLY ADEQUATE\")\n",
    "Display()"
   ]
  },
  {
   "cell_type": "code",
   "execution_count": 20,
   "id": "headed-enzyme",
   "metadata": {},
   "outputs": [
    {
     "data": {
      "text/markdown": [
       "<div style='text-align: left;'><table><caption style='text-align: center; color: black; font-weight: bold;'>Table 2 Glass Type Factors (GTF) for Double Glazed Insulating Glass (IG), Short Duration Load</caption><tbody><tr><td rowspan=3 colspan=1 style='text-align: center; background: #ffffff; border-top-width: 1px; border-top-style: solid; border-bottom-width: 1px; border-bottom-style: solid;'>Exterior Lite, <br> Monolithic Glass or <br> Laminated Glass Type</td><td rowspan=1 colspan=6 style='text-align: center; background: #ffffff; border-top-width: 1px; border-top-style: solid; border-bottom-width: 1px; border-bottom-style: solid;'>Interior Lite, Monolithic Glass or Laminated Glass Type</td></tr><tr><td rowspan=1 colspan=2 style='text-align: center; background: #ffffff; border-top-width: 1px; border-top-style: solid; border-bottom-width: 1px; border-bottom-style: solid;'>AN</td><td rowspan=1 colspan=2 style='text-align: center; background: #ffffff; border-top-width: 1px; border-top-style: solid; border-bottom-width: 1px; border-bottom-style: solid;'>HS</td><td rowspan=1 colspan=2 style='text-align: center; background: #ffffff; border-top-width: 1px; border-top-style: solid; border-bottom-width: 1px; border-bottom-style: solid;'>FT</td></tr><tr><td rowspan=1 colspan=1 style='text-align: center; background: #ffffff; border-top-width: 1px; border-top-style: solid; border-bottom-width: 1px; border-bottom-style: solid;'>GTFe</td><td rowspan=1 colspan=1 style='text-align: center; background: #ffffff; border-top-width: 1px; border-top-style: solid; border-bottom-width: 1px; border-bottom-style: solid;'>GTFi</td><td rowspan=1 colspan=1 style='text-align: center; background: #ffffff; border-top-width: 1px; border-top-style: solid; border-bottom-width: 1px; border-bottom-style: solid;'>GTFe</td><td rowspan=1 colspan=1 style='text-align: center; background: #ffffff; border-top-width: 1px; border-top-style: solid; border-bottom-width: 1px; border-bottom-style: solid;'>GTFi</td><td rowspan=1 colspan=1 style='text-align: center; background: #ffffff; border-top-width: 1px; border-top-style: solid; border-bottom-width: 1px; border-bottom-style: solid;'>GTFe</td><td rowspan=1 colspan=1 style='text-align: center; background: #ffffff; border-top-width: 1px; border-top-style: solid; border-bottom-width: 1px; border-bottom-style: solid;'>GTFi</td></tr><tr><td rowspan=1 colspan=1 style='text-align: center; background: #ffffff; border-top-width: 1px; border-top-style: solid; border-bottom-width: 1px; border-bottom-style: solid;'>Annealed (AN)</td><td rowspan=1 colspan=1 style='text-align: center; background: #ffffff; border-top-width: 1px; border-top-style: solid; border-bottom-width: 1px; border-bottom-style: solid;'>0.9</td><td rowspan=1 colspan=1 style='text-align: center; background: #ffffff; border-top-width: 1px; border-top-style: solid; border-bottom-width: 1px; border-bottom-style: solid;'>0.9</td><td rowspan=1 colspan=1 style='text-align: center; background: #ffffff; border-top-width: 1px; border-top-style: solid; border-bottom-width: 1px; border-bottom-style: solid;'>1.0</td><td rowspan=1 colspan=1 style='text-align: center; background: #ffffff; border-top-width: 1px; border-top-style: solid; border-bottom-width: 1px; border-bottom-style: solid;'>1.9</td><td rowspan=1 colspan=1 style='text-align: center; background: #ffffff; border-top-width: 1px; border-top-style: solid; border-bottom-width: 1px; border-bottom-style: solid;'>1.0</td><td rowspan=1 colspan=1 style='text-align: center; background: #ffffff; border-top-width: 1px; border-top-style: solid; border-bottom-width: 1px; border-bottom-style: solid;'>3.8</td></tr><tr><td rowspan=1 colspan=1 style='text-align: center; background: #ffffff; border-top-width: 1px; border-top-style: solid; border-bottom-width: 1px; border-bottom-style: solid;'>HeatStrengthened (HS)</td><td rowspan=1 colspan=1 style='text-align: center; background: #ffffff; border-top-width: 1px; border-top-style: solid; border-bottom-width: 1px; border-bottom-style: solid;'>1.9</td><td rowspan=1 colspan=1 style='text-align: center; background: #ffffff; border-top-width: 1px; border-top-style: solid; border-bottom-width: 1px; border-bottom-style: solid;'>1.0</td><td rowspan=1 colspan=1 style='text-align: center; background: #ffffff; border-top-width: 1px; border-top-style: solid; border-bottom-width: 1px; border-bottom-style: solid;'>1.8</td><td rowspan=1 colspan=1 style='text-align: center; background: #ffffff; border-top-width: 1px; border-top-style: solid; border-bottom-width: 1px; border-bottom-style: solid;'>1.8</td><td rowspan=1 colspan=1 style='text-align: center; background: #ffffff; border-top-width: 1px; border-top-style: solid; border-bottom-width: 1px; border-bottom-style: solid;'>1.9</td><td rowspan=1 colspan=1 style='text-align: center; background: #ffffff; border-top-width: 1px; border-top-style: solid; border-bottom-width: 1px; border-bottom-style: solid;'>3.8</td></tr><tr><td rowspan=1 colspan=1 style='text-align: center; background: #ffffff; border-top-width: 1px; border-top-style: solid; border-bottom-width: 1px; border-bottom-style: solid;'>HeatStrengthened (HS)</td><td rowspan=1 colspan=1 style='text-align: center; background: #ffffff; border-top-width: 1px; border-top-style: solid; border-bottom-width: 1px; border-bottom-style: solid;'>0.9</td><td rowspan=1 colspan=1 style='text-align: center; background: #ffffff; border-top-width: 1px; border-top-style: solid; border-bottom-width: 1px; border-bottom-style: solid;'>0.9</td><td rowspan=1 colspan=1 style='text-align: center; background: #ffffff; border-top-width: 1px; border-top-style: solid; border-bottom-width: 1px; border-bottom-style: solid;'>1.0</td><td rowspan=1 colspan=1 style='text-align: center; background: #ffffff; border-top-width: 1px; border-top-style: solid; border-bottom-width: 1px; border-bottom-style: solid;'>1.9</td><td rowspan=1 colspan=1 style='text-align: center; background: #ffffff; border-top-width: 1px; border-top-style: solid; border-bottom-width: 1px; border-bottom-style: solid;'>1.0</td><td rowspan=1 colspan=1 style='text-align: center; background: #ffffff; border-top-width: 1px; border-top-style: solid; border-bottom-width: 1px; border-bottom-style: solid;'>3.8</td></tr></tbody></table></div>"
      ],
      "text/plain": [
       "<IPython.core.display.Markdown object>"
      ]
     },
     "metadata": {},
     "output_type": "display_data"
    }
   ],
   "source": [
    "table_data = [\n",
    "    [{\"data\": \"Exterior Lite, <br> Monolithic Glass or <br> Laminated Glass Type\", \"rowspan\": 3},\n",
    "     {\"data\": \"Interior Lite, Monolithic Glass or Laminated Glass Type\", \"colspan\": 6}],\n",
    "    [{\"data\": \"AN\", \"colspan\": 2}, \n",
    "     {\"data\": \"HS\", \"colspan\": 2}, \n",
    "     {\"data\": \"FT\", \"colspan\": 2}],\n",
    "    [{\"data\": \"GTFe\"}, \n",
    "     {\"data\": \"GTFi\"},\n",
    "     {\"data\": \"GTFe\"},\n",
    "     {\"data\": \"GTFi\"},\n",
    "     {\"data\": \"GTFe\"},\n",
    "     {\"data\": \"GTFi\"}]\n",
    "]\n",
    "\n",
    "annealed1 = [\"Annealed (AN)\", 0.9, 0.9, 1.0, 1.9, 1.0, 3.8]\n",
    "heatstrengthened = [\"HeatStrengthened (HS)\", 1.9, 1.0, 1.8, 1.8, 1.9, 3.8]\n",
    "annealed2 = [\"HeatStrengthened (HS)\", 0.9, 0.9, 1.0, 1.9, 1.0, 3.8]\n",
    "\n",
    "res_list1 = []\n",
    "res_list2 = []\n",
    "res_list3 = []\n",
    "\n",
    "for data_list1, data_list2, data_list3 in zip(annealed1, heatstrengthened, annealed2):\n",
    "    res_list1.append({\"data\": data_list1})\n",
    "    res_list2.append({\"data\": data_list2})\n",
    "    res_list3.append({\"data\": data_list3})\n",
    "\n",
    "table_data.append(res_list1)\n",
    "table_data.append(res_list2)\n",
    "table_data.append(res_list3)\n",
    "\n",
    "\n",
    "caption = \"Table 2 Glass Type Factors (GTF) for Double Glazed Insulating Glass (IG), Short Duration Load\"\n",
    "Table(table_data, caption)\n",
    "Display()"
   ]
  },
  {
   "cell_type": "code",
   "execution_count": 21,
   "id": "stainless-tamil",
   "metadata": {},
   "outputs": [
    {
     "data": {
      "text/markdown": [
       "<div style='text-align: left;'><table><caption style='text-align: center; color: black; font-weight: bold;'>Table 2 Glass Type Factors (GTF) for Double Glazed Insulating Glass (IG), Short Duration Load</caption><tbody><tr><td rowspan=3 colspan=1 style='text-align: center; background: #ffffff; border-top-width: 1px; border-top-style: solid; border-bottom-width: 1px; border-bottom-style: solid;'>Exterior Lite, <br> Monolithic Glass or <br> Laminated Glass Type</td><td rowspan=1 colspan=6 style='text-align: center; background: #ffffff; border-top-width: 1px; border-top-style: solid; border-bottom-width: 1px; border-bottom-style: solid;'>Interior Lite, Monolithic Glass or Laminated Glass Type</td></tr><tr><td rowspan=1 colspan=2 style='text-align: center; background: #ffffff; border-top-width: 1px; border-top-style: solid; border-bottom-width: 1px; border-bottom-style: solid;'>AN</td><td rowspan=1 colspan=2 style='text-align: center; background: #ffffff; border-top-width: 1px; border-top-style: solid; border-bottom-width: 1px; border-bottom-style: solid;'>HS</td><td rowspan=1 colspan=2 style='text-align: center; background: #ffffff; border-top-width: 1px; border-top-style: solid; border-bottom-width: 1px; border-bottom-style: solid;'>FT</td></tr><tr><td rowspan=1 colspan=1 style='text-align: center; background: #ffffff; border-top-width: 1px; border-top-style: solid; border-bottom-width: 1px; border-bottom-style: solid;'>GTFe</td><td rowspan=1 colspan=1 style='text-align: center; background: #ffffff; border-top-width: 1px; border-top-style: solid; border-bottom-width: 1px; border-bottom-style: solid;'>GTFi</td><td rowspan=1 colspan=1 style='text-align: center; background: #ffffff; border-top-width: 1px; border-top-style: solid; border-bottom-width: 1px; border-bottom-style: solid;'>GTFe</td><td rowspan=1 colspan=1 style='text-align: center; background: #ffffff; border-top-width: 1px; border-top-style: solid; border-bottom-width: 1px; border-bottom-style: solid;'>GTFi</td><td rowspan=1 colspan=1 style='text-align: center; background: #ffffff; border-top-width: 1px; border-top-style: solid; border-bottom-width: 1px; border-bottom-style: solid;'>GTFe</td><td rowspan=1 colspan=1 style='text-align: center; background: #ffffff; border-top-width: 1px; border-top-style: solid; border-bottom-width: 1px; border-bottom-style: solid;'>GTFi</td></tr><tr><td rowspan=1 colspan=1 style='text-align: center; background: #ffffff; border-top-width: 1px; border-top-style: solid; border-bottom-width: 1px; border-bottom-style: solid;'>Annealed (AN)</td><td rowspan=1 colspan=1 style='text-align: center; background: #ffffff; border-top-width: 1px; border-top-style: solid; border-bottom-width: 1px; border-bottom-style: solid;'>0.9</td><td rowspan=1 colspan=1 style='text-align: center; background: #ffffff; border-top-width: 1px; border-top-style: solid; border-bottom-width: 1px; border-bottom-style: solid;'>0.9</td><td rowspan=1 colspan=1 style='text-align: center; background: #ffffff; border-top-width: 1px; border-top-style: solid; border-bottom-width: 1px; border-bottom-style: solid;'>1.0</td><td rowspan=1 colspan=1 style='text-align: center; background: #ffffff; border-top-width: 1px; border-top-style: solid; border-bottom-width: 1px; border-bottom-style: solid;'>1.9</td><td rowspan=1 colspan=1 style='text-align: center; background: #ffffff; border-top-width: 1px; border-top-style: solid; border-bottom-width: 1px; border-bottom-style: solid;'>1.0</td><td rowspan=1 colspan=1 style='text-align: center; background: #ffffff; border-top-width: 1px; border-top-style: solid; border-bottom-width: 1px; border-bottom-style: solid;'>3.8</td></tr><tr><td rowspan=1 colspan=1 style='text-align: center; background: #ffffff; border-top-width: 1px; border-top-style: solid; border-bottom-width: 1px; border-bottom-style: solid;'>HeatStrengthened (HS)</td><td rowspan=1 colspan=1 style='text-align: center; background: #ffffff; border-top-width: 1px; border-top-style: solid; border-bottom-width: 1px; border-bottom-style: solid;'>1.9</td><td rowspan=1 colspan=1 style='text-align: center; background: #ffffff; border-top-width: 1px; border-top-style: solid; border-bottom-width: 1px; border-bottom-style: solid;'>1.0</td><td rowspan=1 colspan=1 style='text-align: center; background: #ffffff; border-top-width: 1px; border-top-style: solid; border-bottom-width: 1px; border-bottom-style: solid;'>1.8</td><td rowspan=1 colspan=1 style='text-align: center; background: #ffffff; border-top-width: 1px; border-top-style: solid; border-bottom-width: 1px; border-bottom-style: solid;'>1.8</td><td rowspan=1 colspan=1 style='text-align: center; background: #ffffff; border-top-width: 1px; border-top-style: solid; border-bottom-width: 1px; border-bottom-style: solid;'>1.9</td><td rowspan=1 colspan=1 style='text-align: center; background: #ffffff; border-top-width: 1px; border-top-style: solid; border-bottom-width: 1px; border-bottom-style: solid;'>3.8</td></tr><tr><td rowspan=1 colspan=1 style='text-align: center; background: #ffffff; border-top-width: 1px; border-top-style: solid; border-bottom-width: 1px; border-bottom-style: solid;'>HeatStrengthened (HS)</td><td rowspan=1 colspan=1 style='text-align: center; background: #ffffff; border-top-width: 1px; border-top-style: solid; border-bottom-width: 1px; border-bottom-style: solid;'>0.9</td><td rowspan=1 colspan=1 style='text-align: center; background: #ffffff; border-top-width: 1px; border-top-style: solid; border-bottom-width: 1px; border-bottom-style: solid;'>0.9</td><td rowspan=1 colspan=1 style='text-align: center; background: #ffffff; border-top-width: 1px; border-top-style: solid; border-bottom-width: 1px; border-bottom-style: solid;'>1.0</td><td rowspan=1 colspan=1 style='text-align: center; background: #ffffff; border-top-width: 1px; border-top-style: solid; border-bottom-width: 1px; border-bottom-style: solid;'>1.9</td><td rowspan=1 colspan=1 style='text-align: center; background: #ffffff; border-top-width: 1px; border-top-style: solid; border-bottom-width: 1px; border-bottom-style: solid;'>1.0</td><td rowspan=1 colspan=1 style='text-align: center; background: #ffffff; border-top-width: 1px; border-top-style: solid; border-bottom-width: 1px; border-bottom-style: solid;'>3.8</td></tr></tbody></table></div>"
      ],
      "text/plain": [
       "<IPython.core.display.Markdown object>"
      ]
     },
     "metadata": {},
     "output_type": "display_data"
    }
   ],
   "source": [
    "table_data = [\n",
    "    [\n",
    "        {\"data\": \"Exterior Lite, <br> Monolithic Glass or <br> Laminated Glass Type\", \"rowspan\": 3},\n",
    "        {\"data\": \"Interior Lite, Monolithic Glass or Laminated Glass Type\", \"colspan\": 6}\n",
    "    ],\n",
    "    [\n",
    "        {\"data\": \"AN\", \"colspan\": 2}, \n",
    "        {\"data\": \"HS\", \"colspan\": 2}, \n",
    "        {\"data\": \"FT\", \"colspan\": 2}\n",
    "    ],\n",
    "    [\n",
    "        {\"data\": \"GTFe\"}, \n",
    "        {\"data\": \"GTFi\"},\n",
    "        {\"data\": \"GTFe\"},\n",
    "        {\"data\": \"GTFi\"},\n",
    "        {\"data\": \"GTFe\"},\n",
    "        {\"data\": \"GTFi\"}],\n",
    "    [\n",
    "        {\"data\": \"Annealed (AN)\"}, \n",
    "        {\"data\": 0.9}, \n",
    "        {\"data\": 0.9}, \n",
    "        {\"data\": 1.0}, \n",
    "        {\"data\" :1.9}, \n",
    "        {\"data\": 1.0}, \n",
    "        {\"data\": 3.8}\n",
    "    ],\n",
    "    [\n",
    "        {\"data\": \"HeatStrengthened (HS)\"}, \n",
    "        {\"data\": 1.9}, {\"data\": 1.0}, \n",
    "        {\"data\": 1.8}, {\"data\": 1.8}, \n",
    "        {\"data\": 1.9}, {\"data\": 3.8}\n",
    "    ],\n",
    "    [\n",
    "        {\"data\": \"HeatStrengthened (HS)\"}, \n",
    "        {\"data\": 0.9}, \n",
    "        {\"data\": 0.9}, \n",
    "        {\"data\": 1.0}, \n",
    "        {\"data\": 1.9}, \n",
    "        {\"data\": 1.0}, \n",
    "        {\"data\": 3.8}\n",
    "    ]\n",
    "]\n",
    "caption = \"Table 2 Glass Type Factors (GTF) for Double Glazed Insulating Glass (IG), Short Duration Load\"\n",
    "Table(table_data, caption)\n",
    "Display()"
   ]
  },
  {
   "cell_type": "code",
   "execution_count": null,
   "id": "figured-migration",
   "metadata": {},
   "outputs": [],
   "source": []
  }
 ],
 "metadata": {
  "kernelspec": {
   "display_name": "Python 3",
   "language": "python",
   "name": "python3"
  },
  "language_info": {
   "codemirror_mode": {
    "name": "ipython",
    "version": 3
   },
   "file_extension": ".py",
   "mimetype": "text/x-python",
   "name": "python",
   "nbconvert_exporter": "python",
   "pygments_lexer": "ipython3",
   "version": "3.7.2"
  }
 },
 "nbformat": 4,
 "nbformat_minor": 5
}
