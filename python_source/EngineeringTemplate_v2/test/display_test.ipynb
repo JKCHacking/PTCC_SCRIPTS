{
 "cells": [
  {
   "cell_type": "code",
   "execution_count": 1,
   "id": "selected-viewer",
   "metadata": {},
   "outputs": [
    {
     "data": {
      "text/html": [
       "<style> div.output_subarea {padding: 0; overflow-x: clip;}</style>"
      ],
      "text/plain": [
       "<IPython.core.display.HTML object>"
      ]
     },
     "metadata": {},
     "output_type": "display_data"
    }
   ],
   "source": [
    "import os\n",
    "import sys\n",
    "import sympy.physics.units as UNITS\n",
    "\n",
    "PTCC_MODULE_LOCAL = \"H:\\\\Desktop\\\\PTCC_SCRIPTS\\\\python_source\\\\EngineeringTemplate_v2\\\\src\"\n",
    "if PTCC_MODULE_LOCAL not in sys.path:\n",
    "    sys.path.append(PTCC_MODULE_LOCAL)\n",
    "\n",
    "EQUATION_ANNOTATION_SPACE = \"2in\"\n",
    "FONT_NAME = \"Times New Roman\"\n",
    "FONT_SIZE = \"12pt\"\n",
    "IMAGE_FOLDER_NAME = \"images\"\n",
    "\n",
    "# PTCC module specific imports\n",
    "from ptcc_module import Controller\n",
    "\n",
    "# customize jupyter css\n",
    "Controller.edit_jupyter_css()\n",
    "\n",
    "# renaming PTCC module API functions to Jupyter Functions\n",
    "controller = Controller(FONT_NAME, FONT_SIZE, EQUATION_ANNOTATION_SPACE, IMAGE_FOLDER_NAME)\n",
    "Equation = controller.create_equation\n",
    "Recall = controller.recall_equation\n",
    "Text = controller.create_text\n",
    "Vspace = controller.create_vertical_space\n",
    "Hspace = controller.create_horizontal_space\n",
    "Display = controller.display_output\n",
    "AddEquation = controller.add_eq_to_namespace"
   ]
  },
  {
   "cell_type": "markdown",
   "id": "geological-police",
   "metadata": {},
   "source": [
    "<h3>EQUATION TEST</h3>"
   ]
  },
  {
   "cell_type": "code",
   "execution_count": 2,
   "id": "desirable-collins",
   "metadata": {},
   "outputs": [
    {
     "data": {
      "text/markdown": [
       "<div style='text-align: left'><div><div style='font_size: 12pt; display: inline-block; vertical-align:top;'>$$q = 4.49 \\cdot kPa$$</div><div float:left; style='overflow:hidden;height:1px;width:2in; display: inline-block;'></div><div style='display: inline-block;'><div style='font-family:Times New Roman, Arial;font-size:12pt;font-style:normal;font-weight:normal;text-decoration:none;display: inline-block;'>Some text</div><br><div style='font-family:Times New Roman, Arial;font-size:12pt;font-style:italic;font-weight:normal;text-decoration:none;display: inline-block;'>some text</div><br></div></div><div><div style='font_size:12pt; display: inline-block; vertical-align:top;'><div>$$DoubleQ = 2 \\cdot q$$</div><div>$$DoubleQ = 8.98 \\cdot kPa$$</div></div><div float:left; style='overflow:hidden;height:1px;width:2in; display: inline-block;'></div><div style='display: inline-block;'></div></div><div><div style='font_size:12pt; display: inline-block; vertical-align:top;'>$$DoubleQ = 2 \\cdot q = 8.98 \\cdot kPa$$</div><div float:left; style='overflow:hidden;height:1px;width:2in; display: inline-block;'></div><div style='display: inline-block;'></div></div></div>"
      ],
      "text/plain": [
       "<IPython.core.display.Markdown object>"
      ]
     },
     "metadata": {},
     "output_type": "display_data"
    }
   ],
   "source": [
    "Equation(\"q = 4.49 * kPa\", annotations=[\"Some text\", \"some text\"])\n",
    "Equation(\"DoubleQ = 2 * q\", simplify=True)\n",
    "Equation(\"DoubleQ = 2 * q\", inline=True, simplify=True)\n",
    "Display()"
   ]
  },
  {
   "cell_type": "code",
   "execution_count": 3,
   "id": "sustainable-occasion",
   "metadata": {},
   "outputs": [
    {
     "data": {
      "text/markdown": [
       "<div style='text-align: left'><div><div style='font_size: 12pt; display: inline-block; vertical-align:top;'>$$q = 4.49 \\cdot kPa$$</div><div float:left; style='overflow:hidden;height:1px;width:2in; display: inline-block;'></div><div style='display: inline-block;'></div></div><div><div style='font_size:12pt; display: inline-block; vertical-align:top;'><div>$$z = 2 \\cdot DoubleQ$$</div><div>$$z = 17.96 \\cdot kPa$$</div></div><div float:left; style='overflow:hidden;height:1px;width:2in; display: inline-block;'></div><div style='display: inline-block;'></div></div></div>"
      ],
      "text/plain": [
       "<IPython.core.display.Markdown object>"
      ]
     },
     "metadata": {},
     "output_type": "display_data"
    }
   ],
   "source": [
    "q = Equation(\"q = 4.49 * kPa\")\n",
    "\n",
    "# use the function to interface python variable\n",
    "AddEquation(DoubleQ = 2 * q)\n",
    "\n",
    "z = Equation(\"z = DoubleQ * 2\", simplify=True)\n",
    "Display()"
   ]
  },
  {
   "cell_type": "markdown",
   "id": "quick-listening",
   "metadata": {},
   "source": [
    "<h3>RECALL TEST</h3>"
   ]
  },
  {
   "cell_type": "code",
   "execution_count": 4,
   "id": "fresh-france",
   "metadata": {},
   "outputs": [
    {
     "data": {
      "text/markdown": [
       "<div style='text-align: left'><div><div style='font_size: 12pt; display: inline-block; vertical-align:top;'>$$y = b + m_{1} \\cdot x$$</div><div float:left; style='overflow:hidden;height:1px;width:2in; display: inline-block;'></div><div style='display: inline-block;'><div style='font-family:Times New Roman, Arial;font-size:12pt;font-style:normal;font-weight:normal;text-decoration:none;display: inline-block;'>Hello</div><br><div style='font-family:Times New Roman, Arial;font-size:12pt;font-style:italic;font-weight:normal;text-decoration:none;display: inline-block;'>World</div><br></div></div><div><div style='font_size: 12pt; display: inline-block; vertical-align:top;'>$$y = b + m_{1} \\cdot x$$</div><div float:left; style='overflow:hidden;height:1px;width:2in; display: inline-block;'></div><div style='display: inline-block;'><div style='font-family:Times New Roman, Arial;font-size:12pt;font-style:normal;font-weight:normal;text-decoration:none;display: inline-block;'>Hello</div><br><div style='font-family:Times New Roman, Arial;font-size:12pt;font-style:italic;font-weight:normal;text-decoration:none;display: inline-block;'>World</div><br></div></div></div>"
      ],
      "text/plain": [
       "<IPython.core.display.Markdown object>"
      ]
     },
     "metadata": {},
     "output_type": "display_data"
    }
   ],
   "source": [
    "Equation(\"y = m_1 * x + b\", annotations=[\"Hello\", \"World\"])\n",
    "Recall(\"y\")\n",
    "Display()"
   ]
  },
  {
   "cell_type": "code",
   "execution_count": 5,
   "id": "valuable-cathedral",
   "metadata": {},
   "outputs": [
    {
     "data": {
      "text/markdown": [
       "<div style='text-align: left'><div><div style='font_size: 12pt; display: inline-block; vertical-align:top;'>$$x = 1.0 \\cdot m$$</div><div float:left; style='overflow:hidden;height:1px;width:2in; display: inline-block;'></div><div style='display: inline-block;'><div style='font-family:Times New Roman, Arial;font-size:12pt;font-style:normal;font-weight:normal;text-decoration:none;display: inline-block;'>A</div><br><div style='font-family:Times New Roman, Arial;font-size:12pt;font-style:italic;font-weight:normal;text-decoration:none;display: inline-block;'>B</div><br></div></div></div>"
      ],
      "text/plain": [
       "<IPython.core.display.Markdown object>"
      ]
     },
     "metadata": {},
     "output_type": "display_data"
    },
    {
     "data": {
      "text/markdown": [
       "<div style='text-align: left'><div><div style='font_size: 12pt; display: inline-block; vertical-align:top;'>$$w = 1.0 \\cdot m$$</div><div float:left; style='overflow:hidden;height:1px;width:2in; display: inline-block;'></div><div style='display: inline-block;'></div></div><div><div style='font_size:12pt; display: inline-block; vertical-align:top;'><div>$$y = w + x$$</div><div>$$y = 2.0 \\cdot m$$</div></div><div float:left; style='overflow:hidden;height:1px;width:2in; display: inline-block;'></div><div style='display: inline-block;'><div style='font-family:Times New Roman, Arial;font-size:12pt;font-style:normal;font-weight:normal;text-decoration:none;display: inline-block;'>Annots1</div><br><div style='font-family:Times New Roman, Arial;font-size:12pt;font-style:italic;font-weight:normal;text-decoration:none;display: inline-block;'>Annots2</div><br></div></div><div><div style='font_size: 12pt; display: inline-block; vertical-align:top;'>$$y = 2.0 \\cdot m$$</div><div float:left; style='overflow:hidden;height:1px;width:2in; display: inline-block;'></div><div style='display: inline-block;'><div style='font-family:Times New Roman, Arial;font-size:12pt;font-style:normal;font-weight:normal;text-decoration:none;display: inline-block;'>Annots1</div><br><div style='font-family:Times New Roman, Arial;font-size:12pt;font-style:italic;font-weight:normal;text-decoration:none;display: inline-block;'>Annots2</div><br></div></div></div>"
      ],
      "text/plain": [
       "<IPython.core.display.Markdown object>"
      ]
     },
     "metadata": {},
     "output_type": "display_data"
    }
   ],
   "source": [
    "Equation(\"x = 1.0 * m\", annotations=[\"A\",\"B\"])\n",
    "Display()\n",
    "Equation(\"w = 1.0 * m\")\n",
    "Equation(\"y = x + w\", annotations=[\"Annots1\", \"Annots2\"], simplify=True)\n",
    "Recall(\"y\")\n",
    "Display()"
   ]
  },
  {
   "cell_type": "markdown",
   "id": "arranged-compression",
   "metadata": {},
   "source": [
    "<h3>TEXT TEST</h3>"
   ]
  },
  {
   "cell_type": "code",
   "execution_count": 6,
   "id": "vital-tactics",
   "metadata": {},
   "outputs": [
    {
     "data": {
      "text/markdown": [
       "<div style='text-align: left'><div style='font-family:Times New Roman, Arial;font-size:12pt;font-style:normal;font-weight:normal;text-decoration:none;display: inline-block;'>Normal Text</div><div style='overflow:hidden;height:12pt;width:100%;'></div><div style='font-family:Times New Roman, Arial;font-size:12pt;font-style:normal;font-weight:bold;text-decoration:none;display: inline-block;'>Bold Text</div><div style='overflow:hidden;height:12pt;width:100%;'></div><div style='font-family:Times New Roman, Arial;font-size:12pt;font-style:italic;font-weight:bold;text-decoration:none;display: inline-block;'>Bold Italic Text</div><div style='overflow:hidden;height:12pt;width:100%;'></div><div style='font-family:Times New Roman, Arial;font-size:12pt;font-style:italic;font-weight:bold;text-decoration:underline;display: inline-block;'>Bold Italic Underline</div><div style='overflow:hidden;height:12pt;width:100%;'></div><div style='font-family:Times New Roman, Arial;font-size:15pt;font-style:normal;font-weight:normal;text-decoration:none;display: inline-block;'>BIG TEXT</div><div style='overflow:hidden;height:12pt;width:100%;'></div><div style='font-family:Times New Roman, Arial;font-size:12pt;font-style:normal;font-weight:normal;text-decoration:none;display: inline-block;'>Time New Roman</div></div>"
      ],
      "text/plain": [
       "<IPython.core.display.Markdown object>"
      ]
     },
     "metadata": {},
     "output_type": "display_data"
    }
   ],
   "source": [
    "Text(\"Normal Text\")\n",
    "Vspace(FONT_SIZE)\n",
    "Text(\"Bold Text\", bold=True)\n",
    "Vspace(FONT_SIZE)\n",
    "Text(\"Bold Italic Text\", bold=True, italic=True)\n",
    "Vspace(FONT_SIZE)\n",
    "Text(\"Bold Italic Underline\", bold=True, italic=True, underline=True)\n",
    "Vspace(FONT_SIZE)\n",
    "Text(\"BIG TEXT\", font_size=\"15pt\")\n",
    "Vspace(FONT_SIZE)\n",
    "Text(\"Time New Roman\", font_name=\"Times New Roman\")\n",
    "Display()"
   ]
  },
  {
   "cell_type": "markdown",
   "id": "anticipated-frequency",
   "metadata": {},
   "source": [
    "<h3>SPACE TEST</h3>"
   ]
  },
  {
   "cell_type": "code",
   "execution_count": 7,
   "id": "vocal-frequency",
   "metadata": {
    "scrolled": true
   },
   "outputs": [
    {
     "data": {
      "text/markdown": [
       "<div style='text-align: left'><div style='font-family:Times New Roman, Arial;font-size:12pt;font-style:normal;font-weight:normal;text-decoration:none;display: inline-block;'>Vertical</div><div style='overflow:hidden;height:1in;width:100%;'></div><div style='font-family:Times New Roman, Arial;font-size:12pt;font-style:normal;font-weight:normal;text-decoration:none;display: inline-block;'>Space</div></div>"
      ],
      "text/plain": [
       "<IPython.core.display.Markdown object>"
      ]
     },
     "metadata": {},
     "output_type": "display_data"
    }
   ],
   "source": [
    "Text(\"Vertical\")\n",
    "Vspace(\"1in\")\n",
    "Text(\"Space\")\n",
    "Display()"
   ]
  },
  {
   "cell_type": "code",
   "execution_count": 8,
   "id": "careful-objective",
   "metadata": {},
   "outputs": [
    {
     "data": {
      "text/markdown": [
       "<div style='text-align: left'><div style='font-family:Times New Roman, Arial;font-size:12pt;font-style:normal;font-weight:normal;text-decoration:none;display: inline-block;'>Horizontal</div><div float:left; style='overflow:hidden;height:1px;width:2in; display: inline-block;'></div><div style='font-family:Times New Roman, Arial;font-size:12pt;font-style:normal;font-weight:normal;text-decoration:none;display: inline-block;'>Space</div></div>"
      ],
      "text/plain": [
       "<IPython.core.display.Markdown object>"
      ]
     },
     "metadata": {},
     "output_type": "display_data"
    }
   ],
   "source": [
    "Text(\"Horizontal\")\n",
    "Hspace(\"2in\")\n",
    "Text(\"Space\")\n",
    "Display()"
   ]
  },
  {
   "cell_type": "markdown",
   "id": "crazy-insulin",
   "metadata": {},
   "source": [
    "<h3>Alignment Test</h3>"
   ]
  },
  {
   "cell_type": "code",
   "execution_count": 9,
   "id": "played-cleanup",
   "metadata": {},
   "outputs": [
    {
     "data": {
      "text/markdown": [
       "<div style='text-align: center'><div style='font-family:Times New Roman, Arial;font-size:12pt;font-style:normal;font-weight:normal;text-decoration:none;display: inline-block;'>Center Alignment</div></div>"
      ],
      "text/plain": [
       "<IPython.core.display.Markdown object>"
      ]
     },
     "metadata": {},
     "output_type": "display_data"
    },
    {
     "data": {
      "text/markdown": [
       "<div style='text-align: right'><div style='font-family:Times New Roman, Arial;font-size:12pt;font-style:normal;font-weight:normal;text-decoration:none;display: inline-block;'>Right Alignment</div></div>"
      ],
      "text/plain": [
       "<IPython.core.display.Markdown object>"
      ]
     },
     "metadata": {},
     "output_type": "display_data"
    }
   ],
   "source": [
    "Text(\"Center Alignment\")\n",
    "Display(alignment=\"center\")\n",
    "\n",
    "Text(\"Right Alignment\")\n",
    "Display(alignment=\"right\")"
   ]
  },
  {
   "cell_type": "code",
   "execution_count": null,
   "id": "strange-comment",
   "metadata": {},
   "outputs": [],
   "source": []
  }
 ],
 "metadata": {
  "kernelspec": {
   "display_name": "Python 3",
   "language": "python",
   "name": "python3"
  },
  "language_info": {
   "codemirror_mode": {
    "name": "ipython",
    "version": 3
   },
   "file_extension": ".py",
   "mimetype": "text/x-python",
   "name": "python",
   "nbconvert_exporter": "python",
   "pygments_lexer": "ipython3",
   "version": "3.7.2"
  }
 },
 "nbformat": 4,
 "nbformat_minor": 5
}
